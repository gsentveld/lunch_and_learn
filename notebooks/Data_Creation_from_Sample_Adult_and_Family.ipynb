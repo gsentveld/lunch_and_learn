{
 "cells": [
  {
   "cell_type": "code",
   "execution_count": 1,
   "metadata": {
    "collapsed": false,
    "slideshow": {
     "slide_type": "skip"
    }
   },
   "outputs": [
    {
     "data": {
      "text/plain": [
       "True"
      ]
     },
     "execution_count": 1,
     "metadata": {},
     "output_type": "execute_result"
    }
   ],
   "source": [
    "import os\n",
    "from dotenv import load_dotenv, find_dotenv\n",
    "\n",
    "# find .env automagically by walking up directories until it's found\n",
    "dotenv_path = find_dotenv()\n",
    "\n",
    "# load up the entries as environment variables\n",
    "load_dotenv(dotenv_path)"
   ]
  },
  {
   "cell_type": "markdown",
   "metadata": {
    "slideshow": {
     "slide_type": "slide"
    }
   },
   "source": [
    "### First some environment variables\n",
    "We now use the files that are stored in the RAW directory.\n",
    "\n",
    "If we decide to change the data format by changing names, adding features, created summary data frames etc., we will save those files in the INTERIM directory."
   ]
  },
  {
   "cell_type": "code",
   "execution_count": 2,
   "metadata": {
    "collapsed": false,
    "slideshow": {
     "slide_type": "fragment"
    }
   },
   "outputs": [
    {
     "name": "stdout",
     "output_type": "stream",
     "text": [
      "Project directory is  : /home/gsentveld/lunch_and_learn\n",
      "Raw data directory is : /home/gsentveld/lunch_and_learn/data/raw\n",
      "Interim directory is  : /home/gsentveld/lunch_and_learn/data/interim\n"
     ]
    }
   ],
   "source": [
    "PROJECT_DIR = os.path.dirname(dotenv_path)\n",
    "RAW_DATA_DIR = PROJECT_DIR + os.environ.get(\"RAW_DATA_DIR\")\n",
    "INTERIM_DATA_DIR = PROJECT_DIR + os.environ.get(\"INTERIM_DATA_DIR\")\n",
    "files=os.environ.get(\"FILES\").split()\n",
    "\n",
    "print(\"Project directory is  : {0}\".format(PROJECT_DIR))\n",
    "print(\"Raw data directory is : {0}\".format(RAW_DATA_DIR))\n",
    "print(\"Interim directory is  : {0}\".format(INTERIM_DATA_DIR))"
   ]
  },
  {
   "cell_type": "markdown",
   "metadata": {
    "slideshow": {
     "slide_type": "slide"
    }
   },
   "source": [
    "### Importing pandas and matplotlib.pyplot"
   ]
  },
  {
   "cell_type": "code",
   "execution_count": 3,
   "metadata": {
    "collapsed": false,
    "slideshow": {
     "slide_type": "fragment"
    }
   },
   "outputs": [],
   "source": [
    "# The following jupyter notebook magic makes the plots appear in the notebook. \n",
    "# If you run in batch mode, you have to save your plots as images.\n",
    "%matplotlib inline\n",
    "\n",
    "# matplotlib.pyplot is traditionally imported as plt\n",
    "import matplotlib.pyplot as plt\n",
    "\n",
    "# numpy is imported as np\n",
    "import numpy as np\n",
    "\n",
    "# Pandas is traditionaly imported as pd.\n",
    "import pandas as pd\n",
    "from pylab import rcParams\n",
    "\n",
    "# some display options to size the figures. feel free to experiment\n",
    "pd.set_option('display.max_columns', 25)\n",
    "rcParams['figure.figsize'] = (17, 7)"
   ]
  },
  {
   "cell_type": "markdown",
   "metadata": {
    "slideshow": {
     "slide_type": "slide"
    }
   },
   "source": [
    "### Reading a file in Pandas\n",
    "Reading a CSV file is really easy in Pandas. There are several formats that Pandas can deal with.\n",
    "\n",
    "|Format Type|Data Description|Reader|Writer|\n",
    "|---|---|---|---|\n",
    "|text|CSV|read_csv|to_csv|\n",
    "|text|JSON|read_json|to_json|\n",
    "|text|HTML|read_html|to_html|\n",
    "|text|Local clipboard|read_clipboard|to_clipboard|\n",
    "|binary|MS Excel|read_excel|to_excel|\n",
    "|binary|HDF5 Format|read_hdf|to_hdf|\n",
    "|binary|Feather Format|read_feather|to_feather|\n",
    "|binary|Msgpack|read_msgpack|to_msgpack|\n",
    "|binary|Stata|read_stata|to_stata|\n",
    "|binary|SAS|read_sas ||\n",
    "|binary|Python Pickle Format|read_pickle|to_pickle|\n",
    "|SQL|SQL|read_sql|to_sql|\n",
    "|SQL|Google Big Query|read_gbq|to_gbq|"
   ]
  },
  {
   "cell_type": "markdown",
   "metadata": {},
   "source": [
    "### Psychological well-being among US adults with arthritis and the unmet need for mental health care\n",
    "https://www.ncbi.nlm.nih.gov/pmc/articles/PMC5436776/pdf/oarrr-9-101.pdf\n",
    "\n",
    "This article suggests a relationship between arthritis and serious psychological distress (SPD).\n",
    "\n",
    "First we will look at the article to recreate the data set from the NIHS data we got in session 2."
   ]
  },
  {
   "cell_type": "markdown",
   "metadata": {
    "slideshow": {
     "slide_type": "slide"
    }
   },
   "source": [
    "We will use <code>pd.read_csv()</code>.\n",
    "\n",
    "As you will see, the Jupyter notebook prints out a very nice rendition of the DataFrame object that is the result"
   ]
  },
  {
   "cell_type": "code",
   "execution_count": 4,
   "metadata": {
    "collapsed": false,
    "slideshow": {
     "slide_type": "subslide"
    }
   },
   "outputs": [],
   "source": [
    "family=pd.read_csv(RAW_DATA_DIR+'/familyxx.csv')\n",
    "samadult=pd.read_csv(RAW_DATA_DIR+'/samadult.csv')"
   ]
  },
  {
   "cell_type": "code",
   "execution_count": 5,
   "metadata": {
    "collapsed": true
   },
   "outputs": [],
   "source": [
    "# Start with a data frame to collect all the data in\n",
    "df =  pd.DataFrame()"
   ]
  },
  {
   "cell_type": "markdown",
   "metadata": {
    "slideshow": {
     "slide_type": "slide"
    }
   },
   "source": [
    "## Mental health conditions\n",
    "Individuals were determined to have SPD using the validated\n",
    "Kessler 6 (K6) scale.31,32 K6 scores are derived from\n",
    "responses to six questions asking how often in the past 30\n",
    "days the individual felt “nervous”, “restless”, “hopeless”,\n",
    "“worthless”, “everything feels like an effort”, and “so sad\n",
    "that nothing cheers them up”, with responses ranging from\n",
    "0 (none of the time) to 4 (all of the time). The responses\n",
    "for these six variables are summed to obtain the K6 score\n",
    "(maximum possible score of 24), and individuals with a score\n",
    "of ≥13 are considered to have SPD.\n",
    "\n",
    "Corresponding columns:\n",
    "\n",
    "ASINERV,  ASIRSTLS, ASIHOPLS, ASIWTHLS, ASIEFFRT, ASISAD"
   ]
  },
  {
   "cell_type": "code",
   "execution_count": 6,
   "metadata": {
    "collapsed": true,
    "slideshow": {
     "slide_type": "subslide"
    }
   },
   "outputs": [],
   "source": [
    "# Calculate Kessler 6\n",
    "# How often did you feel:\n",
    "# nervous, restless, hopeless, worthless, everything is an effort, so sad nothing mattered.\n",
    "# ASINERV,  ASIRSTLS, ASIHOPLS, ASIWTHLS, ASIEFFRT, ASISAD\n",
    "\n",
    "kessler_6_questions=['ASINERV',  'ASIRSTLS', 'ASIHOPLS', 'ASIWTHLS', 'ASIEFFRT', 'ASISAD']\n",
    "\n",
    "# 1 ALL of the time\n",
    "# 2 MOST of the time\n",
    "# 3 SOME of the time\n",
    "# 4 A LITTLE of the time\n",
    "# 5 NONE of the time\n",
    "# 7 Refused\n",
    "# 8 Not ascertained\n",
    "# 9 Don't know \n",
    "\n",
    "# These have to be encoded as:\n",
    "# 7, 8, 9 -> NaN\n",
    "# 5 -> 0\n",
    "# 4 -> 1\n",
    "# 3 -> 2\n",
    "# 2 -> 3\n",
    "# 1 -> 4"
   ]
  },
  {
   "cell_type": "code",
   "execution_count": 7,
   "metadata": {
    "collapsed": false,
    "slideshow": {
     "slide_type": "subslide"
    }
   },
   "outputs": [
    {
     "data": {
      "text/html": [
       "<div>\n",
       "<table border=\"1\" class=\"dataframe\">\n",
       "  <thead>\n",
       "    <tr style=\"text-align: right;\">\n",
       "      <th></th>\n",
       "      <th>SPD</th>\n",
       "    </tr>\n",
       "  </thead>\n",
       "  <tbody>\n",
       "    <tr>\n",
       "      <th>0</th>\n",
       "      <td>No</td>\n",
       "    </tr>\n",
       "    <tr>\n",
       "      <th>1</th>\n",
       "      <td>No</td>\n",
       "    </tr>\n",
       "    <tr>\n",
       "      <th>2</th>\n",
       "      <td>No</td>\n",
       "    </tr>\n",
       "    <tr>\n",
       "      <th>3</th>\n",
       "      <td>No</td>\n",
       "    </tr>\n",
       "    <tr>\n",
       "      <th>4</th>\n",
       "      <td>No</td>\n",
       "    </tr>\n",
       "  </tbody>\n",
       "</table>\n",
       "</div>"
      ],
      "text/plain": [
       "  SPD\n",
       "0  No\n",
       "1  No\n",
       "2  No\n",
       "3  No\n",
       "4  No"
      ]
     },
     "execution_count": 7,
     "metadata": {},
     "output_type": "execute_result"
    }
   ],
   "source": [
    "kessler_6_map = { 1:4, 2:3, 3:2, 4:1, 5:0}\n",
    "kessler_6=pd.DataFrame()\n",
    "\n",
    "for col in kessler_6_questions:\n",
    "    kessler_6[col]=[ kessler_6_map.get(x, None) for x in samadult[col]]\n",
    "    \n",
    "df['SPD']= kessler_6.sum(axis=1)>=13\n",
    "\n",
    "df['SPD'] = np.where(df['SPD'], 'Yes', 'No')\n",
    "del kessler_6\n",
    "df.head(5)"
   ]
  },
  {
   "cell_type": "markdown",
   "metadata": {
    "slideshow": {
     "slide_type": "slide"
    }
   },
   "source": [
    "## Arthritis indicator itself is very simple"
   ]
  },
  {
   "cell_type": "code",
   "execution_count": 8,
   "metadata": {
    "collapsed": false,
    "slideshow": {
     "slide_type": "fragment"
    }
   },
   "outputs": [],
   "source": [
    "# Arthritis Status\n",
    "arth_map= {1:'Yes', 2:'No'}\n",
    "\n",
    "df['ARTH1']=[ arth_map.get(x, None) for x in samadult['ARTH1']]"
   ]
  },
  {
   "cell_type": "markdown",
   "metadata": {
    "slideshow": {
     "slide_type": "slide"
    }
   },
   "source": [
    "## Chronic condition count\n",
    "From the article: \n",
    "\n",
    "We created a chronic condition count based on\n",
    "the following eight nonarthritis chronic conditions: cancer\n",
    "(except nonmelanoma skin); heart condition (including\n",
    "coronary heart disease, angina, myocardial infarction, or any\n",
    "other heart condition); diabetes; hepatitis or liver condition;\n",
    "hypertension (on at least two different visits); respiratory\n",
    "conditions (current asthma, emphysema, or chronic bronchitis);\n",
    "stroke; and weak or failing kidneys, defined similar to\n",
    "the recommendations of Goodman et al.\n",
    "\n",
    "From the NIHS file:\n",
    "- CANEV, - CNKIND22: cancer (except nonmelanoma skin)\n",
    "- CHDEV: heart condition (including coronary heart disease, angina, myocardial infarction, or any other heart condition)\n",
    "- DIBEV: diabetes\n",
    "- AHEP, LIVEV: hepatitis or liver condition\n",
    "- HYPDIFV: hypertension (on at least two different visits)\n",
    "- AASMEV, EPHEV, CBRCHYR: respiratory conditions (current asthma, emphysema, or chronic bronchitis)\n",
    "- STREV, ALCHRC8: stroke\n",
    "- KIDWKYR: and weak or failing kidneys"
   ]
  },
  {
   "cell_type": "code",
   "execution_count": 9,
   "metadata": {
    "collapsed": true,
    "slideshow": {
     "slide_type": "subslide"
    }
   },
   "outputs": [],
   "source": [
    "# the following variables are used for the chronic condition count\n",
    "straight_chronic_condition_questions = ['CHDEV','DIBEV','HYPDIFV', 'KIDWKYR']\n",
    "cancer_nonmelanoma_skin= ['CANEV','CNKIND22'] # CANEV minus CNKIND22\n",
    "hep_liver=['AHEP','LIVEV']\n",
    "respiratory=['AASMEV','EPHEV', 'CBRCHYR']\n",
    "stroke=['STREV','ALCHRC8']\n",
    "\n",
    "# Create a temporary dataframe and collect the straight forward conditions\n",
    "chronic_ind=pd.DataFrame()\n",
    "\n",
    "# this could be a bit too liberal with the Unknown and Refused to answer values\n",
    "for col in straight_chronic_condition_questions:\n",
    "    chronic_ind[col]=samadult[col]==1"
   ]
  },
  {
   "cell_type": "code",
   "execution_count": 10,
   "metadata": {
    "collapsed": true,
    "slideshow": {
     "slide_type": "subslide"
    }
   },
   "outputs": [],
   "source": [
    "# Assume CANCER is false. Set to True for those diagnosed, and reset a few that were CNKIND22\n",
    "chronic_ind['CANCER']=False\n",
    "chronic_ind.loc[samadult['CANEV']==1,'CANCER'] = True\n",
    "# override a few that have nonmelanoma skin\n",
    "chronic_ind.loc[samadult['CNKIND22']==1, 'CANCER'] = False"
   ]
  },
  {
   "cell_type": "code",
   "execution_count": 11,
   "metadata": {
    "collapsed": false,
    "slideshow": {
     "slide_type": "subslide"
    }
   },
   "outputs": [
    {
     "data": {
      "text/html": [
       "<div>\n",
       "<table border=\"1\" class=\"dataframe\">\n",
       "  <thead>\n",
       "    <tr style=\"text-align: right;\">\n",
       "      <th></th>\n",
       "      <th>CHDEV</th>\n",
       "      <th>DIBEV</th>\n",
       "      <th>HYPDIFV</th>\n",
       "      <th>KIDWKYR</th>\n",
       "      <th>CANCER</th>\n",
       "      <th>HEPLIVER</th>\n",
       "      <th>RESPIRATORY</th>\n",
       "      <th>STROKE</th>\n",
       "    </tr>\n",
       "  </thead>\n",
       "  <tbody>\n",
       "    <tr>\n",
       "      <th>0</th>\n",
       "      <td>False</td>\n",
       "      <td>False</td>\n",
       "      <td>False</td>\n",
       "      <td>False</td>\n",
       "      <td>False</td>\n",
       "      <td>False</td>\n",
       "      <td>False</td>\n",
       "      <td>False</td>\n",
       "    </tr>\n",
       "    <tr>\n",
       "      <th>1</th>\n",
       "      <td>False</td>\n",
       "      <td>False</td>\n",
       "      <td>True</td>\n",
       "      <td>False</td>\n",
       "      <td>False</td>\n",
       "      <td>False</td>\n",
       "      <td>False</td>\n",
       "      <td>False</td>\n",
       "    </tr>\n",
       "    <tr>\n",
       "      <th>2</th>\n",
       "      <td>True</td>\n",
       "      <td>True</td>\n",
       "      <td>True</td>\n",
       "      <td>False</td>\n",
       "      <td>False</td>\n",
       "      <td>False</td>\n",
       "      <td>True</td>\n",
       "      <td>False</td>\n",
       "    </tr>\n",
       "    <tr>\n",
       "      <th>3</th>\n",
       "      <td>False</td>\n",
       "      <td>False</td>\n",
       "      <td>False</td>\n",
       "      <td>False</td>\n",
       "      <td>False</td>\n",
       "      <td>False</td>\n",
       "      <td>False</td>\n",
       "      <td>False</td>\n",
       "    </tr>\n",
       "    <tr>\n",
       "      <th>4</th>\n",
       "      <td>False</td>\n",
       "      <td>False</td>\n",
       "      <td>True</td>\n",
       "      <td>False</td>\n",
       "      <td>False</td>\n",
       "      <td>False</td>\n",
       "      <td>True</td>\n",
       "      <td>False</td>\n",
       "    </tr>\n",
       "  </tbody>\n",
       "</table>\n",
       "</div>"
      ],
      "text/plain": [
       "   CHDEV  DIBEV HYPDIFV KIDWKYR CANCER HEPLIVER RESPIRATORY STROKE\n",
       "0  False  False   False   False  False    False       False  False\n",
       "1  False  False    True   False  False    False       False  False\n",
       "2   True   True    True   False  False    False        True  False\n",
       "3  False  False   False   False  False    False       False  False\n",
       "4  False  False    True   False  False    False        True  False"
      ]
     },
     "execution_count": 11,
     "metadata": {},
     "output_type": "execute_result"
    }
   ],
   "source": [
    "\n",
    "# Assume Hepatitis or Liver condition is false and then set to True if either is reported\n",
    "chronic_ind['HEPLIVER']=False\n",
    "chronic_ind.loc[(samadult['AHEP']==1) | (samadult['LIVEV']==1), 'HEPLIVER'] = True\n",
    "\n",
    "# Assume Respiratory condition is False and set to True if either of the three is reported\n",
    "chronic_ind['RESPIRATORY']=False\n",
    "chronic_ind.loc[(samadult['AASMEV']==1) | (samadult['EPHEV']==1) | (samadult['CBRCHYR']==1), 'RESPIRATORY'] = True\n",
    "\n",
    "# Assume Stroke condition is false and then set to True if either flag is reported\n",
    "chronic_ind['STROKE']=False\n",
    "chronic_ind.loc[(samadult['STREV']==1) | (samadult['ALCHRC8']==1), 'STROKE'] = True\n",
    "\n",
    "chronic_ind.head()"
   ]
  },
  {
   "cell_type": "markdown",
   "metadata": {
    "slideshow": {
     "slide_type": "subslide"
    }
   },
   "source": [
    "Now count the TRUE values over this dataframe.\n",
    "\n",
    "Keep the values for 0, 1 and 2 and call everything else >=3"
   ]
  },
  {
   "cell_type": "code",
   "execution_count": 12,
   "metadata": {
    "collapsed": false,
    "slideshow": {
     "slide_type": "subslide"
    }
   },
   "outputs": [
    {
     "data": {
      "text/html": [
       "<div>\n",
       "<table border=\"1\" class=\"dataframe\">\n",
       "  <thead>\n",
       "    <tr style=\"text-align: right;\">\n",
       "      <th></th>\n",
       "      <th>SPD</th>\n",
       "      <th>ARTH1</th>\n",
       "      <th>CHRONIC_CT</th>\n",
       "    </tr>\n",
       "  </thead>\n",
       "  <tbody>\n",
       "    <tr>\n",
       "      <th>0</th>\n",
       "      <td>No</td>\n",
       "      <td>No</td>\n",
       "      <td>0</td>\n",
       "    </tr>\n",
       "    <tr>\n",
       "      <th>1</th>\n",
       "      <td>No</td>\n",
       "      <td>No</td>\n",
       "      <td>1</td>\n",
       "    </tr>\n",
       "    <tr>\n",
       "      <th>2</th>\n",
       "      <td>No</td>\n",
       "      <td>Yes</td>\n",
       "      <td>&gt;=3</td>\n",
       "    </tr>\n",
       "    <tr>\n",
       "      <th>3</th>\n",
       "      <td>No</td>\n",
       "      <td>No</td>\n",
       "      <td>0</td>\n",
       "    </tr>\n",
       "    <tr>\n",
       "      <th>4</th>\n",
       "      <td>No</td>\n",
       "      <td>Yes</td>\n",
       "      <td>2</td>\n",
       "    </tr>\n",
       "    <tr>\n",
       "      <th>5</th>\n",
       "      <td>No</td>\n",
       "      <td>No</td>\n",
       "      <td>0</td>\n",
       "    </tr>\n",
       "    <tr>\n",
       "      <th>6</th>\n",
       "      <td>No</td>\n",
       "      <td>No</td>\n",
       "      <td>0</td>\n",
       "    </tr>\n",
       "    <tr>\n",
       "      <th>7</th>\n",
       "      <td>No</td>\n",
       "      <td>No</td>\n",
       "      <td>0</td>\n",
       "    </tr>\n",
       "    <tr>\n",
       "      <th>8</th>\n",
       "      <td>No</td>\n",
       "      <td>No</td>\n",
       "      <td>0</td>\n",
       "    </tr>\n",
       "    <tr>\n",
       "      <th>9</th>\n",
       "      <td>Yes</td>\n",
       "      <td>No</td>\n",
       "      <td>&gt;=3</td>\n",
       "    </tr>\n",
       "  </tbody>\n",
       "</table>\n",
       "</div>"
      ],
      "text/plain": [
       "   SPD ARTH1 CHRONIC_CT\n",
       "0   No    No          0\n",
       "1   No    No          1\n",
       "2   No   Yes        >=3\n",
       "3   No    No          0\n",
       "4   No   Yes          2\n",
       "5   No    No          0\n",
       "6   No    No          0\n",
       "7   No    No          0\n",
       "8   No    No          0\n",
       "9  Yes    No        >=3"
      ]
     },
     "execution_count": 12,
     "metadata": {},
     "output_type": "execute_result"
    }
   ],
   "source": [
    "# Now count the chronic conditions and assign to df\n",
    "chronic_ind['CHRONIC_CT']=np.array(np.sum(chronic_ind, axis=1))\n",
    "\n",
    "chron_map = {0:'0',1:'1', 2:'2'}\n",
    "df['CHRONIC_CT']=[chron_map.get(x, '>=3') for x in chronic_ind['CHRONIC_CT']] \n",
    "del chronic_ind\n",
    "\n",
    "df.head(10)"
   ]
  },
  {
   "cell_type": "code",
   "execution_count": 13,
   "metadata": {
    "collapsed": true,
    "slideshow": {
     "slide_type": "skip"
    }
   },
   "outputs": [],
   "source": [
    "# General Health Status, does not exist as in study Very Good/Excellent, Good, Poor/Fair. \n",
    "# Only and indicator if it was worse, same, better\n",
    "# we will use it as a proxy.\n",
    "status_map={1:\"Very Good\", 2:\"Poor\", 3: \"Good\"}\n",
    "df['GENERAL_HEALTH_STATUS']=[status_map.get(x, None) for x in samadult['AHSTATYR']]"
   ]
  },
  {
   "cell_type": "markdown",
   "metadata": {
    "slideshow": {
     "slide_type": "slide"
    }
   },
   "source": [
    "### Another Pandas manipulation trick\n",
    "Here we have numerical range that we want to transform into 3 different categories.\n",
    "\n",
    "We can do a loop, but Pandas allows for a more Pythonic way to do this"
   ]
  },
  {
   "cell_type": "code",
   "execution_count": 14,
   "metadata": {
    "collapsed": false,
    "slideshow": {
     "slide_type": "fragment"
    }
   },
   "outputs": [],
   "source": [
    "# BMI\n",
    "bmi=pd.DataFrame()\n",
    "bmi['BMI']=samadult['BMI']\n",
    "\n",
    "bmi.loc[bmi['BMI'] < 2500, 'BMI_C'] = '<25'\n",
    "bmi.loc[(bmi['BMI'] >= 2500)&(bmi['BMI'] < 3000), 'BMI_C'] = '25<30'\n",
    "bmi.loc[(bmi['BMI'] >= 3000)&(bmi['BMI'] < 9999), 'BMI_C'] = '>30'\n",
    "\n",
    "df['BMI_C']=bmi['BMI_C']\n",
    "\n",
    "del bmi"
   ]
  },
  {
   "cell_type": "markdown",
   "metadata": {
    "slideshow": {
     "slide_type": "slide"
    }
   },
   "source": [
    "### Physical Activity Level\n",
    "At least 150 Moderate or 75 Vigorous minutes per week.\n",
    "Questions are answered with per day, per week, per month, per year and recoded to units per week. \n",
    "But the file also has it recoded to units per week. Those units are either minutes or hours.\n",
    "    \n",
    "So we have to do some math to figure out if we get more than 150 moderate equivalent minutes.\n",
    "\n",
    "Another interesting way to manipulate data, this time using 'apply' and a user defined function."
   ]
  },
  {
   "cell_type": "code",
   "execution_count": 15,
   "metadata": {
    "collapsed": false,
    "slideshow": {
     "slide_type": "subslide"
    }
   },
   "outputs": [],
   "source": [
    "def determine_activity(x):\n",
    "    minutes = 0\n",
    "    if x['VIGLNGTP']==1:\n",
    "        minutes = minutes + x['VIGLNGNO']*2\n",
    "    elif x['VIGLNGTP']==2:\n",
    "        minutes = minutes + x['VIGLNGNO']*120\n",
    "\n",
    "    if x['MODLNGTP']==1:\n",
    "        minutes = minutes + x['MODLNGNO']\n",
    "    elif x['MODLNGTP']==2:\n",
    "        minutes = minutes + x['MODLNGNO']*60\n",
    "\n",
    "    return 'Meets' if minutes >= 150 else 'Does not meet'\n",
    "\n",
    "physical_activity=pd.DataFrame()\n",
    "physical_activity=samadult[['VIGLNGNO','VIGLNGTP', 'MODLNGNO', 'MODLNGTP']].copy()\n",
    "\n",
    "physical_activity['ACTIVITY']=physical_activity.apply(determine_activity, axis=1)\n",
    "\n",
    "df['ACTIVITY']=physical_activity['ACTIVITY']\n",
    "del physical_activity\n"
   ]
  },
  {
   "cell_type": "code",
   "execution_count": 16,
   "metadata": {
    "collapsed": false,
    "slideshow": {
     "slide_type": "subslide"
    }
   },
   "outputs": [
    {
     "data": {
      "text/html": [
       "<div>\n",
       "<table border=\"1\" class=\"dataframe\">\n",
       "  <thead>\n",
       "    <tr style=\"text-align: right;\">\n",
       "      <th></th>\n",
       "      <th>SPD</th>\n",
       "      <th>ARTH1</th>\n",
       "      <th>CHRONIC_CT</th>\n",
       "      <th>GENERAL_HEALTH_STATUS</th>\n",
       "      <th>BMI_C</th>\n",
       "      <th>ACTIVITY</th>\n",
       "    </tr>\n",
       "  </thead>\n",
       "  <tbody>\n",
       "    <tr>\n",
       "      <th>0</th>\n",
       "      <td>No</td>\n",
       "      <td>No</td>\n",
       "      <td>0</td>\n",
       "      <td>Good</td>\n",
       "      <td>&lt;25</td>\n",
       "      <td>Does not meet</td>\n",
       "    </tr>\n",
       "    <tr>\n",
       "      <th>1</th>\n",
       "      <td>No</td>\n",
       "      <td>No</td>\n",
       "      <td>1</td>\n",
       "      <td>Good</td>\n",
       "      <td>&lt;25</td>\n",
       "      <td>Does not meet</td>\n",
       "    </tr>\n",
       "    <tr>\n",
       "      <th>2</th>\n",
       "      <td>No</td>\n",
       "      <td>Yes</td>\n",
       "      <td>&gt;=3</td>\n",
       "      <td>Very Good</td>\n",
       "      <td>&gt;30</td>\n",
       "      <td>Does not meet</td>\n",
       "    </tr>\n",
       "    <tr>\n",
       "      <th>3</th>\n",
       "      <td>No</td>\n",
       "      <td>No</td>\n",
       "      <td>0</td>\n",
       "      <td>Good</td>\n",
       "      <td>&lt;25</td>\n",
       "      <td>Does not meet</td>\n",
       "    </tr>\n",
       "    <tr>\n",
       "      <th>4</th>\n",
       "      <td>No</td>\n",
       "      <td>Yes</td>\n",
       "      <td>2</td>\n",
       "      <td>Good</td>\n",
       "      <td>&gt;30</td>\n",
       "      <td>Does not meet</td>\n",
       "    </tr>\n",
       "    <tr>\n",
       "      <th>5</th>\n",
       "      <td>No</td>\n",
       "      <td>No</td>\n",
       "      <td>0</td>\n",
       "      <td>Good</td>\n",
       "      <td>&lt;25</td>\n",
       "      <td>Does not meet</td>\n",
       "    </tr>\n",
       "    <tr>\n",
       "      <th>6</th>\n",
       "      <td>No</td>\n",
       "      <td>No</td>\n",
       "      <td>0</td>\n",
       "      <td>Good</td>\n",
       "      <td>25&lt;30</td>\n",
       "      <td>Does not meet</td>\n",
       "    </tr>\n",
       "    <tr>\n",
       "      <th>7</th>\n",
       "      <td>No</td>\n",
       "      <td>No</td>\n",
       "      <td>0</td>\n",
       "      <td>Good</td>\n",
       "      <td>25&lt;30</td>\n",
       "      <td>Does not meet</td>\n",
       "    </tr>\n",
       "    <tr>\n",
       "      <th>8</th>\n",
       "      <td>No</td>\n",
       "      <td>No</td>\n",
       "      <td>0</td>\n",
       "      <td>Very Good</td>\n",
       "      <td>&lt;25</td>\n",
       "      <td>Does not meet</td>\n",
       "    </tr>\n",
       "    <tr>\n",
       "      <th>9</th>\n",
       "      <td>Yes</td>\n",
       "      <td>No</td>\n",
       "      <td>&gt;=3</td>\n",
       "      <td>Poor</td>\n",
       "      <td>25&lt;30</td>\n",
       "      <td>Does not meet</td>\n",
       "    </tr>\n",
       "    <tr>\n",
       "      <th>10</th>\n",
       "      <td>Yes</td>\n",
       "      <td>No</td>\n",
       "      <td>1</td>\n",
       "      <td>Good</td>\n",
       "      <td>25&lt;30</td>\n",
       "      <td>Does not meet</td>\n",
       "    </tr>\n",
       "    <tr>\n",
       "      <th>11</th>\n",
       "      <td>No</td>\n",
       "      <td>Yes</td>\n",
       "      <td>&gt;=3</td>\n",
       "      <td>Good</td>\n",
       "      <td>&gt;30</td>\n",
       "      <td>Does not meet</td>\n",
       "    </tr>\n",
       "    <tr>\n",
       "      <th>12</th>\n",
       "      <td>No</td>\n",
       "      <td>No</td>\n",
       "      <td>1</td>\n",
       "      <td>Good</td>\n",
       "      <td>25&lt;30</td>\n",
       "      <td>Does not meet</td>\n",
       "    </tr>\n",
       "    <tr>\n",
       "      <th>13</th>\n",
       "      <td>No</td>\n",
       "      <td>No</td>\n",
       "      <td>0</td>\n",
       "      <td>Good</td>\n",
       "      <td>&lt;25</td>\n",
       "      <td>Does not meet</td>\n",
       "    </tr>\n",
       "    <tr>\n",
       "      <th>14</th>\n",
       "      <td>Yes</td>\n",
       "      <td>Yes</td>\n",
       "      <td>&gt;=3</td>\n",
       "      <td>Poor</td>\n",
       "      <td>&gt;30</td>\n",
       "      <td>Does not meet</td>\n",
       "    </tr>\n",
       "    <tr>\n",
       "      <th>15</th>\n",
       "      <td>No</td>\n",
       "      <td>No</td>\n",
       "      <td>0</td>\n",
       "      <td>Good</td>\n",
       "      <td>&lt;25</td>\n",
       "      <td>Does not meet</td>\n",
       "    </tr>\n",
       "    <tr>\n",
       "      <th>16</th>\n",
       "      <td>No</td>\n",
       "      <td>Yes</td>\n",
       "      <td>1</td>\n",
       "      <td>Poor</td>\n",
       "      <td>&gt;30</td>\n",
       "      <td>Does not meet</td>\n",
       "    </tr>\n",
       "    <tr>\n",
       "      <th>17</th>\n",
       "      <td>No</td>\n",
       "      <td>No</td>\n",
       "      <td>1</td>\n",
       "      <td>Good</td>\n",
       "      <td>25&lt;30</td>\n",
       "      <td>Does not meet</td>\n",
       "    </tr>\n",
       "    <tr>\n",
       "      <th>18</th>\n",
       "      <td>No</td>\n",
       "      <td>No</td>\n",
       "      <td>0</td>\n",
       "      <td>Good</td>\n",
       "      <td>25&lt;30</td>\n",
       "      <td>Meets</td>\n",
       "    </tr>\n",
       "    <tr>\n",
       "      <th>19</th>\n",
       "      <td>No</td>\n",
       "      <td>Yes</td>\n",
       "      <td>0</td>\n",
       "      <td>Very Good</td>\n",
       "      <td>&lt;25</td>\n",
       "      <td>Does not meet</td>\n",
       "    </tr>\n",
       "  </tbody>\n",
       "</table>\n",
       "</div>"
      ],
      "text/plain": [
       "    SPD ARTH1 CHRONIC_CT GENERAL_HEALTH_STATUS  BMI_C       ACTIVITY\n",
       "0    No    No          0                  Good    <25  Does not meet\n",
       "1    No    No          1                  Good    <25  Does not meet\n",
       "2    No   Yes        >=3             Very Good    >30  Does not meet\n",
       "3    No    No          0                  Good    <25  Does not meet\n",
       "4    No   Yes          2                  Good    >30  Does not meet\n",
       "5    No    No          0                  Good    <25  Does not meet\n",
       "6    No    No          0                  Good  25<30  Does not meet\n",
       "7    No    No          0                  Good  25<30  Does not meet\n",
       "8    No    No          0             Very Good    <25  Does not meet\n",
       "9   Yes    No        >=3                  Poor  25<30  Does not meet\n",
       "10  Yes    No          1                  Good  25<30  Does not meet\n",
       "11   No   Yes        >=3                  Good    >30  Does not meet\n",
       "12   No    No          1                  Good  25<30  Does not meet\n",
       "13   No    No          0                  Good    <25  Does not meet\n",
       "14  Yes   Yes        >=3                  Poor    >30  Does not meet\n",
       "15   No    No          0                  Good    <25  Does not meet\n",
       "16   No   Yes          1                  Poor    >30  Does not meet\n",
       "17   No    No          1                  Good  25<30  Does not meet\n",
       "18   No    No          0                  Good  25<30          Meets\n",
       "19   No   Yes          0             Very Good    <25  Does not meet"
      ]
     },
     "execution_count": 16,
     "metadata": {},
     "output_type": "execute_result"
    }
   ],
   "source": [
    "df.head(20)"
   ]
  },
  {
   "cell_type": "markdown",
   "metadata": {
    "slideshow": {
     "slide_type": "slide"
    }
   },
   "source": [
    "### Similar activities for Age, Sex, and Race\n",
    "\n",
    "Here we do similar activities for Age, Sex and Race and we start to see that the coding of the data is slightly different than is suggested in the article for some fields. This is interesting as it will schew the categories probabilities.\n"
   ]
  },
  {
   "cell_type": "code",
   "execution_count": 17,
   "metadata": {
    "collapsed": false,
    "slideshow": {
     "slide_type": "fragment"
    }
   },
   "outputs": [],
   "source": [
    "# Age\n",
    "age=pd.DataFrame()\n",
    "age['AGE_P']=samadult['AGE_P']\n",
    "\n",
    "age.loc[age['AGE_P'] < 45, 'AGE_C'] = '18-44'\n",
    "age.loc[(age['AGE_P'] >= 45)&(age['AGE_P'] < 65), 'AGE_C'] = '45-64'\n",
    "age.loc[age['AGE_P'] >= 65, 'AGE_C'] = '65-'\n",
    "\n",
    "df['AGE_C']=age['AGE_C']\n",
    "del age"
   ]
  },
  {
   "cell_type": "code",
   "execution_count": 18,
   "metadata": {
    "collapsed": true,
    "slideshow": {
     "slide_type": "fragment"
    }
   },
   "outputs": [],
   "source": [
    "# Sex\n",
    "df['SEX']=[ 'Male' if x == 1 else 'Female' for x in samadult['SEX']]"
   ]
  },
  {
   "cell_type": "code",
   "execution_count": 19,
   "metadata": {
    "collapsed": true,
    "slideshow": {
     "slide_type": "fragment"
    }
   },
   "outputs": [],
   "source": [
    "# Race. Not exactly a match with the study. Not sure why.\n",
    "# RACERPI2\n",
    "\n",
    "race_map= {1: 'White', 2: 'Black/African American', 3:'AIAN', 4: 'Asian',5: 'not releasable',6: 'Multiple'}\n",
    "\n",
    "\n",
    "df['RACE']=[ race_map.get(x, None) for x in samadult['RACERPI2']]\n"
   ]
  },
  {
   "cell_type": "markdown",
   "metadata": {
    "slideshow": {
     "slide_type": "slide"
    }
   },
   "source": [
    "### Some fields are not found or hard to reconstruct\n",
    "Education Level and Employment status are not encoded as expected.\n",
    "Education level can't be found at all and employment status is a mix between workstatus and why did you not work last week. Which is an odd way to determine if someone is retired, or a student."
   ]
  },
  {
   "cell_type": "code",
   "execution_count": 20,
   "metadata": {
    "collapsed": true,
    "slideshow": {
     "slide_type": "fragment"
    }
   },
   "outputs": [],
   "source": [
    "# Educational level:\n",
    "# Less than high school\n",
    "# High school diploma\n",
    "# Some college or Associates degree\n",
    "# College or greater\n",
    "# Can't find it in data?\n"
   ]
  },
  {
   "cell_type": "code",
   "execution_count": 21,
   "metadata": {
    "collapsed": true,
    "slideshow": {
     "slide_type": "fragment"
    }
   },
   "outputs": [],
   "source": [
    "# Employment status: complex between workstatus and why not worked last week, logic is not described\n",
    "# Maybe at least get \"Out of Work\", \"Retired\", \"Other\"?"
   ]
  },
  {
   "cell_type": "markdown",
   "metadata": {
    "slideshow": {
     "slide_type": "slide"
    }
   },
   "source": [
    "### Do the same for the other fields"
   ]
  },
  {
   "cell_type": "code",
   "execution_count": 22,
   "metadata": {
    "collapsed": false,
    "slideshow": {
     "slide_type": "fragment"
    }
   },
   "outputs": [],
   "source": [
    "# marital status\n",
    "# R_MARITL\n",
    "\n",
    "# 0 Under 14 years   -> will combine that with Never Married\n",
    "# 1 Married - spouse in household         \\\n",
    "# 2 Married - spouse not in household      > -- will combine these\n",
    "# 3 Married - spouse in household unknown /\n",
    "# 4 Widowed \n",
    "# 5 Divorced   \\ will combine these\n",
    "# 6 Separated  /\n",
    "# 7 Never married\n",
    "# 8 Living with partner\n",
    "# 9 Unknown marital status -> will combine with 7\n",
    "marital_map = { 0: \"Never Married\"\n",
    "              , 1: \"Married\"\n",
    "              , 2: \"Married\"\n",
    "              , 3: \"Married\"\n",
    "              , 4: \"Widowed\"\n",
    "              , 5: \"Divorced/Separated\"\n",
    "              , 6: \"Divorced/Separated\"\n",
    "              , 7: \"Never Married\"\n",
    "              , 8: \"Living with Partner\"\n",
    "              , 9: \"Never Married\"}\n",
    "df['MARITAL_STATUS']=[ marital_map.get(x, \"Never Married\") for x in samadult['R_MARITL']]\n"
   ]
  },
  {
   "cell_type": "code",
   "execution_count": 23,
   "metadata": {
    "collapsed": false,
    "scrolled": true,
    "slideshow": {
     "slide_type": "subslide"
    }
   },
   "outputs": [],
   "source": [
    "# Functional limitation score\n",
    "fl_columns=['FLWALK','FLCLIMB','FLSTAND','FLSIT','FLSTOOP','FLREACH','FLGRASP','FLCARRY','FLPUSH']\n",
    "\n",
    "fl_cols=samadult[fl_columns].copy()\n",
    "\n",
    "for col in fl_columns:\n",
    "    fl_cols.loc[fl_cols[col]>=6] = 0\n",
    "\n",
    "fl_cols['FL_AVG']=fl_cols.mean(axis=1)\n",
    "\n",
    "fl_cols.loc[fl_cols['FL_AVG'] == 0,'FUNC_LIMIT'] = 'None'\n",
    "fl_cols.loc[(fl_cols['FL_AVG'] > 0)&(fl_cols['FL_AVG'] <=1),'FUNC_LIMIT'] = 'Low'\n",
    "fl_cols.loc[(fl_cols['FL_AVG'] > 1)&(fl_cols['FL_AVG'] <=2),'FUNC_LIMIT'] = 'Medium'\n",
    "fl_cols.loc[fl_cols['FL_AVG'] > 2,'FUNC_LIMIT'] = 'High'\n",
    "\n",
    "df['FUNC_LIMIT']=fl_cols['FUNC_LIMIT']\n",
    "\n",
    "del fl_cols"
   ]
  },
  {
   "cell_type": "code",
   "execution_count": 24,
   "metadata": {
    "collapsed": false,
    "slideshow": {
     "slide_type": "subslide"
    }
   },
   "outputs": [],
   "source": [
    "# Social participation restriction\n",
    "# We defined social participation restriction as\n",
    "# difficulty or inability to shop, go to events, or participate in\n",
    "# social activities without special equipment, per previously\n",
    "# published analyses.\n",
    "# FLSHOP and FLSOCL\n",
    "restr_map={1:\"Yes\", 2:\"Yes\", 3: \"Yes\", 4: \"Yes\"}\n",
    "\n",
    "social_cols=pd.DataFrame()\n",
    "social_cols['FLSHOP']=[restr_map.get(x, 'No') for x in samadult['FLSHOP']]\n",
    "social_cols['FLSOCL']=[restr_map.get(x, 'No') for x in samadult['FLSOCL']]\n",
    "\n",
    "social_cols.loc[(social_cols['FLSHOP']=='Yes')|(social_cols['FLSOCL']=='Yes'), 'SOC_RESTR']='Yes'\n",
    "social_cols.loc[(social_cols['FLSHOP']=='No')&(social_cols['FLSOCL']=='No'), 'SOC_RESTR']='No'\n",
    "\n",
    "df['SOC_RESTR']=social_cols['SOC_RESTR']"
   ]
  },
  {
   "cell_type": "code",
   "execution_count": 25,
   "metadata": {
    "collapsed": true,
    "slideshow": {
     "slide_type": "subslide"
    }
   },
   "outputs": [],
   "source": [
    "#Could not afford mental health care, past 12 months\n",
    "# AHCAFYR2\n",
    "# No  = 2\n",
    "# Yes = 1\n",
    "df['NOT_AFFORD']=[ 'Yes' if x == 1 else 'No' for x in samadult['AHCAFYR2']]\n",
    "\n",
    "#Seen a mental health professional, past 12 months\n",
    "# AHCSYR1\n",
    "#No = 2\n",
    "#Yes = 1\n",
    "df['SEEN_MENTAL_DR']=[ 'Yes' if x == 1 else 'No' for x in samadult['AHCSYR1']]\n"
   ]
  },
  {
   "cell_type": "markdown",
   "metadata": {
    "slideshow": {
     "slide_type": "slide"
    }
   },
   "source": [
    "### What do we have so far."
   ]
  },
  {
   "cell_type": "code",
   "execution_count": 26,
   "metadata": {
    "collapsed": false,
    "scrolled": true,
    "slideshow": {
     "slide_type": "fragment"
    }
   },
   "outputs": [
    {
     "data": {
      "text/html": [
       "<div>\n",
       "<table border=\"1\" class=\"dataframe\">\n",
       "  <thead>\n",
       "    <tr style=\"text-align: right;\">\n",
       "      <th></th>\n",
       "      <th>SPD</th>\n",
       "      <th>ARTH1</th>\n",
       "      <th>CHRONIC_CT</th>\n",
       "      <th>GENERAL_HEALTH_STATUS</th>\n",
       "      <th>BMI_C</th>\n",
       "      <th>ACTIVITY</th>\n",
       "      <th>AGE_C</th>\n",
       "      <th>SEX</th>\n",
       "      <th>RACE</th>\n",
       "      <th>MARITAL_STATUS</th>\n",
       "      <th>FUNC_LIMIT</th>\n",
       "      <th>SOC_RESTR</th>\n",
       "      <th>NOT_AFFORD</th>\n",
       "      <th>SEEN_MENTAL_DR</th>\n",
       "    </tr>\n",
       "  </thead>\n",
       "  <tbody>\n",
       "    <tr>\n",
       "      <th>0</th>\n",
       "      <td>No</td>\n",
       "      <td>No</td>\n",
       "      <td>0</td>\n",
       "      <td>Good</td>\n",
       "      <td>&lt;25</td>\n",
       "      <td>Does not meet</td>\n",
       "      <td>18-44</td>\n",
       "      <td>Male</td>\n",
       "      <td>White</td>\n",
       "      <td>Never Married</td>\n",
       "      <td>None</td>\n",
       "      <td>No</td>\n",
       "      <td>No</td>\n",
       "      <td>No</td>\n",
       "    </tr>\n",
       "    <tr>\n",
       "      <th>1</th>\n",
       "      <td>No</td>\n",
       "      <td>No</td>\n",
       "      <td>1</td>\n",
       "      <td>Good</td>\n",
       "      <td>&lt;25</td>\n",
       "      <td>Does not meet</td>\n",
       "      <td>45-64</td>\n",
       "      <td>Female</td>\n",
       "      <td>White</td>\n",
       "      <td>Never Married</td>\n",
       "      <td>None</td>\n",
       "      <td>No</td>\n",
       "      <td>No</td>\n",
       "      <td>No</td>\n",
       "    </tr>\n",
       "    <tr>\n",
       "      <th>2</th>\n",
       "      <td>No</td>\n",
       "      <td>Yes</td>\n",
       "      <td>&gt;=3</td>\n",
       "      <td>Very Good</td>\n",
       "      <td>&gt;30</td>\n",
       "      <td>Does not meet</td>\n",
       "      <td>45-64</td>\n",
       "      <td>Male</td>\n",
       "      <td>Asian</td>\n",
       "      <td>Never Married</td>\n",
       "      <td>None</td>\n",
       "      <td>No</td>\n",
       "      <td>No</td>\n",
       "      <td>No</td>\n",
       "    </tr>\n",
       "    <tr>\n",
       "      <th>3</th>\n",
       "      <td>No</td>\n",
       "      <td>No</td>\n",
       "      <td>0</td>\n",
       "      <td>Good</td>\n",
       "      <td>&lt;25</td>\n",
       "      <td>Does not meet</td>\n",
       "      <td>45-64</td>\n",
       "      <td>Male</td>\n",
       "      <td>Black/African American</td>\n",
       "      <td>Divorced/Separated</td>\n",
       "      <td>None</td>\n",
       "      <td>No</td>\n",
       "      <td>No</td>\n",
       "      <td>No</td>\n",
       "    </tr>\n",
       "    <tr>\n",
       "      <th>4</th>\n",
       "      <td>No</td>\n",
       "      <td>Yes</td>\n",
       "      <td>2</td>\n",
       "      <td>Good</td>\n",
       "      <td>&gt;30</td>\n",
       "      <td>Does not meet</td>\n",
       "      <td>65-</td>\n",
       "      <td>Female</td>\n",
       "      <td>Black/African American</td>\n",
       "      <td>Widowed</td>\n",
       "      <td>High</td>\n",
       "      <td>Yes</td>\n",
       "      <td>No</td>\n",
       "      <td>No</td>\n",
       "    </tr>\n",
       "    <tr>\n",
       "      <th>5</th>\n",
       "      <td>No</td>\n",
       "      <td>No</td>\n",
       "      <td>0</td>\n",
       "      <td>Good</td>\n",
       "      <td>&lt;25</td>\n",
       "      <td>Does not meet</td>\n",
       "      <td>18-44</td>\n",
       "      <td>Female</td>\n",
       "      <td>White</td>\n",
       "      <td>Married</td>\n",
       "      <td>None</td>\n",
       "      <td>No</td>\n",
       "      <td>No</td>\n",
       "      <td>No</td>\n",
       "    </tr>\n",
       "    <tr>\n",
       "      <th>6</th>\n",
       "      <td>No</td>\n",
       "      <td>No</td>\n",
       "      <td>0</td>\n",
       "      <td>Good</td>\n",
       "      <td>25&lt;30</td>\n",
       "      <td>Does not meet</td>\n",
       "      <td>45-64</td>\n",
       "      <td>Female</td>\n",
       "      <td>Black/African American</td>\n",
       "      <td>Married</td>\n",
       "      <td>None</td>\n",
       "      <td>No</td>\n",
       "      <td>No</td>\n",
       "      <td>No</td>\n",
       "    </tr>\n",
       "    <tr>\n",
       "      <th>7</th>\n",
       "      <td>No</td>\n",
       "      <td>No</td>\n",
       "      <td>0</td>\n",
       "      <td>Good</td>\n",
       "      <td>25&lt;30</td>\n",
       "      <td>Does not meet</td>\n",
       "      <td>18-44</td>\n",
       "      <td>Male</td>\n",
       "      <td>White</td>\n",
       "      <td>Married</td>\n",
       "      <td>None</td>\n",
       "      <td>No</td>\n",
       "      <td>No</td>\n",
       "      <td>Yes</td>\n",
       "    </tr>\n",
       "    <tr>\n",
       "      <th>8</th>\n",
       "      <td>No</td>\n",
       "      <td>No</td>\n",
       "      <td>0</td>\n",
       "      <td>Very Good</td>\n",
       "      <td>&lt;25</td>\n",
       "      <td>Does not meet</td>\n",
       "      <td>45-64</td>\n",
       "      <td>Female</td>\n",
       "      <td>White</td>\n",
       "      <td>Never Married</td>\n",
       "      <td>None</td>\n",
       "      <td>No</td>\n",
       "      <td>No</td>\n",
       "      <td>No</td>\n",
       "    </tr>\n",
       "    <tr>\n",
       "      <th>9</th>\n",
       "      <td>Yes</td>\n",
       "      <td>No</td>\n",
       "      <td>&gt;=3</td>\n",
       "      <td>Poor</td>\n",
       "      <td>25&lt;30</td>\n",
       "      <td>Does not meet</td>\n",
       "      <td>45-64</td>\n",
       "      <td>Female</td>\n",
       "      <td>White</td>\n",
       "      <td>Divorced/Separated</td>\n",
       "      <td>High</td>\n",
       "      <td>Yes</td>\n",
       "      <td>Yes</td>\n",
       "      <td>No</td>\n",
       "    </tr>\n",
       "    <tr>\n",
       "      <th>10</th>\n",
       "      <td>Yes</td>\n",
       "      <td>No</td>\n",
       "      <td>1</td>\n",
       "      <td>Good</td>\n",
       "      <td>25&lt;30</td>\n",
       "      <td>Does not meet</td>\n",
       "      <td>18-44</td>\n",
       "      <td>Female</td>\n",
       "      <td>White</td>\n",
       "      <td>Never Married</td>\n",
       "      <td>Low</td>\n",
       "      <td>Yes</td>\n",
       "      <td>No</td>\n",
       "      <td>Yes</td>\n",
       "    </tr>\n",
       "    <tr>\n",
       "      <th>11</th>\n",
       "      <td>No</td>\n",
       "      <td>Yes</td>\n",
       "      <td>&gt;=3</td>\n",
       "      <td>Good</td>\n",
       "      <td>&gt;30</td>\n",
       "      <td>Does not meet</td>\n",
       "      <td>65-</td>\n",
       "      <td>Male</td>\n",
       "      <td>Black/African American</td>\n",
       "      <td>Married</td>\n",
       "      <td>Medium</td>\n",
       "      <td>No</td>\n",
       "      <td>No</td>\n",
       "      <td>No</td>\n",
       "    </tr>\n",
       "    <tr>\n",
       "      <th>12</th>\n",
       "      <td>No</td>\n",
       "      <td>No</td>\n",
       "      <td>1</td>\n",
       "      <td>Good</td>\n",
       "      <td>25&lt;30</td>\n",
       "      <td>Does not meet</td>\n",
       "      <td>18-44</td>\n",
       "      <td>Male</td>\n",
       "      <td>White</td>\n",
       "      <td>Married</td>\n",
       "      <td>None</td>\n",
       "      <td>No</td>\n",
       "      <td>No</td>\n",
       "      <td>No</td>\n",
       "    </tr>\n",
       "    <tr>\n",
       "      <th>13</th>\n",
       "      <td>No</td>\n",
       "      <td>No</td>\n",
       "      <td>0</td>\n",
       "      <td>Good</td>\n",
       "      <td>&lt;25</td>\n",
       "      <td>Does not meet</td>\n",
       "      <td>45-64</td>\n",
       "      <td>Male</td>\n",
       "      <td>White</td>\n",
       "      <td>Never Married</td>\n",
       "      <td>None</td>\n",
       "      <td>No</td>\n",
       "      <td>No</td>\n",
       "      <td>No</td>\n",
       "    </tr>\n",
       "    <tr>\n",
       "      <th>14</th>\n",
       "      <td>Yes</td>\n",
       "      <td>Yes</td>\n",
       "      <td>&gt;=3</td>\n",
       "      <td>Poor</td>\n",
       "      <td>&gt;30</td>\n",
       "      <td>Does not meet</td>\n",
       "      <td>45-64</td>\n",
       "      <td>Female</td>\n",
       "      <td>White</td>\n",
       "      <td>Married</td>\n",
       "      <td>High</td>\n",
       "      <td>Yes</td>\n",
       "      <td>No</td>\n",
       "      <td>No</td>\n",
       "    </tr>\n",
       "    <tr>\n",
       "      <th>15</th>\n",
       "      <td>No</td>\n",
       "      <td>No</td>\n",
       "      <td>0</td>\n",
       "      <td>Good</td>\n",
       "      <td>&lt;25</td>\n",
       "      <td>Does not meet</td>\n",
       "      <td>18-44</td>\n",
       "      <td>Female</td>\n",
       "      <td>White</td>\n",
       "      <td>Married</td>\n",
       "      <td>None</td>\n",
       "      <td>No</td>\n",
       "      <td>No</td>\n",
       "      <td>No</td>\n",
       "    </tr>\n",
       "    <tr>\n",
       "      <th>16</th>\n",
       "      <td>No</td>\n",
       "      <td>Yes</td>\n",
       "      <td>1</td>\n",
       "      <td>Poor</td>\n",
       "      <td>&gt;30</td>\n",
       "      <td>Does not meet</td>\n",
       "      <td>65-</td>\n",
       "      <td>Male</td>\n",
       "      <td>White</td>\n",
       "      <td>Married</td>\n",
       "      <td>Medium</td>\n",
       "      <td>No</td>\n",
       "      <td>No</td>\n",
       "      <td>No</td>\n",
       "    </tr>\n",
       "    <tr>\n",
       "      <th>17</th>\n",
       "      <td>No</td>\n",
       "      <td>No</td>\n",
       "      <td>1</td>\n",
       "      <td>Good</td>\n",
       "      <td>25&lt;30</td>\n",
       "      <td>Does not meet</td>\n",
       "      <td>65-</td>\n",
       "      <td>Male</td>\n",
       "      <td>Multiple</td>\n",
       "      <td>Married</td>\n",
       "      <td>None</td>\n",
       "      <td>No</td>\n",
       "      <td>No</td>\n",
       "      <td>No</td>\n",
       "    </tr>\n",
       "    <tr>\n",
       "      <th>18</th>\n",
       "      <td>No</td>\n",
       "      <td>No</td>\n",
       "      <td>0</td>\n",
       "      <td>Good</td>\n",
       "      <td>25&lt;30</td>\n",
       "      <td>Meets</td>\n",
       "      <td>18-44</td>\n",
       "      <td>Male</td>\n",
       "      <td>White</td>\n",
       "      <td>Married</td>\n",
       "      <td>None</td>\n",
       "      <td>No</td>\n",
       "      <td>No</td>\n",
       "      <td>No</td>\n",
       "    </tr>\n",
       "    <tr>\n",
       "      <th>19</th>\n",
       "      <td>No</td>\n",
       "      <td>Yes</td>\n",
       "      <td>0</td>\n",
       "      <td>Very Good</td>\n",
       "      <td>&lt;25</td>\n",
       "      <td>Does not meet</td>\n",
       "      <td>45-64</td>\n",
       "      <td>Male</td>\n",
       "      <td>Asian</td>\n",
       "      <td>Divorced/Separated</td>\n",
       "      <td>None</td>\n",
       "      <td>No</td>\n",
       "      <td>No</td>\n",
       "      <td>No</td>\n",
       "    </tr>\n",
       "    <tr>\n",
       "      <th>20</th>\n",
       "      <td>No</td>\n",
       "      <td>Yes</td>\n",
       "      <td>2</td>\n",
       "      <td>Poor</td>\n",
       "      <td>&gt;30</td>\n",
       "      <td>Does not meet</td>\n",
       "      <td>65-</td>\n",
       "      <td>Male</td>\n",
       "      <td>White</td>\n",
       "      <td>Divorced/Separated</td>\n",
       "      <td>None</td>\n",
       "      <td>No</td>\n",
       "      <td>No</td>\n",
       "      <td>No</td>\n",
       "    </tr>\n",
       "    <tr>\n",
       "      <th>21</th>\n",
       "      <td>No</td>\n",
       "      <td>No</td>\n",
       "      <td>0</td>\n",
       "      <td>Good</td>\n",
       "      <td>&lt;25</td>\n",
       "      <td>Does not meet</td>\n",
       "      <td>45-64</td>\n",
       "      <td>Male</td>\n",
       "      <td>White</td>\n",
       "      <td>Never Married</td>\n",
       "      <td>None</td>\n",
       "      <td>Yes</td>\n",
       "      <td>No</td>\n",
       "      <td>No</td>\n",
       "    </tr>\n",
       "    <tr>\n",
       "      <th>22</th>\n",
       "      <td>No</td>\n",
       "      <td>Yes</td>\n",
       "      <td>2</td>\n",
       "      <td>Poor</td>\n",
       "      <td>25&lt;30</td>\n",
       "      <td>Does not meet</td>\n",
       "      <td>45-64</td>\n",
       "      <td>Male</td>\n",
       "      <td>White</td>\n",
       "      <td>Never Married</td>\n",
       "      <td>Low</td>\n",
       "      <td>No</td>\n",
       "      <td>No</td>\n",
       "      <td>Yes</td>\n",
       "    </tr>\n",
       "    <tr>\n",
       "      <th>23</th>\n",
       "      <td>No</td>\n",
       "      <td>No</td>\n",
       "      <td>1</td>\n",
       "      <td>Good</td>\n",
       "      <td>25&lt;30</td>\n",
       "      <td>Does not meet</td>\n",
       "      <td>45-64</td>\n",
       "      <td>Male</td>\n",
       "      <td>White</td>\n",
       "      <td>Married</td>\n",
       "      <td>Low</td>\n",
       "      <td>No</td>\n",
       "      <td>No</td>\n",
       "      <td>No</td>\n",
       "    </tr>\n",
       "    <tr>\n",
       "      <th>24</th>\n",
       "      <td>No</td>\n",
       "      <td>Yes</td>\n",
       "      <td>2</td>\n",
       "      <td>Very Good</td>\n",
       "      <td>&gt;30</td>\n",
       "      <td>Does not meet</td>\n",
       "      <td>65-</td>\n",
       "      <td>Female</td>\n",
       "      <td>Black/African American</td>\n",
       "      <td>Widowed</td>\n",
       "      <td>None</td>\n",
       "      <td>No</td>\n",
       "      <td>No</td>\n",
       "      <td>No</td>\n",
       "    </tr>\n",
       "    <tr>\n",
       "      <th>25</th>\n",
       "      <td>No</td>\n",
       "      <td>No</td>\n",
       "      <td>1</td>\n",
       "      <td>Good</td>\n",
       "      <td>&lt;25</td>\n",
       "      <td>Does not meet</td>\n",
       "      <td>45-64</td>\n",
       "      <td>Male</td>\n",
       "      <td>Black/African American</td>\n",
       "      <td>Never Married</td>\n",
       "      <td>Low</td>\n",
       "      <td>Yes</td>\n",
       "      <td>Yes</td>\n",
       "      <td>No</td>\n",
       "    </tr>\n",
       "    <tr>\n",
       "      <th>26</th>\n",
       "      <td>No</td>\n",
       "      <td>No</td>\n",
       "      <td>0</td>\n",
       "      <td>Good</td>\n",
       "      <td>&gt;30</td>\n",
       "      <td>Does not meet</td>\n",
       "      <td>18-44</td>\n",
       "      <td>Male</td>\n",
       "      <td>White</td>\n",
       "      <td>Married</td>\n",
       "      <td>None</td>\n",
       "      <td>No</td>\n",
       "      <td>No</td>\n",
       "      <td>No</td>\n",
       "    </tr>\n",
       "    <tr>\n",
       "      <th>27</th>\n",
       "      <td>No</td>\n",
       "      <td>Yes</td>\n",
       "      <td>&gt;=3</td>\n",
       "      <td>Poor</td>\n",
       "      <td>25&lt;30</td>\n",
       "      <td>Does not meet</td>\n",
       "      <td>65-</td>\n",
       "      <td>Female</td>\n",
       "      <td>White</td>\n",
       "      <td>Married</td>\n",
       "      <td>Medium</td>\n",
       "      <td>Yes</td>\n",
       "      <td>No</td>\n",
       "      <td>No</td>\n",
       "    </tr>\n",
       "    <tr>\n",
       "      <th>28</th>\n",
       "      <td>No</td>\n",
       "      <td>Yes</td>\n",
       "      <td>0</td>\n",
       "      <td>Good</td>\n",
       "      <td>&gt;30</td>\n",
       "      <td>Does not meet</td>\n",
       "      <td>45-64</td>\n",
       "      <td>Female</td>\n",
       "      <td>White</td>\n",
       "      <td>Married</td>\n",
       "      <td>None</td>\n",
       "      <td>No</td>\n",
       "      <td>No</td>\n",
       "      <td>No</td>\n",
       "    </tr>\n",
       "    <tr>\n",
       "      <th>29</th>\n",
       "      <td>No</td>\n",
       "      <td>No</td>\n",
       "      <td>0</td>\n",
       "      <td>Good</td>\n",
       "      <td>&lt;25</td>\n",
       "      <td>Does not meet</td>\n",
       "      <td>18-44</td>\n",
       "      <td>Female</td>\n",
       "      <td>White</td>\n",
       "      <td>Married</td>\n",
       "      <td>None</td>\n",
       "      <td>No</td>\n",
       "      <td>No</td>\n",
       "      <td>No</td>\n",
       "    </tr>\n",
       "    <tr>\n",
       "      <th>30</th>\n",
       "      <td>No</td>\n",
       "      <td>No</td>\n",
       "      <td>1</td>\n",
       "      <td>Poor</td>\n",
       "      <td>&lt;25</td>\n",
       "      <td>Does not meet</td>\n",
       "      <td>65-</td>\n",
       "      <td>Male</td>\n",
       "      <td>White</td>\n",
       "      <td>Never Married</td>\n",
       "      <td>None</td>\n",
       "      <td>No</td>\n",
       "      <td>No</td>\n",
       "      <td>No</td>\n",
       "    </tr>\n",
       "    <tr>\n",
       "      <th>31</th>\n",
       "      <td>No</td>\n",
       "      <td>No</td>\n",
       "      <td>0</td>\n",
       "      <td>Good</td>\n",
       "      <td>&lt;25</td>\n",
       "      <td>Does not meet</td>\n",
       "      <td>18-44</td>\n",
       "      <td>Male</td>\n",
       "      <td>White</td>\n",
       "      <td>Widowed</td>\n",
       "      <td>None</td>\n",
       "      <td>No</td>\n",
       "      <td>No</td>\n",
       "      <td>No</td>\n",
       "    </tr>\n",
       "    <tr>\n",
       "      <th>32</th>\n",
       "      <td>No</td>\n",
       "      <td>No</td>\n",
       "      <td>0</td>\n",
       "      <td>Good</td>\n",
       "      <td>25&lt;30</td>\n",
       "      <td>Does not meet</td>\n",
       "      <td>18-44</td>\n",
       "      <td>Male</td>\n",
       "      <td>White</td>\n",
       "      <td>Married</td>\n",
       "      <td>None</td>\n",
       "      <td>No</td>\n",
       "      <td>No</td>\n",
       "      <td>No</td>\n",
       "    </tr>\n",
       "    <tr>\n",
       "      <th>33</th>\n",
       "      <td>No</td>\n",
       "      <td>No</td>\n",
       "      <td>2</td>\n",
       "      <td>Good</td>\n",
       "      <td>&gt;30</td>\n",
       "      <td>Does not meet</td>\n",
       "      <td>18-44</td>\n",
       "      <td>Female</td>\n",
       "      <td>Black/African American</td>\n",
       "      <td>Never Married</td>\n",
       "      <td>High</td>\n",
       "      <td>No</td>\n",
       "      <td>No</td>\n",
       "      <td>Yes</td>\n",
       "    </tr>\n",
       "  </tbody>\n",
       "</table>\n",
       "</div>"
      ],
      "text/plain": [
       "    SPD ARTH1 CHRONIC_CT GENERAL_HEALTH_STATUS  BMI_C       ACTIVITY  AGE_C  \\\n",
       "0    No    No          0                  Good    <25  Does not meet  18-44   \n",
       "1    No    No          1                  Good    <25  Does not meet  45-64   \n",
       "2    No   Yes        >=3             Very Good    >30  Does not meet  45-64   \n",
       "3    No    No          0                  Good    <25  Does not meet  45-64   \n",
       "4    No   Yes          2                  Good    >30  Does not meet    65-   \n",
       "5    No    No          0                  Good    <25  Does not meet  18-44   \n",
       "6    No    No          0                  Good  25<30  Does not meet  45-64   \n",
       "7    No    No          0                  Good  25<30  Does not meet  18-44   \n",
       "8    No    No          0             Very Good    <25  Does not meet  45-64   \n",
       "9   Yes    No        >=3                  Poor  25<30  Does not meet  45-64   \n",
       "10  Yes    No          1                  Good  25<30  Does not meet  18-44   \n",
       "11   No   Yes        >=3                  Good    >30  Does not meet    65-   \n",
       "12   No    No          1                  Good  25<30  Does not meet  18-44   \n",
       "13   No    No          0                  Good    <25  Does not meet  45-64   \n",
       "14  Yes   Yes        >=3                  Poor    >30  Does not meet  45-64   \n",
       "15   No    No          0                  Good    <25  Does not meet  18-44   \n",
       "16   No   Yes          1                  Poor    >30  Does not meet    65-   \n",
       "17   No    No          1                  Good  25<30  Does not meet    65-   \n",
       "18   No    No          0                  Good  25<30          Meets  18-44   \n",
       "19   No   Yes          0             Very Good    <25  Does not meet  45-64   \n",
       "20   No   Yes          2                  Poor    >30  Does not meet    65-   \n",
       "21   No    No          0                  Good    <25  Does not meet  45-64   \n",
       "22   No   Yes          2                  Poor  25<30  Does not meet  45-64   \n",
       "23   No    No          1                  Good  25<30  Does not meet  45-64   \n",
       "24   No   Yes          2             Very Good    >30  Does not meet    65-   \n",
       "25   No    No          1                  Good    <25  Does not meet  45-64   \n",
       "26   No    No          0                  Good    >30  Does not meet  18-44   \n",
       "27   No   Yes        >=3                  Poor  25<30  Does not meet    65-   \n",
       "28   No   Yes          0                  Good    >30  Does not meet  45-64   \n",
       "29   No    No          0                  Good    <25  Does not meet  18-44   \n",
       "30   No    No          1                  Poor    <25  Does not meet    65-   \n",
       "31   No    No          0                  Good    <25  Does not meet  18-44   \n",
       "32   No    No          0                  Good  25<30  Does not meet  18-44   \n",
       "33   No    No          2                  Good    >30  Does not meet  18-44   \n",
       "\n",
       "       SEX                    RACE      MARITAL_STATUS FUNC_LIMIT SOC_RESTR  \\\n",
       "0     Male                   White       Never Married       None        No   \n",
       "1   Female                   White       Never Married       None        No   \n",
       "2     Male                   Asian       Never Married       None        No   \n",
       "3     Male  Black/African American  Divorced/Separated       None        No   \n",
       "4   Female  Black/African American             Widowed       High       Yes   \n",
       "5   Female                   White             Married       None        No   \n",
       "6   Female  Black/African American             Married       None        No   \n",
       "7     Male                   White             Married       None        No   \n",
       "8   Female                   White       Never Married       None        No   \n",
       "9   Female                   White  Divorced/Separated       High       Yes   \n",
       "10  Female                   White       Never Married        Low       Yes   \n",
       "11    Male  Black/African American             Married     Medium        No   \n",
       "12    Male                   White             Married       None        No   \n",
       "13    Male                   White       Never Married       None        No   \n",
       "14  Female                   White             Married       High       Yes   \n",
       "15  Female                   White             Married       None        No   \n",
       "16    Male                   White             Married     Medium        No   \n",
       "17    Male                Multiple             Married       None        No   \n",
       "18    Male                   White             Married       None        No   \n",
       "19    Male                   Asian  Divorced/Separated       None        No   \n",
       "20    Male                   White  Divorced/Separated       None        No   \n",
       "21    Male                   White       Never Married       None       Yes   \n",
       "22    Male                   White       Never Married        Low        No   \n",
       "23    Male                   White             Married        Low        No   \n",
       "24  Female  Black/African American             Widowed       None        No   \n",
       "25    Male  Black/African American       Never Married        Low       Yes   \n",
       "26    Male                   White             Married       None        No   \n",
       "27  Female                   White             Married     Medium       Yes   \n",
       "28  Female                   White             Married       None        No   \n",
       "29  Female                   White             Married       None        No   \n",
       "30    Male                   White       Never Married       None        No   \n",
       "31    Male                   White             Widowed       None        No   \n",
       "32    Male                   White             Married       None        No   \n",
       "33  Female  Black/African American       Never Married       High        No   \n",
       "\n",
       "   NOT_AFFORD SEEN_MENTAL_DR  \n",
       "0          No             No  \n",
       "1          No             No  \n",
       "2          No             No  \n",
       "3          No             No  \n",
       "4          No             No  \n",
       "5          No             No  \n",
       "6          No             No  \n",
       "7          No            Yes  \n",
       "8          No             No  \n",
       "9         Yes             No  \n",
       "10         No            Yes  \n",
       "11         No             No  \n",
       "12         No             No  \n",
       "13         No             No  \n",
       "14         No             No  \n",
       "15         No             No  \n",
       "16         No             No  \n",
       "17         No             No  \n",
       "18         No             No  \n",
       "19         No             No  \n",
       "20         No             No  \n",
       "21         No             No  \n",
       "22         No            Yes  \n",
       "23         No             No  \n",
       "24         No             No  \n",
       "25        Yes             No  \n",
       "26         No             No  \n",
       "27         No             No  \n",
       "28         No             No  \n",
       "29         No             No  \n",
       "30         No             No  \n",
       "31         No             No  \n",
       "32         No             No  \n",
       "33         No            Yes  "
      ]
     },
     "execution_count": 26,
     "metadata": {},
     "output_type": "execute_result"
    }
   ],
   "source": [
    "df.head(34)"
   ]
  },
  {
   "cell_type": "markdown",
   "metadata": {
    "slideshow": {
     "slide_type": "slide"
    }
   },
   "source": [
    "### Now get the Insurance and Poverty Ratio fields from the Family file."
   ]
  },
  {
   "cell_type": "code",
   "execution_count": 27,
   "metadata": {
    "collapsed": false,
    "slideshow": {
     "slide_type": "subslide"
    }
   },
   "outputs": [],
   "source": [
    "#From Familyxx get poverty ratio\n",
    "\n",
    "fam_df=pd.DataFrame()\n",
    "\n",
    "ratio_map={\n",
    "1: '<1' # Under 0.50\n",
    ",2: '<1' # 0.50 - 0.74\n",
    ",3: '<1' # 0.75 - 0.99\n",
    ",4: '1 to <2' # 1.00 - 1.24\n",
    ",5: '1 to <2' # 1.25 - 1.49\n",
    ",6: '1 to <2' # 1.50 - 1.74\n",
    ",7: '1 to <2' # 1.75 - 1.99\n",
    ",8: '>=2' # 2.00 - 2.49\n",
    ",9: '>=2' # 2.50 - 2.99\n",
    ",10: '>=2' # 3.00 - 3.49\n",
    ",11: '>=2' # 3.50 - 3.99\n",
    ",12: '>=2' # 4.00 - 4.49\n",
    ",13: '>=2' # 4.50 - 4.99\n",
    ",14: '>=2' # 5.00 and over\n",
    ",15: '<1' # Less than 1.00 (no further detail)\n",
    ",16: '1 to <2' # 1.00 - 1.99 (no further detail)\n",
    ",17: '>=2' # 2.00 and over (no further detail)\n",
    ",96:  '1 to <2' # Undefinable\n",
    ",99:  '1 to <2' # Unknown \n",
    "}\n",
    "\n",
    "fam_df['POV_RATIO']=[ratio_map.get(x, None) for x in family['RAT_CAT4']]"
   ]
  },
  {
   "cell_type": "code",
   "execution_count": 28,
   "metadata": {
    "collapsed": true,
    "slideshow": {
     "slide_type": "subslide"
    }
   },
   "outputs": [],
   "source": [
    "# Just going to go for Yes and No and any unknown/refused as No\n",
    "# Health insurance\n",
    "#Any private \n",
    "#Public only \n",
    "# Not covered \n",
    "# FHICOVYN\n",
    "fam_df['INSURANCE']=['Yes' if x == 1 else 'No' for x in family['FHICOVYN']]\n"
   ]
  },
  {
   "cell_type": "markdown",
   "metadata": {
    "slideshow": {
     "slide_type": "slide"
    }
   },
   "source": [
    "### This is how you join two datasets in Pandas.\n",
    "To join two data sets in Pandas, you can merge based on key fields.\n",
    "\n",
    "In the NIHS datasets the key field that links a person to the family is the Houshold Key and the Family Key."
   ]
  },
  {
   "cell_type": "code",
   "execution_count": 29,
   "metadata": {
    "collapsed": true,
    "slideshow": {
     "slide_type": "fragment"
    }
   },
   "outputs": [],
   "source": [
    "df['HHX']=samadult['HHX']\n",
    "df['FMX']=samadult['FMX']\n",
    "fam_df['HHX']=family['HHX']\n",
    "fam_df['FMX']=family['FMX']\n"
   ]
  },
  {
   "cell_type": "markdown",
   "metadata": {
    "slideshow": {
     "slide_type": "subslide"
    }
   },
   "source": [
    "And you then do a merge, with the columns indicated in the on= parameter and, very important, specify it is a left join, so that you don't loose any people, if you can't find the family."
   ]
  },
  {
   "cell_type": "code",
   "execution_count": 30,
   "metadata": {
    "collapsed": false,
    "slideshow": {
     "slide_type": "fragment"
    }
   },
   "outputs": [
    {
     "data": {
      "text/html": [
       "<div>\n",
       "<table border=\"1\" class=\"dataframe\">\n",
       "  <thead>\n",
       "    <tr style=\"text-align: right;\">\n",
       "      <th></th>\n",
       "      <th>SPD</th>\n",
       "      <th>ARTH1</th>\n",
       "      <th>CHRONIC_CT</th>\n",
       "      <th>GENERAL_HEALTH_STATUS</th>\n",
       "      <th>BMI_C</th>\n",
       "      <th>ACTIVITY</th>\n",
       "      <th>AGE_C</th>\n",
       "      <th>SEX</th>\n",
       "      <th>RACE</th>\n",
       "      <th>MARITAL_STATUS</th>\n",
       "      <th>FUNC_LIMIT</th>\n",
       "      <th>SOC_RESTR</th>\n",
       "      <th>NOT_AFFORD</th>\n",
       "      <th>SEEN_MENTAL_DR</th>\n",
       "      <th>POV_RATIO</th>\n",
       "      <th>INSURANCE</th>\n",
       "    </tr>\n",
       "  </thead>\n",
       "  <tbody>\n",
       "    <tr>\n",
       "      <th>0</th>\n",
       "      <td>No</td>\n",
       "      <td>No</td>\n",
       "      <td>0</td>\n",
       "      <td>Good</td>\n",
       "      <td>&lt;25</td>\n",
       "      <td>Does not meet</td>\n",
       "      <td>18-44</td>\n",
       "      <td>Male</td>\n",
       "      <td>White</td>\n",
       "      <td>Never Married</td>\n",
       "      <td>None</td>\n",
       "      <td>No</td>\n",
       "      <td>No</td>\n",
       "      <td>No</td>\n",
       "      <td>1 to &lt;2</td>\n",
       "      <td>Yes</td>\n",
       "    </tr>\n",
       "    <tr>\n",
       "      <th>1</th>\n",
       "      <td>No</td>\n",
       "      <td>No</td>\n",
       "      <td>1</td>\n",
       "      <td>Good</td>\n",
       "      <td>&lt;25</td>\n",
       "      <td>Does not meet</td>\n",
       "      <td>45-64</td>\n",
       "      <td>Female</td>\n",
       "      <td>White</td>\n",
       "      <td>Never Married</td>\n",
       "      <td>None</td>\n",
       "      <td>No</td>\n",
       "      <td>No</td>\n",
       "      <td>No</td>\n",
       "      <td>&gt;=2</td>\n",
       "      <td>Yes</td>\n",
       "    </tr>\n",
       "    <tr>\n",
       "      <th>2</th>\n",
       "      <td>No</td>\n",
       "      <td>Yes</td>\n",
       "      <td>&gt;=3</td>\n",
       "      <td>Very Good</td>\n",
       "      <td>&gt;30</td>\n",
       "      <td>Does not meet</td>\n",
       "      <td>45-64</td>\n",
       "      <td>Male</td>\n",
       "      <td>Asian</td>\n",
       "      <td>Never Married</td>\n",
       "      <td>None</td>\n",
       "      <td>No</td>\n",
       "      <td>No</td>\n",
       "      <td>No</td>\n",
       "      <td>&gt;=2</td>\n",
       "      <td>Yes</td>\n",
       "    </tr>\n",
       "    <tr>\n",
       "      <th>3</th>\n",
       "      <td>No</td>\n",
       "      <td>No</td>\n",
       "      <td>0</td>\n",
       "      <td>Good</td>\n",
       "      <td>&lt;25</td>\n",
       "      <td>Does not meet</td>\n",
       "      <td>45-64</td>\n",
       "      <td>Male</td>\n",
       "      <td>Black/African American</td>\n",
       "      <td>Divorced/Separated</td>\n",
       "      <td>None</td>\n",
       "      <td>No</td>\n",
       "      <td>No</td>\n",
       "      <td>No</td>\n",
       "      <td>&gt;=2</td>\n",
       "      <td>Yes</td>\n",
       "    </tr>\n",
       "    <tr>\n",
       "      <th>4</th>\n",
       "      <td>No</td>\n",
       "      <td>Yes</td>\n",
       "      <td>2</td>\n",
       "      <td>Good</td>\n",
       "      <td>&gt;30</td>\n",
       "      <td>Does not meet</td>\n",
       "      <td>65-</td>\n",
       "      <td>Female</td>\n",
       "      <td>Black/African American</td>\n",
       "      <td>Widowed</td>\n",
       "      <td>High</td>\n",
       "      <td>Yes</td>\n",
       "      <td>No</td>\n",
       "      <td>No</td>\n",
       "      <td>&gt;=2</td>\n",
       "      <td>Yes</td>\n",
       "    </tr>\n",
       "  </tbody>\n",
       "</table>\n",
       "</div>"
      ],
      "text/plain": [
       "  SPD ARTH1 CHRONIC_CT GENERAL_HEALTH_STATUS BMI_C       ACTIVITY  AGE_C  \\\n",
       "0  No    No          0                  Good   <25  Does not meet  18-44   \n",
       "1  No    No          1                  Good   <25  Does not meet  45-64   \n",
       "2  No   Yes        >=3             Very Good   >30  Does not meet  45-64   \n",
       "3  No    No          0                  Good   <25  Does not meet  45-64   \n",
       "4  No   Yes          2                  Good   >30  Does not meet    65-   \n",
       "\n",
       "      SEX                    RACE      MARITAL_STATUS FUNC_LIMIT SOC_RESTR  \\\n",
       "0    Male                   White       Never Married       None        No   \n",
       "1  Female                   White       Never Married       None        No   \n",
       "2    Male                   Asian       Never Married       None        No   \n",
       "3    Male  Black/African American  Divorced/Separated       None        No   \n",
       "4  Female  Black/African American             Widowed       High       Yes   \n",
       "\n",
       "  NOT_AFFORD SEEN_MENTAL_DR POV_RATIO INSURANCE  \n",
       "0         No             No   1 to <2       Yes  \n",
       "1         No             No       >=2       Yes  \n",
       "2         No             No       >=2       Yes  \n",
       "3         No             No       >=2       Yes  \n",
       "4         No             No       >=2       Yes  "
      ]
     },
     "execution_count": 30,
     "metadata": {},
     "output_type": "execute_result"
    }
   ],
   "source": [
    "joined_df=pd.merge(df, fam_df, on=['HHX','FMX'],how='left', sort=False)\n",
    "joined_df.drop(['HHX','FMX'], axis=1,inplace=True )\n",
    "joined_df.head()\n"
   ]
  },
  {
   "cell_type": "markdown",
   "metadata": {
    "slideshow": {
     "slide_type": "slide"
    }
   },
   "source": [
    "### Save the result in the INTERIM data directory"
   ]
  },
  {
   "cell_type": "code",
   "execution_count": 31,
   "metadata": {
    "collapsed": false,
    "slideshow": {
     "slide_type": "fragment"
    }
   },
   "outputs": [],
   "source": [
    "df=joined_df\n",
    "df.to_csv(INTERIM_DATA_DIR+'/arthritis_study.csv')"
   ]
  },
  {
   "cell_type": "markdown",
   "metadata": {
    "collapsed": true,
    "slideshow": {
     "slide_type": "fragment"
    }
   },
   "source": [
    "[Back to Agenda](http://localhost:8000/notebooks/Lunch_And_Learn_Session_3_Index.slides.html)"
   ]
  }
 ],
 "metadata": {
  "celltoolbar": "Slideshow",
  "kernelspec": {
   "display_name": "Python 3",
   "language": "python",
   "name": "python3"
  },
  "language_info": {
   "codemirror_mode": {
    "name": "ipython",
    "version": 3
   },
   "file_extension": ".py",
   "mimetype": "text/x-python",
   "name": "python",
   "nbconvert_exporter": "python",
   "pygments_lexer": "ipython3",
   "version": "3.6.0"
  }
 },
 "nbformat": 4,
 "nbformat_minor": 2
}
