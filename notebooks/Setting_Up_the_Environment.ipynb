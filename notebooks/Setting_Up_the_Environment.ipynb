{
 "cells": [
  {
   "cell_type": "markdown",
   "metadata": {
    "slideshow": {
     "slide_type": "slide"
    }
   },
   "source": [
    "# Bare Requirements\n",
    "<p>To run these examples, you need the following in a Linux(-like) environment.\n",
    "<ul>\n",
    "<li>git</li>\n",
    "<li>make</li>\n",
    "<li>vi, or your favorite editor to edit .env file and Makefile</li>\n",
    "<li>Anaconda python3 with ability to start Jupyter notebooks that can render plots</li>\n",
    "</ul></p>\n",
    "<p>\n",
    "On a standard Linux environment, the first 3 are likely already there.\n",
    "<br/>Instructions on getting Anaconda installed, can be found here: https://www.continuum.io/downloads\n",
    "</p>"
   ]
  },
  {
   "cell_type": "markdown",
   "metadata": {
    "slideshow": {
     "slide_type": "fragment"
    }
   },
   "source": [
    "#### reveal.js\n",
    "To create the slides, I also use reveal.js. You can download the [latest version](https://github.com/hakimel/reveal.js/releases), extract the contents and move it into a folder called <code>notebooks/reveal.js</code>.\n"
   ]
  },
  {
   "cell_type": "markdown",
   "metadata": {
    "slideshow": {
     "slide_type": "slide"
    }
   },
   "source": [
    "## Getting the Code\n",
    "<p>The code is hosted on GitHub. By executing the following command:</p>\n",
    "<br/><code>> git clone https://github.com/gsentveld/lunch_and_learn</code>\n",
    "<p>the project will be cloned into a new sub directory called <code>lunch_and_learn</code></p>\n",
    "<p>Please note that I will use this project for future sessions, so content may change.</p>"
   ]
  },
  {
   "cell_type": "markdown",
   "metadata": {
    "slideshow": {
     "slide_type": "slide"
    }
   },
   "source": [
    "## Create your own .env file\n",
    "<p><code>> cd lunch_and_learn</code>\n",
    "<br/>In this folder, create a file called <code>.env</code> GitHub\n",
    "<br/>The contents of this file should look like:</p>\n",
    "<pre><code># Environment variables go here, can be read by `python-dotenv` package:\n",
    "#\n",
    "# DO NOT ADD THIS FILE TO VERSION CONTROL! (It is added to the .gitignore)\n",
    "\n",
    "PROJECT_NAME=lunch_and_learn\n",
    "PYTHON_INTERPRETER=python3\n",
    "\n",
    "BASE_URL=https://ftp.cdc.gov/pub/Health_Statistics/NCHS/Datasets/NHIS/2015/\n",
    "\n",
    "EXTERNAL_DATA_DIR=/data/external\n",
    "RAW_DATA_DIR=/data/raw\n",
    "INTERIM_DATA_DIR=/data/interim\n",
    "PROCESSED_DATA_DIR=/data/processed\n",
    "FILES=\"fmlydisb funcdisb familyxx househld injpoiep personsx samadult samchild paradata cancerxx\"\n",
    "</code></pre>"
   ]
  },
  {
   "cell_type": "markdown",
   "metadata": {
    "slideshow": {
     "slide_type": "slide"
    }
   },
   "source": [
    "## Starting the Notebook server\n",
    "<p><code>> cd lunch_and_learn/notebooks\n",
    "> jupyter notebook --no-browser --ip='*' --port=8888 \n",
    "       --NotebookApp.token='lunchandlearn'</code><br/> (feel free to set your own password of course!)</p>\n",
    "\n",
    "Then go to a browser and navigate to http://localhost:8888 and use the password: <code>lunchandlearn</code>. "
   ]
  },
  {
   "cell_type": "markdown",
   "metadata": {
    "slideshow": {
     "slide_type": "slide"
    }
   },
   "source": [
    "## Using the command line\n",
    "Besides using the Notebook interface to explore the data interactively, you will get to a point where you want to be able to run things in batch.<br/>\n",
    "After cloning the code, do the following the learn what is already possible on the command line.\n",
    "<p>\n",
    "<pre><code>> cd lunch_and_learn</code></pre>\n",
    "<pre><code>> make</code></pre>\n",
    "</p>\n",
    "This returns something like:\n",
    "<pre><code>\n",
    "Available rules:\n",
    "\n",
    "$(CSV_FILES)        Get the CSV files extracted from the zipfiles\n",
    "$(SAVED_ZIP_FILES)  Get the zipfiles from the CDC website\n",
    "clean               Delete all compiled Python files\n",
    "create_environment  Set up python interpreter environment\n",
    "data                Make Dataset\n",
    "requirements        Install Python Dependencies\n",
    "test_environment    Test python environment is setup correctly\n",
    "</code></pre>\n",
    "Then install the python libraries required:\n",
    "<pre><code>> make requirements</code></pre>"
   ]
  },
  {
   "cell_type": "markdown",
   "metadata": {
    "slideshow": {
     "slide_type": "slide"
    }
   },
   "source": [
    "## Virtual Environment\n",
    "If you want to run in a virtual_environment, then first run:\n",
    "<pre><code>> make create_environment</code></pre>\n",
    "Then activate the environment\n",
    "<pre><code>> source activate lunch_and_learn</code></pre>\n",
    "and then\n",
    "<pre><code>> make requirements</code></pre>\n",
    "\n",
    "Either way, 'requirements' is a prerequisite of all the other make targets, so it will be run at least once."
   ]
  },
  {
   "cell_type": "markdown",
   "metadata": {
    "slideshow": {
     "slide_type": "slide"
    }
   },
   "source": [
    "## Using Docker Anaconda Images\n",
    "Anaconda can also run on Docker. The Docker images are fully installed and ready to run Python 3 and Jupyter.\n",
    "<br/>\n",
    "The downside is that it adds another layer of technology that you need to learn."
   ]
  },
  {
   "cell_type": "markdown",
   "metadata": {
    "slideshow": {
     "slide_type": "subslide"
    }
   },
   "source": [
    "### Install Docker Toolbox\n",
    "\n",
    "https://docs.docker.com/toolbox/toolbox_install_windows/#step-2-install-docker-toolbox\n"
   ]
  },
  {
   "cell_type": "markdown",
   "metadata": {
    "slideshow": {
     "slide_type": "fragment"
    }
   },
   "source": [
    "[Back to Agenda](http://localhost:8000/notebooks/Lunch_And_Learn_Session_2_Index.slides.html)"
   ]
  },
  {
   "cell_type": "markdown",
   "metadata": {
    "slideshow": {
     "slide_type": "subslide"
    }
   },
   "source": [
    "### Get the Anaconda image\n",
    "<p>For example, we can use the <code>continuumio/anaconda3</code> image, which can be pulled from the Docker repository:</p>\n",
    "<pre><code class=\"cli\"> docker pull continuumio/anaconda3 </code></pre>\n",
    "<p>Next, we can run the Anaconda image with Docker and start an interactive shell:</p>\n",
    "<pre><code class=\"cli\"> docker run -i -t continuumio/anaconda3 /bin/bash</code></pre>\n",
    "<p>Once the Docker container is running, we can start an interactive Python shell, install additional conda packages or run Python applications.</p>\n"
   ]
  },
  {
   "cell_type": "markdown",
   "metadata": {
    "slideshow": {
     "slide_type": "subslide"
    }
   },
   "source": [
    "### Installing a few extra things that you will need\n",
    "With the fresh Docker container running, you will see a prompt like:\n",
    "<pre><code> root@495c58dfeaa6# </code></pre>\n",
    "At that promtp, do the following to install <code>make</code> and <code>vi</code> (you can skip the latter if you like another editor better.)</p>\n",
    "<pre><code>root@495c58dfeaa6# apt-get install make\n",
    "root@495c58dfeaa6# apt-get install vim</code></pre>\n",
    "\n",
    "Running as root is not a good practice. We add a user you want to work as (Changing gsentveld with whatever you want of course).\n",
    "<pre><code>root@495c58dfeaa6# useradd -m gsentveld</code></pre>\n",
    "Then change the password.\n",
    "<pre><code>root@495c58dfeaa6# passwd gsentveld\n",
    "root@495c58dfeaa6# exit</code></pre>"
   ]
  },
  {
   "cell_type": "markdown",
   "metadata": {
    "slideshow": {
     "slide_type": "subslide"
    }
   },
   "source": [
    "### Save environment changes in your docker image!\n",
    "When you exit a docker container, any changes in the image are lost and forgotten the next time you start the container. In order to save the status of your container in you image, do the following:\n",
    "<pre><code>docker ps -l</code></pre>\n",
    "This should show something like:\n",
    "<pre><code>\n",
    "$ docker ps -l\n",
    "CONTAINER ID IMAGE                 COMMAND     CREATED         STATUS        PORTS              NAMES\n",
    "495c58dfeaa6 continuumio/anaconda3 \"/bin/bash\" 15 minutes ago  Up 15 minutes 6006/tcp, 8888/tcp xenodochial_curran\n",
    "</code></pre>\n",
    "Copy that Container ID and do the following (you commit the changes and give it a new name):\n",
    "<pre><code>docker commit 495c58dfeaa6 lunchandlearn</code></pre>\n"
   ]
  },
  {
   "cell_type": "markdown",
   "metadata": {
    "slideshow": {
     "slide_type": "fragment"
    }
   },
   "source": [
    "[Back to Agenda](http://localhost:8000/notebooks/Lunch_And_Learn_Session_2_Index.slides.html)"
   ]
  },
  {
   "cell_type": "markdown",
   "metadata": {
    "slideshow": {
     "slide_type": "skip"
    }
   },
   "source": [
    "### Install Jupyter and the basic requirements of the CookieCutter environment \n",
    "\n",
    "<p><code class=\"cli\"> docker run -i -t lunchandlearn /bin/bash</code></p>\n",
    "<p>As root, run the following:</p>\n"
   ]
  },
  {
   "cell_type": "markdown",
   "metadata": {
    "slideshow": {
     "slide_type": "skip"
    }
   },
   "source": [
    "<p>Alternatively, we can start a Jupyter Notebook server with Anaconda from a Docker image:</p>\n",
    "<p></p><pre class=\"cli\"><code> docker run -i -t -p 8888:8888 continuumio/anaconda3 /bin/bash -c \"/opt/conda/bin/conda install jupyter -y --quiet &amp;&amp; mkdir /opt/notebooks &amp;&amp; /opt/conda/bin/jupyter notebook --notebook-dir=/opt/notebooks --ip='*' --port=8888 --no-browser\"</code></pre>\n",
    "<p>You can then view the Jupyter Notebook by opening <code>http://localhost:8888</code> in your browser, or <code>http://&lt;DOCKER-MACHINE-IP&gt;:8888</code> if you are using a Docker Machine VM.</p>\n",
    "<p>Once you are inside of the running notebook, you can import libraries from Anaconda, perform interactive computations and visualize your data.</p>"
   ]
  }
 ],
 "metadata": {
  "celltoolbar": "Slideshow",
  "kernelspec": {
   "display_name": "Python 3",
   "language": "python",
   "name": "python3"
  },
  "language_info": {
   "codemirror_mode": {
    "name": "ipython",
    "version": 3
   },
   "file_extension": ".py",
   "mimetype": "text/x-python",
   "name": "python",
   "nbconvert_exporter": "python",
   "pygments_lexer": "ipython3",
   "version": "3.6.0"
  }
 },
 "nbformat": 4,
 "nbformat_minor": 2
}
