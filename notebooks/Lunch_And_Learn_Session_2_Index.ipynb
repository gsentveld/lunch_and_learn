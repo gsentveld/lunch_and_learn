{
 "cells": [
  {
   "cell_type": "markdown",
   "metadata": {
    "slideshow": {
     "slide_type": "slide"
    }
   },
   "source": [
    "# Lunch and Learn Session 2\n",
    "### Agenda\n",
    "1. [Setting Up the Environment](http://localhost:8000/notebooks/Setting_Up_the_Environment.slides.html)\n",
    "2. [Getting content of the Web and using Beautiful Soup](http://localhost:8000/notebooks/Beautiful_Soup.slides.html)\n",
    "3. [Getting the Files from the NHIS](http://localhost:8000/notebooks/Get_zip_files.slides.html)\n",
    "4. [Dealing with ZIP files](http://localhost:8000/notebooks/Unzip_Files_Keep_CSV_Files.slides.html)\n",
    "5. [Exploring the data with Pandas](http://localhost:8000/notebooks/Explore_Files.slides.html)\n",
    "6. [Demo of the moving parts of today's session](http://localhost:8888/tree?#)"
   ]
  }
 ],
 "metadata": {
  "celltoolbar": "Slideshow",
  "kernelspec": {
   "display_name": "Python 3",
   "language": "python",
   "name": "python3"
  },
  "language_info": {
   "codemirror_mode": {
    "name": "ipython",
    "version": 3
   },
   "file_extension": ".py",
   "mimetype": "text/x-python",
   "name": "python",
   "nbconvert_exporter": "python",
   "pygments_lexer": "ipython3",
   "version": "3.6.0"
  }
 },
 "nbformat": 4,
 "nbformat_minor": 2
}
