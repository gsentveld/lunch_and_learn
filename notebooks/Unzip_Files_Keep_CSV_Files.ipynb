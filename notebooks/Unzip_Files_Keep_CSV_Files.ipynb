{
 "cells": [
  {
   "cell_type": "code",
   "execution_count": 6,
   "metadata": {
    "collapsed": false,
    "slideshow": {
     "slide_type": "skip"
    }
   },
   "outputs": [
    {
     "data": {
      "text/plain": [
       "True"
      ]
     },
     "execution_count": 6,
     "metadata": {},
     "output_type": "execute_result"
    }
   ],
   "source": [
    "import os\n",
    "from dotenv import load_dotenv, find_dotenv\n",
    "\n",
    "# find .env automagically by walking up directories until it's found\n",
    "dotenv_path = find_dotenv()\n",
    "\n",
    "# load up the entries as environment variables\n",
    "load_dotenv(dotenv_path)"
   ]
  },
  {
   "cell_type": "markdown",
   "metadata": {
    "slideshow": {
     "slide_type": "slide"
    }
   },
   "source": [
    "### Dealing with ZIP files\n",
    "The ZIP files contain a CSV file and a fixed width file. We only want the CSV file. We will store those in the RAW directory.\n",
    "\n",
    "Lets get those variable for the EXTERNAL and the RAW directories."
   ]
  },
  {
   "cell_type": "code",
   "execution_count": 7,
   "metadata": {
    "collapsed": false,
    "slideshow": {
     "slide_type": "fragment"
    }
   },
   "outputs": [
    {
     "name": "stdout",
     "output_type": "stream",
     "text": [
      "Project directory is  : /home/gsentveld/lunch_and_learn\n",
      "External directory is : /home/gsentveld/lunch_and_learn/data/external\n",
      "Raw data directory is : /home/gsentveld/lunch_and_learn/data/raw\n",
      "Base names of files   : fmlydisb funcdisb familyxx househld injpoiep personsx samadult samchild paradata cancerxx\n"
     ]
    }
   ],
   "source": [
    "# Get the project folders that we are interested in\n",
    "PROJECT_DIR = os.path.dirname(dotenv_path)\n",
    "EXTERNAL_DATA_DIR = PROJECT_DIR + os.environ.get(\"EXTERNAL_DATA_DIR\")\n",
    "RAW_DATA_DIR = PROJECT_DIR + os.environ.get(\"RAW_DATA_DIR\")\n",
    "\n",
    "# Get the list of filenames\n",
    "files=os.environ.get(\"FILES\").split()\n",
    "\n",
    "print(\"Project directory is  : {0}\".format(PROJECT_DIR))\n",
    "print(\"External directory is : {0}\".format(EXTERNAL_DATA_DIR))\n",
    "print(\"Raw data directory is : {0}\".format(RAW_DATA_DIR))\n",
    "print(\"Base names of files   : {0}\".format(\" \".join(files)))"
   ]
  },
  {
   "cell_type": "markdown",
   "metadata": {
    "slideshow": {
     "slide_type": "slide"
    }
   },
   "source": [
    "### zipfile package\n",
    "While some python packages that read files can handle compressed files, the zipfile package can deal with more complex zip files. The files we downloaded from have 2 files as their content. We just want the CSV files.\n",
    "<br/>\n",
    "File objects are a bit more complex than other data structures. Opening, reading from, writing to them can all raise exceptions due to the permissions you may or may not have. \n",
    "<br/>Access to the file is done via a file handler and not directly. You need to properly close them once you are done, otherwise your program keeps that file open as far as the operating system is concerned, potentially blocking other programs from accessing it.\n",
    "<br/>\n",
    "To deal with that, you want to use the <b><code>with zipfile.ZipFile() as zfile</code></b> construction. Once the program leaves that scope, Python will nicely close any handlers to the object reference created. This also works great for database connections and other constructions that have these characteristics."
   ]
  },
  {
   "cell_type": "code",
   "execution_count": 9,
   "metadata": {
    "collapsed": false,
    "slideshow": {
     "slide_type": "slide"
    }
   },
   "outputs": [
    {
     "name": "stdout",
     "output_type": "stream",
     "text": [
      "Extracting files to: /home/gsentveld/lunch_and_learn/data/raw\n",
      "/home/gsentveld/lunch_and_learn/data/external/fmlydisb.zip extract fmlydisb.csv.\n",
      "/home/gsentveld/lunch_and_learn/data/external/funcdisb.zip extract funcdisb.csv.\n",
      "/home/gsentveld/lunch_and_learn/data/external/familyxx.zip extract familyxx.csv.\n",
      "/home/gsentveld/lunch_and_learn/data/external/househld.zip extract househld.csv.\n",
      "/home/gsentveld/lunch_and_learn/data/external/injpoiep.zip extract injpoiep.csv.\n",
      "/home/gsentveld/lunch_and_learn/data/external/personsx.zip extract personsx.csv.\n",
      "/home/gsentveld/lunch_and_learn/data/external/samadult.zip extract samadult.csv.\n",
      "/home/gsentveld/lunch_and_learn/data/external/samchild.zip extract samchild.csv.\n",
      "/home/gsentveld/lunch_and_learn/data/external/paradata.zip extract paradata.csv.\n",
      "/home/gsentveld/lunch_and_learn/data/external/cancerxx.zip extract cancerxx.csv.\n"
     ]
    }
   ],
   "source": [
    "import zipfile\n",
    "\n",
    "print (\"Extracting files to: {}\".format(RAW_DATA_DIR))\n",
    "for file in files:\n",
    "    \n",
    "    # format the full zip filename in the EXTERNAL DATA DIR\n",
    "    fn=EXTERNAL_DATA_DIR+'/'+file+'.zip'\n",
    "    # and format the csv member name in that zip file\n",
    "    member=file + '.csv'\n",
    "    \n",
    "    print(\"{0} extract {1}.\".format(fn, member))\n",
    "    \n",
    "    # To make it easier to deal with files, use the with <> as <>: construction.\n",
    "    # It will deal with opening and closing handlers for you.\n",
    "    with zipfile.ZipFile(fn) as zfile:\n",
    "        zfile.extract(member, path=RAW_DATA_DIR)"
   ]
  },
  {
   "cell_type": "markdown",
   "metadata": {
    "collapsed": true,
    "slideshow": {
     "slide_type": "fragment"
    }
   },
   "source": [
    "[Back to Agenda](http://localhost:8000/notebooks/Lunch_And_Learn_Session_2_Index.slides.html)"
   ]
  }
 ],
 "metadata": {
  "celltoolbar": "Slideshow",
  "kernelspec": {
   "display_name": "Python 3",
   "language": "python",
   "name": "python3"
  },
  "language_info": {
   "codemirror_mode": {
    "name": "ipython",
    "version": 3
   },
   "file_extension": ".py",
   "mimetype": "text/x-python",
   "name": "python",
   "nbconvert_exporter": "python",
   "pygments_lexer": "ipython3",
   "version": "3.6.0"
  }
 },
 "nbformat": 4,
 "nbformat_minor": 2
}
