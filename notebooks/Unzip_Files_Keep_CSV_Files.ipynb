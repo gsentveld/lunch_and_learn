{
 "cells": [
  {
   "cell_type": "code",
   "execution_count": 1,
   "metadata": {
    "collapsed": false
   },
   "outputs": [
    {
     "name": "stdout",
     "output_type": "stream",
     "text": [
      "Project directory is  : /home/gsentveld/lunch_and_learn\n",
      "External directory is : /home/gsentveld/lunch_and_learn/data/external\n",
      "Raw data directory is : /home/gsentveld/lunch_and_learn/data/raw\n",
      "Base names of files   : fmlydisb funcdisb familyxx househld injpoiep personsx samadult samchild paradata cancerxx\n"
     ]
    }
   ],
   "source": [
    "import os\n",
    "from dotenv import load_dotenv, find_dotenv\n",
    "\n",
    "# find .env automagically by walking up directories until it's found\n",
    "dotenv_path = find_dotenv()\n",
    "\n",
    "# load up the entries as environment variables\n",
    "load_dotenv(dotenv_path)\n",
    "\n",
    "# Get the project folders that we are interested in\n",
    "PROJECT_DIR = os.path.dirname(dotenv_path)\n",
    "EXTERNAL_DATA_DIR = PROJECT_DIR + os.environ.get(\"EXTERNAL_DATA_DIR\")\n",
    "RAW_DATA_DIR = PROJECT_DIR + os.environ.get(\"RAW_DATA_DIR\")\n",
    "\n",
    "# Get the list of filenames\n",
    "files=os.environ.get(\"FILES\").split()\n",
    "\n",
    "print(\"Project directory is  : {0}\".format(PROJECT_DIR))\n",
    "print(\"External directory is : {0}\".format(EXTERNAL_DATA_DIR))\n",
    "print(\"Raw data directory is : {0}\".format(RAW_DATA_DIR))\n",
    "print(\"Base names of files   : {0}\".format(\" \".join(files)))"
   ]
  },
  {
   "cell_type": "code",
   "execution_count": 5,
   "metadata": {
    "collapsed": false
   },
   "outputs": [
    {
     "name": "stdout",
     "output_type": "stream",
     "text": [
      "Extracting files to: /home/gsentveld/lunch_and_learn/data/raw\n",
      "Opening zipfile /home/gsentveld/lunch_and_learn/data/external/fmlydisb.zip. Extracting member file fmlydisb.csv.\n",
      "Opening zipfile /home/gsentveld/lunch_and_learn/data/external/funcdisb.zip. Extracting member file funcdisb.csv.\n",
      "Opening zipfile /home/gsentveld/lunch_and_learn/data/external/familyxx.zip. Extracting member file familyxx.csv.\n",
      "Opening zipfile /home/gsentveld/lunch_and_learn/data/external/househld.zip. Extracting member file househld.csv.\n",
      "Opening zipfile /home/gsentveld/lunch_and_learn/data/external/injpoiep.zip. Extracting member file injpoiep.csv.\n",
      "Opening zipfile /home/gsentveld/lunch_and_learn/data/external/personsx.zip. Extracting member file personsx.csv.\n",
      "Opening zipfile /home/gsentveld/lunch_and_learn/data/external/samadult.zip. Extracting member file samadult.csv.\n",
      "Opening zipfile /home/gsentveld/lunch_and_learn/data/external/samchild.zip. Extracting member file samchild.csv.\n",
      "Opening zipfile /home/gsentveld/lunch_and_learn/data/external/paradata.zip. Extracting member file paradata.csv.\n",
      "Opening zipfile /home/gsentveld/lunch_and_learn/data/external/cancerxx.zip. Extracting member file cancerxx.csv.\n"
     ]
    }
   ],
   "source": [
    "import zipfile\n",
    "\n",
    "print (\"Extracting files to: {}\".format(RAW_DATA_DIR))\n",
    "for file in files:\n",
    "    \n",
    "    fn=EXTERNAL_DATA_DIR+'/'+file+'.zip'\n",
    "    member=file + '.csv'\n",
    "    print(\"Opening zipfile {0}. Extracting member file {1}.\".format(fn, member))\n",
    "    with zipfile.ZipFile(fn) as zfile:\n",
    "        zfile.extract(member, path=RAW_DATA_DIR)"
   ]
  },
  {
   "cell_type": "code",
   "execution_count": null,
   "metadata": {
    "collapsed": true
   },
   "outputs": [],
   "source": []
  }
 ],
 "metadata": {
  "kernelspec": {
   "display_name": "Python 3",
   "language": "python",
   "name": "python3"
  },
  "language_info": {
   "codemirror_mode": {
    "name": "ipython",
    "version": 3
   },
   "file_extension": ".py",
   "mimetype": "text/x-python",
   "name": "python",
   "nbconvert_exporter": "python",
   "pygments_lexer": "ipython3",
   "version": "3.6.0"
  }
 },
 "nbformat": 4,
 "nbformat_minor": 2
}
