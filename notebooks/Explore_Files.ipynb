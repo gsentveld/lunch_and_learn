{
 "cells": [
  {
   "cell_type": "markdown",
   "metadata": {
    "slideshow": {
     "slide_type": "slide"
    }
   },
   "source": [
    "### Exploring the files with Pandas\n",
    "Many statistical Python packages can deal with numpy Arrays.\n",
    "\n",
    "Numpy Arrays however are not always easy to use. \n",
    "\n",
    "Pandas is a package that provides a dataframe interface, similar to what R uses as the main data structure.\n",
    "Since Pandas has become so popular, many packages accept both pd.DataFrames and numpy Arrays."
   ]
  },
  {
   "cell_type": "code",
   "execution_count": 1,
   "metadata": {
    "collapsed": false,
    "slideshow": {
     "slide_type": "skip"
    }
   },
   "outputs": [
    {
     "data": {
      "text/plain": [
       "True"
      ]
     },
     "execution_count": 1,
     "metadata": {},
     "output_type": "execute_result"
    }
   ],
   "source": [
    "import os\n",
    "from dotenv import load_dotenv, find_dotenv\n",
    "\n",
    "# find .env automagically by walking up directories until it's found\n",
    "dotenv_path = find_dotenv()\n",
    "\n",
    "# load up the entries as environment variables\n",
    "load_dotenv(dotenv_path)"
   ]
  },
  {
   "cell_type": "markdown",
   "metadata": {
    "slideshow": {
     "slide_type": "slide"
    }
   },
   "source": [
    "### First some environment variables\n",
    "We now use the files that are stored in the RAW directory.\n",
    "\n",
    "If we decide to change the data format by changing names, adding features, created summary data frames etc., we will save those files in the INTERIM directory."
   ]
  },
  {
   "cell_type": "code",
   "execution_count": 2,
   "metadata": {
    "collapsed": false,
    "slideshow": {
     "slide_type": "fragment"
    }
   },
   "outputs": [
    {
     "name": "stdout",
     "output_type": "stream",
     "text": [
      "Project directory is  : /home/gsentveld/lunch_and_learn\n",
      "Raw data directory is : /home/gsentveld/lunch_and_learn/data/raw\n",
      "Interim directory is  : /home/gsentveld/lunch_and_learn/data/interim\n"
     ]
    }
   ],
   "source": [
    "PROJECT_DIR = os.path.dirname(dotenv_path)\n",
    "RAW_DATA_DIR = PROJECT_DIR + os.environ.get(\"RAW_DATA_DIR\")\n",
    "INTERIM_DATA_DIR = PROJECT_DIR + os.environ.get(\"INTERIM_DATA_DIR\")\n",
    "files=os.environ.get(\"FILES\").split()\n",
    "\n",
    "print(\"Project directory is  : {0}\".format(PROJECT_DIR))\n",
    "print(\"Raw data directory is : {0}\".format(RAW_DATA_DIR))\n",
    "print(\"Interim directory is  : {0}\".format(INTERIM_DATA_DIR))"
   ]
  },
  {
   "cell_type": "markdown",
   "metadata": {
    "slideshow": {
     "slide_type": "slide"
    }
   },
   "source": [
    "### Importing pandas and matplotlib.pyplot"
   ]
  },
  {
   "cell_type": "code",
   "execution_count": 3,
   "metadata": {
    "collapsed": false,
    "slideshow": {
     "slide_type": "fragment"
    }
   },
   "outputs": [],
   "source": [
    "# The following jupyter notebook magic makes the plots appear in the notebook. \n",
    "# If you run in batch mode, you have to save your plots as images.\n",
    "%matplotlib inline\n",
    "\n",
    "# matplotlib.pyplot is traditionally imported as plt\n",
    "import matplotlib.pyplot as plt\n",
    "\n",
    "# Pandas is traditionaly imported as pd.\n",
    "import pandas as pd\n",
    "from pylab import rcParams\n",
    "\n",
    "# some display options to size the figures. feel free to experiment\n",
    "pd.set_option('display.max_columns', 25)\n",
    "rcParams['figure.figsize'] = (17, 7)"
   ]
  },
  {
   "cell_type": "markdown",
   "metadata": {
    "slideshow": {
     "slide_type": "slide"
    }
   },
   "source": [
    "### Reading a file in Pandas\n",
    "Reading a CSV file is really easy in Pandas. There are several formats that Pandas can deal with.\n",
    "\n",
    "|Format Type|Data Description|Reader|Writer|\n",
    "|---|---|---|---|\n",
    "|text|CSV|read_csv|to_csv|\n",
    "|text|JSON|read_json|to_json|\n",
    "|text|HTML|read_html|to_html|\n",
    "|text|Local clipboard|read_clipboard|to_clipboard|\n",
    "|binary|MS Excel|read_excel|to_excel|\n",
    "|binary|HDF5 Format|read_hdf|to_hdf|\n",
    "|binary|Feather Format|read_feather|to_feather|\n",
    "|binary|Msgpack|read_msgpack|to_msgpack|\n",
    "|binary|Stata|read_stata|to_stata|\n",
    "|binary|SAS|read_sas ||\n",
    "|binary|Python Pickle Format|read_pickle|to_pickle|\n",
    "|SQL|SQL|read_sql|to_sql|\n",
    "|SQL|Google Big Query|read_gbq|to_gbq|"
   ]
  },
  {
   "cell_type": "markdown",
   "metadata": {
    "slideshow": {
     "slide_type": "slide"
    }
   },
   "source": [
    "We will use <code>pd.read_csv()</code>.\n",
    "\n",
    "As you will see, the Jupyter notebook prints out a very nice rendition of the DataFrame object that is the result"
   ]
  },
  {
   "cell_type": "code",
   "execution_count": 4,
   "metadata": {
    "collapsed": false,
    "slideshow": {
     "slide_type": "skip"
    }
   },
   "outputs": [],
   "source": [
    "\n",
    "family=pd.read_csv(RAW_DATA_DIR+'/familyxx.csv')\n",
    "persons=pd.read_csv(RAW_DATA_DIR+'/personsx.csv')\n",
    "samadult=pd.read_csv(RAW_DATA_DIR+'/samadult.csv')"
   ]
  },
  {
   "cell_type": "code",
   "execution_count": 5,
   "metadata": {
    "collapsed": false,
    "scrolled": true,
    "slideshow": {
     "slide_type": "fragment"
    }
   },
   "outputs": [
    {
     "data": {
      "text/html": [
       "<div>\n",
       "<table border=\"1\" class=\"dataframe\">\n",
       "  <thead>\n",
       "    <tr style=\"text-align: right;\">\n",
       "      <th></th>\n",
       "      <th>INTV_QRT</th>\n",
       "      <th>INTV_MON</th>\n",
       "      <th>LIVQRT</th>\n",
       "      <th>ACPTCHLD</th>\n",
       "      <th>REJ_PER</th>\n",
       "      <th>REJ_FAM</th>\n",
       "      <th>ACPT_PER</th>\n",
       "      <th>ACPT_FAM</th>\n",
       "      <th>NON_INTV</th>\n",
       "      <th>RECTYPE</th>\n",
       "      <th>SRVY_YR</th>\n",
       "      <th>HHX</th>\n",
       "      <th>REGION</th>\n",
       "      <th>WTIA_HH</th>\n",
       "      <th>WTFA_HH</th>\n",
       "      <th>STRAT_P</th>\n",
       "      <th>PSU_P</th>\n",
       "    </tr>\n",
       "  </thead>\n",
       "  <tbody>\n",
       "    <tr>\n",
       "      <th>0</th>\n",
       "      <td>1</td>\n",
       "      <td>3</td>\n",
       "      <td>1</td>\n",
       "      <td>NaN</td>\n",
       "      <td>NaN</td>\n",
       "      <td>NaN</td>\n",
       "      <td>NaN</td>\n",
       "      <td>NaN</td>\n",
       "      <td>1.0</td>\n",
       "      <td>10</td>\n",
       "      <td>2015</td>\n",
       "      <td>1</td>\n",
       "      <td>2</td>\n",
       "      <td>3052.5</td>\n",
       "      <td>0</td>\n",
       "      <td>108</td>\n",
       "      <td>2</td>\n",
       "    </tr>\n",
       "    <tr>\n",
       "      <th>1</th>\n",
       "      <td>1</td>\n",
       "      <td>3</td>\n",
       "      <td>1</td>\n",
       "      <td>NaN</td>\n",
       "      <td>NaN</td>\n",
       "      <td>NaN</td>\n",
       "      <td>NaN</td>\n",
       "      <td>NaN</td>\n",
       "      <td>1.0</td>\n",
       "      <td>10</td>\n",
       "      <td>2015</td>\n",
       "      <td>2</td>\n",
       "      <td>1</td>\n",
       "      <td>2497.5</td>\n",
       "      <td>0</td>\n",
       "      <td>47</td>\n",
       "      <td>2</td>\n",
       "    </tr>\n",
       "    <tr>\n",
       "      <th>2</th>\n",
       "      <td>1</td>\n",
       "      <td>3</td>\n",
       "      <td>1</td>\n",
       "      <td>NaN</td>\n",
       "      <td>NaN</td>\n",
       "      <td>NaN</td>\n",
       "      <td>NaN</td>\n",
       "      <td>NaN</td>\n",
       "      <td>2.0</td>\n",
       "      <td>10</td>\n",
       "      <td>2015</td>\n",
       "      <td>3</td>\n",
       "      <td>1</td>\n",
       "      <td>1086.7</td>\n",
       "      <td>0</td>\n",
       "      <td>19</td>\n",
       "      <td>2</td>\n",
       "    </tr>\n",
       "    <tr>\n",
       "      <th>3</th>\n",
       "      <td>1</td>\n",
       "      <td>1</td>\n",
       "      <td>1</td>\n",
       "      <td>0.0</td>\n",
       "      <td>0.0</td>\n",
       "      <td>0.0</td>\n",
       "      <td>1.0</td>\n",
       "      <td>1.0</td>\n",
       "      <td>NaN</td>\n",
       "      <td>10</td>\n",
       "      <td>2015</td>\n",
       "      <td>4</td>\n",
       "      <td>3</td>\n",
       "      <td>3330.0</td>\n",
       "      <td>3330</td>\n",
       "      <td>163</td>\n",
       "      <td>2</td>\n",
       "    </tr>\n",
       "    <tr>\n",
       "      <th>4</th>\n",
       "      <td>1</td>\n",
       "      <td>3</td>\n",
       "      <td>1</td>\n",
       "      <td>2.0</td>\n",
       "      <td>0.0</td>\n",
       "      <td>0.0</td>\n",
       "      <td>4.0</td>\n",
       "      <td>1.0</td>\n",
       "      <td>NaN</td>\n",
       "      <td>10</td>\n",
       "      <td>2015</td>\n",
       "      <td>5</td>\n",
       "      <td>4</td>\n",
       "      <td>138.7</td>\n",
       "      <td>185</td>\n",
       "      <td>289</td>\n",
       "      <td>2</td>\n",
       "    </tr>\n",
       "    <tr>\n",
       "      <th>5</th>\n",
       "      <td>1</td>\n",
       "      <td>2</td>\n",
       "      <td>1</td>\n",
       "      <td>NaN</td>\n",
       "      <td>NaN</td>\n",
       "      <td>NaN</td>\n",
       "      <td>NaN</td>\n",
       "      <td>NaN</td>\n",
       "      <td>1.0</td>\n",
       "      <td>10</td>\n",
       "      <td>2015</td>\n",
       "      <td>6</td>\n",
       "      <td>1</td>\n",
       "      <td>668.8</td>\n",
       "      <td>0</td>\n",
       "      <td>45</td>\n",
       "      <td>1</td>\n",
       "    </tr>\n",
       "    <tr>\n",
       "      <th>6</th>\n",
       "      <td>1</td>\n",
       "      <td>1</td>\n",
       "      <td>1</td>\n",
       "      <td>NaN</td>\n",
       "      <td>NaN</td>\n",
       "      <td>NaN</td>\n",
       "      <td>NaN</td>\n",
       "      <td>NaN</td>\n",
       "      <td>5.0</td>\n",
       "      <td>10</td>\n",
       "      <td>2015</td>\n",
       "      <td>10</td>\n",
       "      <td>1</td>\n",
       "      <td>3330.0</td>\n",
       "      <td>0</td>\n",
       "      <td>31</td>\n",
       "      <td>2</td>\n",
       "    </tr>\n",
       "    <tr>\n",
       "      <th>7</th>\n",
       "      <td>1</td>\n",
       "      <td>2</td>\n",
       "      <td>1</td>\n",
       "      <td>0.0</td>\n",
       "      <td>0.0</td>\n",
       "      <td>0.0</td>\n",
       "      <td>1.0</td>\n",
       "      <td>1.0</td>\n",
       "      <td>NaN</td>\n",
       "      <td>10</td>\n",
       "      <td>2015</td>\n",
       "      <td>11</td>\n",
       "      <td>4</td>\n",
       "      <td>2200.0</td>\n",
       "      <td>4400</td>\n",
       "      <td>274</td>\n",
       "      <td>2</td>\n",
       "    </tr>\n",
       "    <tr>\n",
       "      <th>8</th>\n",
       "      <td>1</td>\n",
       "      <td>1</td>\n",
       "      <td>1</td>\n",
       "      <td>0.0</td>\n",
       "      <td>0.0</td>\n",
       "      <td>0.0</td>\n",
       "      <td>2.0</td>\n",
       "      <td>1.0</td>\n",
       "      <td>NaN</td>\n",
       "      <td>10</td>\n",
       "      <td>2015</td>\n",
       "      <td>13</td>\n",
       "      <td>3</td>\n",
       "      <td>3330.0</td>\n",
       "      <td>4171</td>\n",
       "      <td>199</td>\n",
       "      <td>2</td>\n",
       "    </tr>\n",
       "    <tr>\n",
       "      <th>9</th>\n",
       "      <td>1</td>\n",
       "      <td>2</td>\n",
       "      <td>1</td>\n",
       "      <td>NaN</td>\n",
       "      <td>NaN</td>\n",
       "      <td>NaN</td>\n",
       "      <td>NaN</td>\n",
       "      <td>NaN</td>\n",
       "      <td>2.0</td>\n",
       "      <td>10</td>\n",
       "      <td>2015</td>\n",
       "      <td>14</td>\n",
       "      <td>2</td>\n",
       "      <td>436.3</td>\n",
       "      <td>0</td>\n",
       "      <td>114</td>\n",
       "      <td>1</td>\n",
       "    </tr>\n",
       "    <tr>\n",
       "      <th>10</th>\n",
       "      <td>1</td>\n",
       "      <td>3</td>\n",
       "      <td>1</td>\n",
       "      <td>0.0</td>\n",
       "      <td>0.0</td>\n",
       "      <td>0.0</td>\n",
       "      <td>1.0</td>\n",
       "      <td>1.0</td>\n",
       "      <td>NaN</td>\n",
       "      <td>10</td>\n",
       "      <td>2015</td>\n",
       "      <td>16</td>\n",
       "      <td>4</td>\n",
       "      <td>1243.6</td>\n",
       "      <td>1244</td>\n",
       "      <td>258</td>\n",
       "      <td>2</td>\n",
       "    </tr>\n",
       "    <tr>\n",
       "      <th>11</th>\n",
       "      <td>1</td>\n",
       "      <td>2</td>\n",
       "      <td>1</td>\n",
       "      <td>NaN</td>\n",
       "      <td>NaN</td>\n",
       "      <td>NaN</td>\n",
       "      <td>NaN</td>\n",
       "      <td>NaN</td>\n",
       "      <td>1.0</td>\n",
       "      <td>10</td>\n",
       "      <td>2015</td>\n",
       "      <td>18</td>\n",
       "      <td>4</td>\n",
       "      <td>0.0</td>\n",
       "      <td>0</td>\n",
       "      <td>242</td>\n",
       "      <td>2</td>\n",
       "    </tr>\n",
       "    <tr>\n",
       "      <th>12</th>\n",
       "      <td>1</td>\n",
       "      <td>2</td>\n",
       "      <td>1</td>\n",
       "      <td>0.0</td>\n",
       "      <td>0.0</td>\n",
       "      <td>0.0</td>\n",
       "      <td>1.0</td>\n",
       "      <td>1.0</td>\n",
       "      <td>NaN</td>\n",
       "      <td>10</td>\n",
       "      <td>2015</td>\n",
       "      <td>19</td>\n",
       "      <td>3</td>\n",
       "      <td>1086.7</td>\n",
       "      <td>1268</td>\n",
       "      <td>184</td>\n",
       "      <td>1</td>\n",
       "    </tr>\n",
       "    <tr>\n",
       "      <th>13</th>\n",
       "      <td>1</td>\n",
       "      <td>1</td>\n",
       "      <td>1</td>\n",
       "      <td>0.0</td>\n",
       "      <td>0.0</td>\n",
       "      <td>0.0</td>\n",
       "      <td>1.0</td>\n",
       "      <td>1.0</td>\n",
       "      <td>NaN</td>\n",
       "      <td>10</td>\n",
       "      <td>2015</td>\n",
       "      <td>21</td>\n",
       "      <td>1</td>\n",
       "      <td>700.1</td>\n",
       "      <td>1225</td>\n",
       "      <td>36</td>\n",
       "      <td>2</td>\n",
       "    </tr>\n",
       "    <tr>\n",
       "      <th>14</th>\n",
       "      <td>1</td>\n",
       "      <td>3</td>\n",
       "      <td>1</td>\n",
       "      <td>NaN</td>\n",
       "      <td>NaN</td>\n",
       "      <td>NaN</td>\n",
       "      <td>NaN</td>\n",
       "      <td>NaN</td>\n",
       "      <td>1.0</td>\n",
       "      <td>10</td>\n",
       "      <td>2015</td>\n",
       "      <td>22</td>\n",
       "      <td>2</td>\n",
       "      <td>0.0</td>\n",
       "      <td>0</td>\n",
       "      <td>66</td>\n",
       "      <td>1</td>\n",
       "    </tr>\n",
       "    <tr>\n",
       "      <th>15</th>\n",
       "      <td>1</td>\n",
       "      <td>1</td>\n",
       "      <td>1</td>\n",
       "      <td>0.0</td>\n",
       "      <td>0.0</td>\n",
       "      <td>0.0</td>\n",
       "      <td>2.0</td>\n",
       "      <td>1.0</td>\n",
       "      <td>NaN</td>\n",
       "      <td>10</td>\n",
       "      <td>2015</td>\n",
       "      <td>23</td>\n",
       "      <td>4</td>\n",
       "      <td>2664.0</td>\n",
       "      <td>2687</td>\n",
       "      <td>271</td>\n",
       "      <td>1</td>\n",
       "    </tr>\n",
       "    <tr>\n",
       "      <th>16</th>\n",
       "      <td>1</td>\n",
       "      <td>3</td>\n",
       "      <td>5</td>\n",
       "      <td>0.0</td>\n",
       "      <td>0.0</td>\n",
       "      <td>0.0</td>\n",
       "      <td>2.0</td>\n",
       "      <td>1.0</td>\n",
       "      <td>NaN</td>\n",
       "      <td>10</td>\n",
       "      <td>2015</td>\n",
       "      <td>24</td>\n",
       "      <td>3</td>\n",
       "      <td>2497.5</td>\n",
       "      <td>3027</td>\n",
       "      <td>141</td>\n",
       "      <td>2</td>\n",
       "    </tr>\n",
       "    <tr>\n",
       "      <th>17</th>\n",
       "      <td>1</td>\n",
       "      <td>1</td>\n",
       "      <td>1</td>\n",
       "      <td>3.0</td>\n",
       "      <td>0.0</td>\n",
       "      <td>0.0</td>\n",
       "      <td>5.0</td>\n",
       "      <td>1.0</td>\n",
       "      <td>NaN</td>\n",
       "      <td>10</td>\n",
       "      <td>2015</td>\n",
       "      <td>25</td>\n",
       "      <td>2</td>\n",
       "      <td>1086.7</td>\n",
       "      <td>2173</td>\n",
       "      <td>59</td>\n",
       "      <td>2</td>\n",
       "    </tr>\n",
       "    <tr>\n",
       "      <th>18</th>\n",
       "      <td>1</td>\n",
       "      <td>2</td>\n",
       "      <td>1</td>\n",
       "      <td>NaN</td>\n",
       "      <td>NaN</td>\n",
       "      <td>NaN</td>\n",
       "      <td>NaN</td>\n",
       "      <td>NaN</td>\n",
       "      <td>1.0</td>\n",
       "      <td>10</td>\n",
       "      <td>2015</td>\n",
       "      <td>26</td>\n",
       "      <td>4</td>\n",
       "      <td>348.8</td>\n",
       "      <td>0</td>\n",
       "      <td>294</td>\n",
       "      <td>2</td>\n",
       "    </tr>\n",
       "    <tr>\n",
       "      <th>19</th>\n",
       "      <td>1</td>\n",
       "      <td>2</td>\n",
       "      <td>1</td>\n",
       "      <td>0.0</td>\n",
       "      <td>0.0</td>\n",
       "      <td>0.0</td>\n",
       "      <td>1.0</td>\n",
       "      <td>1.0</td>\n",
       "      <td>NaN</td>\n",
       "      <td>10</td>\n",
       "      <td>2015</td>\n",
       "      <td>27</td>\n",
       "      <td>4</td>\n",
       "      <td>3330.0</td>\n",
       "      <td>3686</td>\n",
       "      <td>243</td>\n",
       "      <td>1</td>\n",
       "    </tr>\n",
       "    <tr>\n",
       "      <th>20</th>\n",
       "      <td>1</td>\n",
       "      <td>3</td>\n",
       "      <td>1</td>\n",
       "      <td>2.0</td>\n",
       "      <td>0.0</td>\n",
       "      <td>0.0</td>\n",
       "      <td>4.0</td>\n",
       "      <td>1.0</td>\n",
       "      <td>NaN</td>\n",
       "      <td>10</td>\n",
       "      <td>2015</td>\n",
       "      <td>28</td>\n",
       "      <td>4</td>\n",
       "      <td>624.4</td>\n",
       "      <td>624</td>\n",
       "      <td>296</td>\n",
       "      <td>1</td>\n",
       "    </tr>\n",
       "    <tr>\n",
       "      <th>21</th>\n",
       "      <td>1</td>\n",
       "      <td>3</td>\n",
       "      <td>1</td>\n",
       "      <td>2.0</td>\n",
       "      <td>0.0</td>\n",
       "      <td>0.0</td>\n",
       "      <td>3.0</td>\n",
       "      <td>1.0</td>\n",
       "      <td>NaN</td>\n",
       "      <td>10</td>\n",
       "      <td>2015</td>\n",
       "      <td>31</td>\n",
       "      <td>1</td>\n",
       "      <td>1086.7</td>\n",
       "      <td>1328</td>\n",
       "      <td>19</td>\n",
       "      <td>2</td>\n",
       "    </tr>\n",
       "    <tr>\n",
       "      <th>22</th>\n",
       "      <td>1</td>\n",
       "      <td>1</td>\n",
       "      <td>1</td>\n",
       "      <td>0.0</td>\n",
       "      <td>0.0</td>\n",
       "      <td>0.0</td>\n",
       "      <td>1.0</td>\n",
       "      <td>1.0</td>\n",
       "      <td>NaN</td>\n",
       "      <td>10</td>\n",
       "      <td>2015</td>\n",
       "      <td>33</td>\n",
       "      <td>3</td>\n",
       "      <td>1788.0</td>\n",
       "      <td>2012</td>\n",
       "      <td>148</td>\n",
       "      <td>2</td>\n",
       "    </tr>\n",
       "    <tr>\n",
       "      <th>23</th>\n",
       "      <td>1</td>\n",
       "      <td>2</td>\n",
       "      <td>5</td>\n",
       "      <td>0.0</td>\n",
       "      <td>0.0</td>\n",
       "      <td>0.0</td>\n",
       "      <td>1.0</td>\n",
       "      <td>1.0</td>\n",
       "      <td>NaN</td>\n",
       "      <td>10</td>\n",
       "      <td>2015</td>\n",
       "      <td>34</td>\n",
       "      <td>1</td>\n",
       "      <td>1243.6</td>\n",
       "      <td>1244</td>\n",
       "      <td>29</td>\n",
       "      <td>1</td>\n",
       "    </tr>\n",
       "    <tr>\n",
       "      <th>24</th>\n",
       "      <td>1</td>\n",
       "      <td>3</td>\n",
       "      <td>1</td>\n",
       "      <td>0.0</td>\n",
       "      <td>0.0</td>\n",
       "      <td>0.0</td>\n",
       "      <td>2.0</td>\n",
       "      <td>1.0</td>\n",
       "      <td>NaN</td>\n",
       "      <td>10</td>\n",
       "      <td>2015</td>\n",
       "      <td>35</td>\n",
       "      <td>3</td>\n",
       "      <td>1928.8</td>\n",
       "      <td>1929</td>\n",
       "      <td>192</td>\n",
       "      <td>1</td>\n",
       "    </tr>\n",
       "    <tr>\n",
       "      <th>25</th>\n",
       "      <td>1</td>\n",
       "      <td>2</td>\n",
       "      <td>1</td>\n",
       "      <td>NaN</td>\n",
       "      <td>NaN</td>\n",
       "      <td>NaN</td>\n",
       "      <td>NaN</td>\n",
       "      <td>NaN</td>\n",
       "      <td>1.0</td>\n",
       "      <td>10</td>\n",
       "      <td>2015</td>\n",
       "      <td>36</td>\n",
       "      <td>4</td>\n",
       "      <td>1261.5</td>\n",
       "      <td>0</td>\n",
       "      <td>266</td>\n",
       "      <td>2</td>\n",
       "    </tr>\n",
       "    <tr>\n",
       "      <th>26</th>\n",
       "      <td>1</td>\n",
       "      <td>3</td>\n",
       "      <td>1</td>\n",
       "      <td>2.0</td>\n",
       "      <td>0.0</td>\n",
       "      <td>0.0</td>\n",
       "      <td>4.0</td>\n",
       "      <td>1.0</td>\n",
       "      <td>NaN</td>\n",
       "      <td>10</td>\n",
       "      <td>2015</td>\n",
       "      <td>39</td>\n",
       "      <td>4</td>\n",
       "      <td>138.7</td>\n",
       "      <td>139</td>\n",
       "      <td>289</td>\n",
       "      <td>2</td>\n",
       "    </tr>\n",
       "    <tr>\n",
       "      <th>27</th>\n",
       "      <td>1</td>\n",
       "      <td>2</td>\n",
       "      <td>1</td>\n",
       "      <td>1.0</td>\n",
       "      <td>0.0</td>\n",
       "      <td>0.0</td>\n",
       "      <td>3.0</td>\n",
       "      <td>1.0</td>\n",
       "      <td>NaN</td>\n",
       "      <td>10</td>\n",
       "      <td>2015</td>\n",
       "      <td>41</td>\n",
       "      <td>3</td>\n",
       "      <td>2200.0</td>\n",
       "      <td>2200</td>\n",
       "      <td>134</td>\n",
       "      <td>2</td>\n",
       "    </tr>\n",
       "    <tr>\n",
       "      <th>28</th>\n",
       "      <td>1</td>\n",
       "      <td>1</td>\n",
       "      <td>1</td>\n",
       "      <td>0.0</td>\n",
       "      <td>0.0</td>\n",
       "      <td>0.0</td>\n",
       "      <td>1.0</td>\n",
       "      <td>1.0</td>\n",
       "      <td>NaN</td>\n",
       "      <td>10</td>\n",
       "      <td>2015</td>\n",
       "      <td>42</td>\n",
       "      <td>3</td>\n",
       "      <td>270.5</td>\n",
       "      <td>270</td>\n",
       "      <td>124</td>\n",
       "      <td>1</td>\n",
       "    </tr>\n",
       "    <tr>\n",
       "      <th>29</th>\n",
       "      <td>1</td>\n",
       "      <td>1</td>\n",
       "      <td>1</td>\n",
       "      <td>NaN</td>\n",
       "      <td>NaN</td>\n",
       "      <td>NaN</td>\n",
       "      <td>NaN</td>\n",
       "      <td>NaN</td>\n",
       "      <td>1.0</td>\n",
       "      <td>10</td>\n",
       "      <td>2015</td>\n",
       "      <td>43</td>\n",
       "      <td>4</td>\n",
       "      <td>1243.6</td>\n",
       "      <td>0</td>\n",
       "      <td>279</td>\n",
       "      <td>1</td>\n",
       "    </tr>\n",
       "    <tr>\n",
       "      <th>...</th>\n",
       "      <td>...</td>\n",
       "      <td>...</td>\n",
       "      <td>...</td>\n",
       "      <td>...</td>\n",
       "      <td>...</td>\n",
       "      <td>...</td>\n",
       "      <td>...</td>\n",
       "      <td>...</td>\n",
       "      <td>...</td>\n",
       "      <td>...</td>\n",
       "      <td>...</td>\n",
       "      <td>...</td>\n",
       "      <td>...</td>\n",
       "      <td>...</td>\n",
       "      <td>...</td>\n",
       "      <td>...</td>\n",
       "      <td>...</td>\n",
       "    </tr>\n",
       "    <tr>\n",
       "      <th>59140</th>\n",
       "      <td>4</td>\n",
       "      <td>10</td>\n",
       "      <td>1</td>\n",
       "      <td>0.0</td>\n",
       "      <td>0.0</td>\n",
       "      <td>0.0</td>\n",
       "      <td>2.0</td>\n",
       "      <td>1.0</td>\n",
       "      <td>NaN</td>\n",
       "      <td>10</td>\n",
       "      <td>2015</td>\n",
       "      <td>85403</td>\n",
       "      <td>4</td>\n",
       "      <td>257.4</td>\n",
       "      <td>343</td>\n",
       "      <td>294</td>\n",
       "      <td>2</td>\n",
       "    </tr>\n",
       "    <tr>\n",
       "      <th>59141</th>\n",
       "      <td>4</td>\n",
       "      <td>12</td>\n",
       "      <td>1</td>\n",
       "      <td>NaN</td>\n",
       "      <td>NaN</td>\n",
       "      <td>NaN</td>\n",
       "      <td>NaN</td>\n",
       "      <td>NaN</td>\n",
       "      <td>1.0</td>\n",
       "      <td>10</td>\n",
       "      <td>2015</td>\n",
       "      <td>85404</td>\n",
       "      <td>1</td>\n",
       "      <td>1243.6</td>\n",
       "      <td>0</td>\n",
       "      <td>15</td>\n",
       "      <td>2</td>\n",
       "    </tr>\n",
       "    <tr>\n",
       "      <th>59142</th>\n",
       "      <td>4</td>\n",
       "      <td>12</td>\n",
       "      <td>1</td>\n",
       "      <td>NaN</td>\n",
       "      <td>NaN</td>\n",
       "      <td>NaN</td>\n",
       "      <td>NaN</td>\n",
       "      <td>NaN</td>\n",
       "      <td>1.0</td>\n",
       "      <td>10</td>\n",
       "      <td>2015</td>\n",
       "      <td>85405</td>\n",
       "      <td>3</td>\n",
       "      <td>1838.7</td>\n",
       "      <td>0</td>\n",
       "      <td>146</td>\n",
       "      <td>2</td>\n",
       "    </tr>\n",
       "    <tr>\n",
       "      <th>59143</th>\n",
       "      <td>4</td>\n",
       "      <td>11</td>\n",
       "      <td>1</td>\n",
       "      <td>0.0</td>\n",
       "      <td>0.0</td>\n",
       "      <td>0.0</td>\n",
       "      <td>2.0</td>\n",
       "      <td>1.0</td>\n",
       "      <td>NaN</td>\n",
       "      <td>10</td>\n",
       "      <td>2015</td>\n",
       "      <td>85406</td>\n",
       "      <td>4</td>\n",
       "      <td>1738.5</td>\n",
       "      <td>2509</td>\n",
       "      <td>256</td>\n",
       "      <td>1</td>\n",
       "    </tr>\n",
       "    <tr>\n",
       "      <th>59144</th>\n",
       "      <td>4</td>\n",
       "      <td>11</td>\n",
       "      <td>1</td>\n",
       "      <td>0.0</td>\n",
       "      <td>0.0</td>\n",
       "      <td>0.0</td>\n",
       "      <td>1.0</td>\n",
       "      <td>1.0</td>\n",
       "      <td>NaN</td>\n",
       "      <td>10</td>\n",
       "      <td>2015</td>\n",
       "      <td>85408</td>\n",
       "      <td>3</td>\n",
       "      <td>3330.0</td>\n",
       "      <td>3330</td>\n",
       "      <td>222</td>\n",
       "      <td>2</td>\n",
       "    </tr>\n",
       "    <tr>\n",
       "      <th>59145</th>\n",
       "      <td>4</td>\n",
       "      <td>12</td>\n",
       "      <td>1</td>\n",
       "      <td>NaN</td>\n",
       "      <td>NaN</td>\n",
       "      <td>NaN</td>\n",
       "      <td>NaN</td>\n",
       "      <td>NaN</td>\n",
       "      <td>1.0</td>\n",
       "      <td>10</td>\n",
       "      <td>2015</td>\n",
       "      <td>85410</td>\n",
       "      <td>2</td>\n",
       "      <td>2583.6</td>\n",
       "      <td>0</td>\n",
       "      <td>89</td>\n",
       "      <td>2</td>\n",
       "    </tr>\n",
       "    <tr>\n",
       "      <th>59146</th>\n",
       "      <td>4</td>\n",
       "      <td>10</td>\n",
       "      <td>1</td>\n",
       "      <td>2.0</td>\n",
       "      <td>0.0</td>\n",
       "      <td>0.0</td>\n",
       "      <td>4.0</td>\n",
       "      <td>1.0</td>\n",
       "      <td>NaN</td>\n",
       "      <td>10</td>\n",
       "      <td>2015</td>\n",
       "      <td>85416</td>\n",
       "      <td>3</td>\n",
       "      <td>1253.1</td>\n",
       "      <td>1949</td>\n",
       "      <td>159</td>\n",
       "      <td>1</td>\n",
       "    </tr>\n",
       "    <tr>\n",
       "      <th>59147</th>\n",
       "      <td>4</td>\n",
       "      <td>12</td>\n",
       "      <td>1</td>\n",
       "      <td>NaN</td>\n",
       "      <td>NaN</td>\n",
       "      <td>NaN</td>\n",
       "      <td>NaN</td>\n",
       "      <td>NaN</td>\n",
       "      <td>1.0</td>\n",
       "      <td>10</td>\n",
       "      <td>2015</td>\n",
       "      <td>85417</td>\n",
       "      <td>4</td>\n",
       "      <td>3451.4</td>\n",
       "      <td>0</td>\n",
       "      <td>283</td>\n",
       "      <td>1</td>\n",
       "    </tr>\n",
       "    <tr>\n",
       "      <th>59148</th>\n",
       "      <td>4</td>\n",
       "      <td>10</td>\n",
       "      <td>1</td>\n",
       "      <td>0.0</td>\n",
       "      <td>0.0</td>\n",
       "      <td>0.0</td>\n",
       "      <td>2.0</td>\n",
       "      <td>1.0</td>\n",
       "      <td>NaN</td>\n",
       "      <td>10</td>\n",
       "      <td>2015</td>\n",
       "      <td>85418</td>\n",
       "      <td>4</td>\n",
       "      <td>43.6</td>\n",
       "      <td>51</td>\n",
       "      <td>293</td>\n",
       "      <td>2</td>\n",
       "    </tr>\n",
       "    <tr>\n",
       "      <th>59149</th>\n",
       "      <td>4</td>\n",
       "      <td>10</td>\n",
       "      <td>1</td>\n",
       "      <td>0.0</td>\n",
       "      <td>0.0</td>\n",
       "      <td>0.0</td>\n",
       "      <td>1.0</td>\n",
       "      <td>1.0</td>\n",
       "      <td>NaN</td>\n",
       "      <td>10</td>\n",
       "      <td>2015</td>\n",
       "      <td>85419</td>\n",
       "      <td>1</td>\n",
       "      <td>3330.0</td>\n",
       "      <td>4026</td>\n",
       "      <td>2</td>\n",
       "      <td>2</td>\n",
       "    </tr>\n",
       "    <tr>\n",
       "      <th>59150</th>\n",
       "      <td>4</td>\n",
       "      <td>10</td>\n",
       "      <td>1</td>\n",
       "      <td>NaN</td>\n",
       "      <td>NaN</td>\n",
       "      <td>NaN</td>\n",
       "      <td>NaN</td>\n",
       "      <td>NaN</td>\n",
       "      <td>2.0</td>\n",
       "      <td>10</td>\n",
       "      <td>2015</td>\n",
       "      <td>85421</td>\n",
       "      <td>3</td>\n",
       "      <td>0.0</td>\n",
       "      <td>0</td>\n",
       "      <td>127</td>\n",
       "      <td>1</td>\n",
       "    </tr>\n",
       "    <tr>\n",
       "      <th>59151</th>\n",
       "      <td>4</td>\n",
       "      <td>11</td>\n",
       "      <td>1</td>\n",
       "      <td>2.0</td>\n",
       "      <td>0.0</td>\n",
       "      <td>0.0</td>\n",
       "      <td>4.0</td>\n",
       "      <td>1.0</td>\n",
       "      <td>NaN</td>\n",
       "      <td>10</td>\n",
       "      <td>2015</td>\n",
       "      <td>85424</td>\n",
       "      <td>4</td>\n",
       "      <td>2588.5</td>\n",
       "      <td>3897</td>\n",
       "      <td>255</td>\n",
       "      <td>1</td>\n",
       "    </tr>\n",
       "    <tr>\n",
       "      <th>59152</th>\n",
       "      <td>4</td>\n",
       "      <td>12</td>\n",
       "      <td>1</td>\n",
       "      <td>0.0</td>\n",
       "      <td>0.0</td>\n",
       "      <td>0.0</td>\n",
       "      <td>2.0</td>\n",
       "      <td>1.0</td>\n",
       "      <td>NaN</td>\n",
       "      <td>10</td>\n",
       "      <td>2015</td>\n",
       "      <td>85426</td>\n",
       "      <td>2</td>\n",
       "      <td>3458.0</td>\n",
       "      <td>3740</td>\n",
       "      <td>104</td>\n",
       "      <td>1</td>\n",
       "    </tr>\n",
       "    <tr>\n",
       "      <th>59153</th>\n",
       "      <td>4</td>\n",
       "      <td>11</td>\n",
       "      <td>1</td>\n",
       "      <td>0.0</td>\n",
       "      <td>1.0</td>\n",
       "      <td>1.0</td>\n",
       "      <td>2.0</td>\n",
       "      <td>1.0</td>\n",
       "      <td>NaN</td>\n",
       "      <td>10</td>\n",
       "      <td>2015</td>\n",
       "      <td>85427</td>\n",
       "      <td>4</td>\n",
       "      <td>329.5</td>\n",
       "      <td>439</td>\n",
       "      <td>266</td>\n",
       "      <td>1</td>\n",
       "    </tr>\n",
       "    <tr>\n",
       "      <th>59154</th>\n",
       "      <td>4</td>\n",
       "      <td>10</td>\n",
       "      <td>1</td>\n",
       "      <td>NaN</td>\n",
       "      <td>NaN</td>\n",
       "      <td>NaN</td>\n",
       "      <td>NaN</td>\n",
       "      <td>NaN</td>\n",
       "      <td>5.0</td>\n",
       "      <td>10</td>\n",
       "      <td>2015</td>\n",
       "      <td>85431</td>\n",
       "      <td>3</td>\n",
       "      <td>408.8</td>\n",
       "      <td>0</td>\n",
       "      <td>24</td>\n",
       "      <td>2</td>\n",
       "    </tr>\n",
       "    <tr>\n",
       "      <th>59155</th>\n",
       "      <td>4</td>\n",
       "      <td>11</td>\n",
       "      <td>98</td>\n",
       "      <td>NaN</td>\n",
       "      <td>NaN</td>\n",
       "      <td>NaN</td>\n",
       "      <td>NaN</td>\n",
       "      <td>NaN</td>\n",
       "      <td>1.0</td>\n",
       "      <td>10</td>\n",
       "      <td>2015</td>\n",
       "      <td>85432</td>\n",
       "      <td>4</td>\n",
       "      <td>0.0</td>\n",
       "      <td>0</td>\n",
       "      <td>265</td>\n",
       "      <td>1</td>\n",
       "    </tr>\n",
       "    <tr>\n",
       "      <th>59156</th>\n",
       "      <td>4</td>\n",
       "      <td>10</td>\n",
       "      <td>1</td>\n",
       "      <td>0.0</td>\n",
       "      <td>0.0</td>\n",
       "      <td>0.0</td>\n",
       "      <td>2.0</td>\n",
       "      <td>1.0</td>\n",
       "      <td>NaN</td>\n",
       "      <td>10</td>\n",
       "      <td>2015</td>\n",
       "      <td>85433</td>\n",
       "      <td>3</td>\n",
       "      <td>2200.0</td>\n",
       "      <td>2200</td>\n",
       "      <td>195</td>\n",
       "      <td>1</td>\n",
       "    </tr>\n",
       "    <tr>\n",
       "      <th>59157</th>\n",
       "      <td>4</td>\n",
       "      <td>12</td>\n",
       "      <td>1</td>\n",
       "      <td>2.0</td>\n",
       "      <td>0.0</td>\n",
       "      <td>0.0</td>\n",
       "      <td>4.0</td>\n",
       "      <td>1.0</td>\n",
       "      <td>NaN</td>\n",
       "      <td>10</td>\n",
       "      <td>2015</td>\n",
       "      <td>85434</td>\n",
       "      <td>2</td>\n",
       "      <td>2009.9</td>\n",
       "      <td>2433</td>\n",
       "      <td>72</td>\n",
       "      <td>1</td>\n",
       "    </tr>\n",
       "    <tr>\n",
       "      <th>59158</th>\n",
       "      <td>4</td>\n",
       "      <td>11</td>\n",
       "      <td>1</td>\n",
       "      <td>NaN</td>\n",
       "      <td>NaN</td>\n",
       "      <td>NaN</td>\n",
       "      <td>NaN</td>\n",
       "      <td>NaN</td>\n",
       "      <td>2.0</td>\n",
       "      <td>10</td>\n",
       "      <td>2015</td>\n",
       "      <td>85435</td>\n",
       "      <td>3</td>\n",
       "      <td>1117.5</td>\n",
       "      <td>0</td>\n",
       "      <td>150</td>\n",
       "      <td>2</td>\n",
       "    </tr>\n",
       "    <tr>\n",
       "      <th>59159</th>\n",
       "      <td>4</td>\n",
       "      <td>11</td>\n",
       "      <td>1</td>\n",
       "      <td>0.0</td>\n",
       "      <td>0.0</td>\n",
       "      <td>0.0</td>\n",
       "      <td>2.0</td>\n",
       "      <td>1.0</td>\n",
       "      <td>NaN</td>\n",
       "      <td>10</td>\n",
       "      <td>2015</td>\n",
       "      <td>85437</td>\n",
       "      <td>3</td>\n",
       "      <td>1757.5</td>\n",
       "      <td>2929</td>\n",
       "      <td>170</td>\n",
       "      <td>1</td>\n",
       "    </tr>\n",
       "    <tr>\n",
       "      <th>59160</th>\n",
       "      <td>4</td>\n",
       "      <td>10</td>\n",
       "      <td>1</td>\n",
       "      <td>NaN</td>\n",
       "      <td>NaN</td>\n",
       "      <td>NaN</td>\n",
       "      <td>NaN</td>\n",
       "      <td>NaN</td>\n",
       "      <td>1.0</td>\n",
       "      <td>10</td>\n",
       "      <td>2015</td>\n",
       "      <td>85438</td>\n",
       "      <td>3</td>\n",
       "      <td>408.8</td>\n",
       "      <td>0</td>\n",
       "      <td>24</td>\n",
       "      <td>1</td>\n",
       "    </tr>\n",
       "    <tr>\n",
       "      <th>59161</th>\n",
       "      <td>4</td>\n",
       "      <td>12</td>\n",
       "      <td>1</td>\n",
       "      <td>NaN</td>\n",
       "      <td>NaN</td>\n",
       "      <td>NaN</td>\n",
       "      <td>NaN</td>\n",
       "      <td>NaN</td>\n",
       "      <td>1.0</td>\n",
       "      <td>10</td>\n",
       "      <td>2015</td>\n",
       "      <td>85439</td>\n",
       "      <td>1</td>\n",
       "      <td>3330.0</td>\n",
       "      <td>0</td>\n",
       "      <td>41</td>\n",
       "      <td>1</td>\n",
       "    </tr>\n",
       "    <tr>\n",
       "      <th>59162</th>\n",
       "      <td>4</td>\n",
       "      <td>12</td>\n",
       "      <td>1</td>\n",
       "      <td>0.0</td>\n",
       "      <td>0.0</td>\n",
       "      <td>0.0</td>\n",
       "      <td>2.0</td>\n",
       "      <td>1.0</td>\n",
       "      <td>NaN</td>\n",
       "      <td>10</td>\n",
       "      <td>2015</td>\n",
       "      <td>85440</td>\n",
       "      <td>2</td>\n",
       "      <td>2003.6</td>\n",
       "      <td>2671</td>\n",
       "      <td>78</td>\n",
       "      <td>2</td>\n",
       "    </tr>\n",
       "    <tr>\n",
       "      <th>59163</th>\n",
       "      <td>4</td>\n",
       "      <td>11</td>\n",
       "      <td>1</td>\n",
       "      <td>0.0</td>\n",
       "      <td>0.0</td>\n",
       "      <td>0.0</td>\n",
       "      <td>1.0</td>\n",
       "      <td>1.0</td>\n",
       "      <td>NaN</td>\n",
       "      <td>10</td>\n",
       "      <td>2015</td>\n",
       "      <td>85442</td>\n",
       "      <td>1</td>\n",
       "      <td>3448.9</td>\n",
       "      <td>6898</td>\n",
       "      <td>7</td>\n",
       "      <td>1</td>\n",
       "    </tr>\n",
       "    <tr>\n",
       "      <th>59164</th>\n",
       "      <td>4</td>\n",
       "      <td>12</td>\n",
       "      <td>1</td>\n",
       "      <td>NaN</td>\n",
       "      <td>NaN</td>\n",
       "      <td>NaN</td>\n",
       "      <td>NaN</td>\n",
       "      <td>NaN</td>\n",
       "      <td>1.0</td>\n",
       "      <td>10</td>\n",
       "      <td>2015</td>\n",
       "      <td>85443</td>\n",
       "      <td>3</td>\n",
       "      <td>0.0</td>\n",
       "      <td>0</td>\n",
       "      <td>158</td>\n",
       "      <td>2</td>\n",
       "    </tr>\n",
       "    <tr>\n",
       "      <th>59165</th>\n",
       "      <td>4</td>\n",
       "      <td>11</td>\n",
       "      <td>1</td>\n",
       "      <td>0.0</td>\n",
       "      <td>0.0</td>\n",
       "      <td>0.0</td>\n",
       "      <td>1.0</td>\n",
       "      <td>1.0</td>\n",
       "      <td>NaN</td>\n",
       "      <td>10</td>\n",
       "      <td>2015</td>\n",
       "      <td>85444</td>\n",
       "      <td>2</td>\n",
       "      <td>469.9</td>\n",
       "      <td>587</td>\n",
       "      <td>111</td>\n",
       "      <td>2</td>\n",
       "    </tr>\n",
       "    <tr>\n",
       "      <th>59166</th>\n",
       "      <td>4</td>\n",
       "      <td>10</td>\n",
       "      <td>1</td>\n",
       "      <td>NaN</td>\n",
       "      <td>NaN</td>\n",
       "      <td>NaN</td>\n",
       "      <td>NaN</td>\n",
       "      <td>NaN</td>\n",
       "      <td>1.0</td>\n",
       "      <td>10</td>\n",
       "      <td>2015</td>\n",
       "      <td>85445</td>\n",
       "      <td>3</td>\n",
       "      <td>2006.0</td>\n",
       "      <td>0</td>\n",
       "      <td>216</td>\n",
       "      <td>1</td>\n",
       "    </tr>\n",
       "    <tr>\n",
       "      <th>59167</th>\n",
       "      <td>4</td>\n",
       "      <td>10</td>\n",
       "      <td>1</td>\n",
       "      <td>0.0</td>\n",
       "      <td>0.0</td>\n",
       "      <td>0.0</td>\n",
       "      <td>3.0</td>\n",
       "      <td>2.0</td>\n",
       "      <td>NaN</td>\n",
       "      <td>10</td>\n",
       "      <td>2015</td>\n",
       "      <td>85446</td>\n",
       "      <td>1</td>\n",
       "      <td>1850.1</td>\n",
       "      <td>1850</td>\n",
       "      <td>30</td>\n",
       "      <td>1</td>\n",
       "    </tr>\n",
       "    <tr>\n",
       "      <th>59168</th>\n",
       "      <td>4</td>\n",
       "      <td>10</td>\n",
       "      <td>1</td>\n",
       "      <td>NaN</td>\n",
       "      <td>NaN</td>\n",
       "      <td>NaN</td>\n",
       "      <td>NaN</td>\n",
       "      <td>NaN</td>\n",
       "      <td>2.0</td>\n",
       "      <td>10</td>\n",
       "      <td>2015</td>\n",
       "      <td>85447</td>\n",
       "      <td>3</td>\n",
       "      <td>866.5</td>\n",
       "      <td>0</td>\n",
       "      <td>195</td>\n",
       "      <td>2</td>\n",
       "    </tr>\n",
       "    <tr>\n",
       "      <th>59169</th>\n",
       "      <td>4</td>\n",
       "      <td>12</td>\n",
       "      <td>1</td>\n",
       "      <td>NaN</td>\n",
       "      <td>NaN</td>\n",
       "      <td>NaN</td>\n",
       "      <td>NaN</td>\n",
       "      <td>NaN</td>\n",
       "      <td>2.0</td>\n",
       "      <td>10</td>\n",
       "      <td>2015</td>\n",
       "      <td>85448</td>\n",
       "      <td>1</td>\n",
       "      <td>369.3</td>\n",
       "      <td>0</td>\n",
       "      <td>44</td>\n",
       "      <td>1</td>\n",
       "    </tr>\n",
       "  </tbody>\n",
       "</table>\n",
       "<p>59170 rows × 17 columns</p>\n",
       "</div>"
      ],
      "text/plain": [
       "       INTV_QRT  INTV_MON  LIVQRT  ACPTCHLD  REJ_PER  REJ_FAM  ACPT_PER  \\\n",
       "0             1         3       1       NaN      NaN      NaN       NaN   \n",
       "1             1         3       1       NaN      NaN      NaN       NaN   \n",
       "2             1         3       1       NaN      NaN      NaN       NaN   \n",
       "3             1         1       1       0.0      0.0      0.0       1.0   \n",
       "4             1         3       1       2.0      0.0      0.0       4.0   \n",
       "5             1         2       1       NaN      NaN      NaN       NaN   \n",
       "6             1         1       1       NaN      NaN      NaN       NaN   \n",
       "7             1         2       1       0.0      0.0      0.0       1.0   \n",
       "8             1         1       1       0.0      0.0      0.0       2.0   \n",
       "9             1         2       1       NaN      NaN      NaN       NaN   \n",
       "10            1         3       1       0.0      0.0      0.0       1.0   \n",
       "11            1         2       1       NaN      NaN      NaN       NaN   \n",
       "12            1         2       1       0.0      0.0      0.0       1.0   \n",
       "13            1         1       1       0.0      0.0      0.0       1.0   \n",
       "14            1         3       1       NaN      NaN      NaN       NaN   \n",
       "15            1         1       1       0.0      0.0      0.0       2.0   \n",
       "16            1         3       5       0.0      0.0      0.0       2.0   \n",
       "17            1         1       1       3.0      0.0      0.0       5.0   \n",
       "18            1         2       1       NaN      NaN      NaN       NaN   \n",
       "19            1         2       1       0.0      0.0      0.0       1.0   \n",
       "20            1         3       1       2.0      0.0      0.0       4.0   \n",
       "21            1         3       1       2.0      0.0      0.0       3.0   \n",
       "22            1         1       1       0.0      0.0      0.0       1.0   \n",
       "23            1         2       5       0.0      0.0      0.0       1.0   \n",
       "24            1         3       1       0.0      0.0      0.0       2.0   \n",
       "25            1         2       1       NaN      NaN      NaN       NaN   \n",
       "26            1         3       1       2.0      0.0      0.0       4.0   \n",
       "27            1         2       1       1.0      0.0      0.0       3.0   \n",
       "28            1         1       1       0.0      0.0      0.0       1.0   \n",
       "29            1         1       1       NaN      NaN      NaN       NaN   \n",
       "...         ...       ...     ...       ...      ...      ...       ...   \n",
       "59140         4        10       1       0.0      0.0      0.0       2.0   \n",
       "59141         4        12       1       NaN      NaN      NaN       NaN   \n",
       "59142         4        12       1       NaN      NaN      NaN       NaN   \n",
       "59143         4        11       1       0.0      0.0      0.0       2.0   \n",
       "59144         4        11       1       0.0      0.0      0.0       1.0   \n",
       "59145         4        12       1       NaN      NaN      NaN       NaN   \n",
       "59146         4        10       1       2.0      0.0      0.0       4.0   \n",
       "59147         4        12       1       NaN      NaN      NaN       NaN   \n",
       "59148         4        10       1       0.0      0.0      0.0       2.0   \n",
       "59149         4        10       1       0.0      0.0      0.0       1.0   \n",
       "59150         4        10       1       NaN      NaN      NaN       NaN   \n",
       "59151         4        11       1       2.0      0.0      0.0       4.0   \n",
       "59152         4        12       1       0.0      0.0      0.0       2.0   \n",
       "59153         4        11       1       0.0      1.0      1.0       2.0   \n",
       "59154         4        10       1       NaN      NaN      NaN       NaN   \n",
       "59155         4        11      98       NaN      NaN      NaN       NaN   \n",
       "59156         4        10       1       0.0      0.0      0.0       2.0   \n",
       "59157         4        12       1       2.0      0.0      0.0       4.0   \n",
       "59158         4        11       1       NaN      NaN      NaN       NaN   \n",
       "59159         4        11       1       0.0      0.0      0.0       2.0   \n",
       "59160         4        10       1       NaN      NaN      NaN       NaN   \n",
       "59161         4        12       1       NaN      NaN      NaN       NaN   \n",
       "59162         4        12       1       0.0      0.0      0.0       2.0   \n",
       "59163         4        11       1       0.0      0.0      0.0       1.0   \n",
       "59164         4        12       1       NaN      NaN      NaN       NaN   \n",
       "59165         4        11       1       0.0      0.0      0.0       1.0   \n",
       "59166         4        10       1       NaN      NaN      NaN       NaN   \n",
       "59167         4        10       1       0.0      0.0      0.0       3.0   \n",
       "59168         4        10       1       NaN      NaN      NaN       NaN   \n",
       "59169         4        12       1       NaN      NaN      NaN       NaN   \n",
       "\n",
       "       ACPT_FAM  NON_INTV  RECTYPE  SRVY_YR    HHX  REGION  WTIA_HH  WTFA_HH  \\\n",
       "0           NaN       1.0       10     2015      1       2   3052.5        0   \n",
       "1           NaN       1.0       10     2015      2       1   2497.5        0   \n",
       "2           NaN       2.0       10     2015      3       1   1086.7        0   \n",
       "3           1.0       NaN       10     2015      4       3   3330.0     3330   \n",
       "4           1.0       NaN       10     2015      5       4    138.7      185   \n",
       "5           NaN       1.0       10     2015      6       1    668.8        0   \n",
       "6           NaN       5.0       10     2015     10       1   3330.0        0   \n",
       "7           1.0       NaN       10     2015     11       4   2200.0     4400   \n",
       "8           1.0       NaN       10     2015     13       3   3330.0     4171   \n",
       "9           NaN       2.0       10     2015     14       2    436.3        0   \n",
       "10          1.0       NaN       10     2015     16       4   1243.6     1244   \n",
       "11          NaN       1.0       10     2015     18       4      0.0        0   \n",
       "12          1.0       NaN       10     2015     19       3   1086.7     1268   \n",
       "13          1.0       NaN       10     2015     21       1    700.1     1225   \n",
       "14          NaN       1.0       10     2015     22       2      0.0        0   \n",
       "15          1.0       NaN       10     2015     23       4   2664.0     2687   \n",
       "16          1.0       NaN       10     2015     24       3   2497.5     3027   \n",
       "17          1.0       NaN       10     2015     25       2   1086.7     2173   \n",
       "18          NaN       1.0       10     2015     26       4    348.8        0   \n",
       "19          1.0       NaN       10     2015     27       4   3330.0     3686   \n",
       "20          1.0       NaN       10     2015     28       4    624.4      624   \n",
       "21          1.0       NaN       10     2015     31       1   1086.7     1328   \n",
       "22          1.0       NaN       10     2015     33       3   1788.0     2012   \n",
       "23          1.0       NaN       10     2015     34       1   1243.6     1244   \n",
       "24          1.0       NaN       10     2015     35       3   1928.8     1929   \n",
       "25          NaN       1.0       10     2015     36       4   1261.5        0   \n",
       "26          1.0       NaN       10     2015     39       4    138.7      139   \n",
       "27          1.0       NaN       10     2015     41       3   2200.0     2200   \n",
       "28          1.0       NaN       10     2015     42       3    270.5      270   \n",
       "29          NaN       1.0       10     2015     43       4   1243.6        0   \n",
       "...         ...       ...      ...      ...    ...     ...      ...      ...   \n",
       "59140       1.0       NaN       10     2015  85403       4    257.4      343   \n",
       "59141       NaN       1.0       10     2015  85404       1   1243.6        0   \n",
       "59142       NaN       1.0       10     2015  85405       3   1838.7        0   \n",
       "59143       1.0       NaN       10     2015  85406       4   1738.5     2509   \n",
       "59144       1.0       NaN       10     2015  85408       3   3330.0     3330   \n",
       "59145       NaN       1.0       10     2015  85410       2   2583.6        0   \n",
       "59146       1.0       NaN       10     2015  85416       3   1253.1     1949   \n",
       "59147       NaN       1.0       10     2015  85417       4   3451.4        0   \n",
       "59148       1.0       NaN       10     2015  85418       4     43.6       51   \n",
       "59149       1.0       NaN       10     2015  85419       1   3330.0     4026   \n",
       "59150       NaN       2.0       10     2015  85421       3      0.0        0   \n",
       "59151       1.0       NaN       10     2015  85424       4   2588.5     3897   \n",
       "59152       1.0       NaN       10     2015  85426       2   3458.0     3740   \n",
       "59153       1.0       NaN       10     2015  85427       4    329.5      439   \n",
       "59154       NaN       5.0       10     2015  85431       3    408.8        0   \n",
       "59155       NaN       1.0       10     2015  85432       4      0.0        0   \n",
       "59156       1.0       NaN       10     2015  85433       3   2200.0     2200   \n",
       "59157       1.0       NaN       10     2015  85434       2   2009.9     2433   \n",
       "59158       NaN       2.0       10     2015  85435       3   1117.5        0   \n",
       "59159       1.0       NaN       10     2015  85437       3   1757.5     2929   \n",
       "59160       NaN       1.0       10     2015  85438       3    408.8        0   \n",
       "59161       NaN       1.0       10     2015  85439       1   3330.0        0   \n",
       "59162       1.0       NaN       10     2015  85440       2   2003.6     2671   \n",
       "59163       1.0       NaN       10     2015  85442       1   3448.9     6898   \n",
       "59164       NaN       1.0       10     2015  85443       3      0.0        0   \n",
       "59165       1.0       NaN       10     2015  85444       2    469.9      587   \n",
       "59166       NaN       1.0       10     2015  85445       3   2006.0        0   \n",
       "59167       2.0       NaN       10     2015  85446       1   1850.1     1850   \n",
       "59168       NaN       2.0       10     2015  85447       3    866.5        0   \n",
       "59169       NaN       2.0       10     2015  85448       1    369.3        0   \n",
       "\n",
       "       STRAT_P  PSU_P  \n",
       "0          108      2  \n",
       "1           47      2  \n",
       "2           19      2  \n",
       "3          163      2  \n",
       "4          289      2  \n",
       "5           45      1  \n",
       "6           31      2  \n",
       "7          274      2  \n",
       "8          199      2  \n",
       "9          114      1  \n",
       "10         258      2  \n",
       "11         242      2  \n",
       "12         184      1  \n",
       "13          36      2  \n",
       "14          66      1  \n",
       "15         271      1  \n",
       "16         141      2  \n",
       "17          59      2  \n",
       "18         294      2  \n",
       "19         243      1  \n",
       "20         296      1  \n",
       "21          19      2  \n",
       "22         148      2  \n",
       "23          29      1  \n",
       "24         192      1  \n",
       "25         266      2  \n",
       "26         289      2  \n",
       "27         134      2  \n",
       "28         124      1  \n",
       "29         279      1  \n",
       "...        ...    ...  \n",
       "59140      294      2  \n",
       "59141       15      2  \n",
       "59142      146      2  \n",
       "59143      256      1  \n",
       "59144      222      2  \n",
       "59145       89      2  \n",
       "59146      159      1  \n",
       "59147      283      1  \n",
       "59148      293      2  \n",
       "59149        2      2  \n",
       "59150      127      1  \n",
       "59151      255      1  \n",
       "59152      104      1  \n",
       "59153      266      1  \n",
       "59154       24      2  \n",
       "59155      265      1  \n",
       "59156      195      1  \n",
       "59157       72      1  \n",
       "59158      150      2  \n",
       "59159      170      1  \n",
       "59160       24      1  \n",
       "59161       41      1  \n",
       "59162       78      2  \n",
       "59163        7      1  \n",
       "59164      158      2  \n",
       "59165      111      2  \n",
       "59166      216      1  \n",
       "59167       30      1  \n",
       "59168      195      2  \n",
       "59169       44      1  \n",
       "\n",
       "[59170 rows x 17 columns]"
      ]
     },
     "execution_count": 5,
     "metadata": {},
     "output_type": "execute_result"
    }
   ],
   "source": [
    "househld=pd.read_csv(RAW_DATA_DIR+'/househld.csv')\n",
    "househld"
   ]
  },
  {
   "cell_type": "markdown",
   "metadata": {
    "slideshow": {
     "slide_type": "slide"
    }
   },
   "source": [
    "### A bit about Series and DataFrames\n",
    "\n",
    "Pandas uses two main data structures:\n",
    "    - Series\n",
    "    - DataFrames\n",
    "    \n",
    "Series are lists of elements with an index. The index can be simple (0,1,2,3,...) or complex (01-Jan-17, 02-Jan-17, ...)\n",
    "\n",
    "DataFrames can be seen as a dictionary of Series.\n",
    "\n",
    "This means you can access a column by name."
   ]
  },
  {
   "cell_type": "code",
   "execution_count": 6,
   "metadata": {
    "collapsed": true,
    "slideshow": {
     "slide_type": "fragment"
    }
   },
   "outputs": [],
   "source": [
    "persons_in_household=househld['ACPT_PER']"
   ]
  },
  {
   "cell_type": "markdown",
   "metadata": {
    "slideshow": {
     "slide_type": "slide"
    }
   },
   "source": [
    "You can index the result like you would index a list"
   ]
  },
  {
   "cell_type": "code",
   "execution_count": 7,
   "metadata": {
    "collapsed": false,
    "slideshow": {
     "slide_type": "fragment"
    }
   },
   "outputs": [
    {
     "name": "stdout",
     "output_type": "stream",
     "text": [
      "0    NaN\n",
      "1    NaN\n",
      "2    NaN\n",
      "3    1.0\n",
      "4    4.0\n",
      "Name: ACPT_PER, dtype: float64\n"
     ]
    }
   ],
   "source": [
    "print(persons_in_household[:5])"
   ]
  },
  {
   "cell_type": "markdown",
   "metadata": {
    "slideshow": {
     "slide_type": "slide"
    }
   },
   "source": [
    "But the type is a Series"
   ]
  },
  {
   "cell_type": "code",
   "execution_count": 8,
   "metadata": {
    "collapsed": false,
    "slideshow": {
     "slide_type": "fragment"
    }
   },
   "outputs": [
    {
     "name": "stdout",
     "output_type": "stream",
     "text": [
      "<class 'pandas.core.series.Series'>\n"
     ]
    }
   ],
   "source": [
    "print(type(persons_in_household))"
   ]
  },
  {
   "cell_type": "markdown",
   "metadata": {
    "slideshow": {
     "slide_type": "fragment"
    }
   },
   "source": [
    "and that means it has additional attributes, like name, and summary stats"
   ]
  },
  {
   "cell_type": "code",
   "execution_count": 9,
   "metadata": {
    "collapsed": false,
    "slideshow": {
     "slide_type": "fragment"
    }
   },
   "outputs": [
    {
     "name": "stdout",
     "output_type": "stream",
     "text": [
      "ACPT_PER\n"
     ]
    }
   ],
   "source": [
    "print(persons_in_household.name)"
   ]
  },
  {
   "cell_type": "code",
   "execution_count": 10,
   "metadata": {
    "collapsed": false,
    "slideshow": {
     "slide_type": "fragment"
    }
   },
   "outputs": [
    {
     "name": "stdout",
     "output_type": "stream",
     "text": [
      "count    41493.000000\n",
      "mean         2.501362\n",
      "std          1.484156\n",
      "min          1.000000\n",
      "25%          1.000000\n",
      "50%          2.000000\n",
      "75%          3.000000\n",
      "max         15.000000\n",
      "Name: ACPT_PER, dtype: float64\n"
     ]
    }
   ],
   "source": [
    "print(persons_in_household.describe())"
   ]
  },
  {
   "cell_type": "markdown",
   "metadata": {
    "slideshow": {
     "slide_type": "slide"
    }
   },
   "source": [
    "### Selecting multiple columns\n",
    "If you select multiple columns, the result again is a DataFrame"
   ]
  },
  {
   "cell_type": "code",
   "execution_count": 11,
   "metadata": {
    "collapsed": false,
    "slideshow": {
     "slide_type": "fragment"
    }
   },
   "outputs": [
    {
     "name": "stdout",
     "output_type": "stream",
     "text": [
      "<class 'pandas.core.frame.DataFrame'>\n"
     ]
    }
   ],
   "source": [
    "accepted=househld[['ACPT_PER','ACPTCHLD']]\n",
    "print(type(accepted))"
   ]
  },
  {
   "cell_type": "code",
   "execution_count": 12,
   "metadata": {
    "collapsed": false,
    "slideshow": {
     "slide_type": "fragment"
    }
   },
   "outputs": [
    {
     "name": "stdout",
     "output_type": "stream",
     "text": [
      "   ACPT_PER  ACPTCHLD\n",
      "0       NaN       NaN\n",
      "1       NaN       NaN\n",
      "2       NaN       NaN\n",
      "3       1.0       0.0\n",
      "4       4.0       2.0\n"
     ]
    }
   ],
   "source": [
    "print(accepted.head())"
   ]
  },
  {
   "cell_type": "markdown",
   "metadata": {
    "slideshow": {
     "slide_type": "slide"
    }
   },
   "source": [
    "### Basic Stats and Plotting\n",
    "Pandas has a lot of built-in statistical functionality and plotting features"
   ]
  },
  {
   "cell_type": "code",
   "execution_count": 13,
   "metadata": {
    "collapsed": false,
    "slideshow": {
     "slide_type": "fragment"
    }
   },
   "outputs": [
    {
     "data": {
      "text/html": [
       "<div>\n",
       "<table border=\"1\" class=\"dataframe\">\n",
       "  <thead>\n",
       "    <tr style=\"text-align: right;\">\n",
       "      <th></th>\n",
       "      <th>ACPT_PER</th>\n",
       "      <th>ACPTCHLD</th>\n",
       "    </tr>\n",
       "  </thead>\n",
       "  <tbody>\n",
       "    <tr>\n",
       "      <th>count</th>\n",
       "      <td>41493.000000</td>\n",
       "      <td>41493.000000</td>\n",
       "    </tr>\n",
       "    <tr>\n",
       "      <th>mean</th>\n",
       "      <td>2.501362</td>\n",
       "      <td>0.618900</td>\n",
       "    </tr>\n",
       "    <tr>\n",
       "      <th>std</th>\n",
       "      <td>1.484156</td>\n",
       "      <td>1.067412</td>\n",
       "    </tr>\n",
       "    <tr>\n",
       "      <th>min</th>\n",
       "      <td>1.000000</td>\n",
       "      <td>0.000000</td>\n",
       "    </tr>\n",
       "    <tr>\n",
       "      <th>25%</th>\n",
       "      <td>1.000000</td>\n",
       "      <td>0.000000</td>\n",
       "    </tr>\n",
       "    <tr>\n",
       "      <th>50%</th>\n",
       "      <td>2.000000</td>\n",
       "      <td>0.000000</td>\n",
       "    </tr>\n",
       "    <tr>\n",
       "      <th>75%</th>\n",
       "      <td>3.000000</td>\n",
       "      <td>1.000000</td>\n",
       "    </tr>\n",
       "    <tr>\n",
       "      <th>max</th>\n",
       "      <td>15.000000</td>\n",
       "      <td>10.000000</td>\n",
       "    </tr>\n",
       "  </tbody>\n",
       "</table>\n",
       "</div>"
      ],
      "text/plain": [
       "           ACPT_PER      ACPTCHLD\n",
       "count  41493.000000  41493.000000\n",
       "mean       2.501362      0.618900\n",
       "std        1.484156      1.067412\n",
       "min        1.000000      0.000000\n",
       "25%        1.000000      0.000000\n",
       "50%        2.000000      0.000000\n",
       "75%        3.000000      1.000000\n",
       "max       15.000000     10.000000"
      ]
     },
     "execution_count": 13,
     "metadata": {},
     "output_type": "execute_result"
    }
   ],
   "source": [
    "accepted.describe()"
   ]
  },
  {
   "cell_type": "code",
   "execution_count": 14,
   "metadata": {
    "collapsed": false,
    "slideshow": {
     "slide_type": "subslide"
    }
   },
   "outputs": [
    {
     "data": {
      "text/plain": [
       "<matplotlib.axes._subplots.AxesSubplot at 0x7ff16f4fe780>"
      ]
     },
     "execution_count": 14,
     "metadata": {},
     "output_type": "execute_result"
    },
    {
     "data": {
      "image/png": "[encoded data removed]",
      "text/plain": [
       "<matplotlib.figure.Figure at 0x7ff16f4febe0>"
      ]
     },
     "metadata": {},
     "output_type": "display_data"
    }
   ],
   "source": [
    "accepted.plot(kind='box')"
   ]
  },
  {
   "cell_type": "markdown",
   "metadata": {
    "slideshow": {
     "slide_type": "slide"
    }
   },
   "source": [
    "### Looking at the data by Region\n",
    "We can have a look at the data by region. This shows another very simple way of plotting data. "
   ]
  },
  {
   "cell_type": "code",
   "execution_count": 15,
   "metadata": {
    "collapsed": false,
    "slideshow": {
     "slide_type": "fragment"
    }
   },
   "outputs": [
    {
     "data": {
      "text/plain": [
       "<matplotlib.axes._subplots.AxesSubplot at 0x7ff172d6a940>"
      ]
     },
     "execution_count": 15,
     "metadata": {},
     "output_type": "execute_result"
    },
    {
     "data": {
      "image/png": "[encoded data removed]",
      "text/plain": [
       "<matplotlib.figure.Figure at 0x7ff172cfc080>"
      ]
     },
     "metadata": {},
     "output_type": "display_data"
    }
   ],
   "source": [
    "househld['REGION'].plot(kind='hist')"
   ]
  },
  {
   "cell_type": "markdown",
   "metadata": {
    "slideshow": {
     "slide_type": "slide"
    }
   },
   "source": [
    "What we see is that the number of responses is not equally divided. But the data also has a weight for the household that allows us to extrapolate to the overal US population. \n",
    "\n",
    "We will use Group By to add up the weights. \n",
    "\n"
   ]
  },
  {
   "cell_type": "code",
   "execution_count": 16,
   "metadata": {
    "collapsed": false,
    "slideshow": {
     "slide_type": "fragment"
    }
   },
   "outputs": [
    {
     "data": {
      "text/html": [
       "<div>\n",
       "<table border=\"1\" class=\"dataframe\">\n",
       "  <thead>\n",
       "    <tr style=\"text-align: right;\">\n",
       "      <th></th>\n",
       "      <th>WTFA_HH</th>\n",
       "    </tr>\n",
       "    <tr>\n",
       "      <th>REGION</th>\n",
       "      <th></th>\n",
       "    </tr>\n",
       "  </thead>\n",
       "  <tbody>\n",
       "    <tr>\n",
       "      <th>1</th>\n",
       "      <td>17435297</td>\n",
       "    </tr>\n",
       "    <tr>\n",
       "      <th>2</th>\n",
       "      <td>22331153</td>\n",
       "    </tr>\n",
       "    <tr>\n",
       "      <th>3</th>\n",
       "      <td>36557976</td>\n",
       "    </tr>\n",
       "    <tr>\n",
       "      <th>4</th>\n",
       "      <td>22025663</td>\n",
       "    </tr>\n",
       "  </tbody>\n",
       "</table>\n",
       "</div>"
      ],
      "text/plain": [
       "         WTFA_HH\n",
       "REGION          \n",
       "1       17435297\n",
       "2       22331153\n",
       "3       36557976\n",
       "4       22025663"
      ]
     },
     "execution_count": 16,
     "metadata": {},
     "output_type": "execute_result"
    }
   ],
   "source": [
    "by_region=househld[['REGION','WTFA_HH']].groupby('REGION').sum()\n",
    "by_region"
   ]
  },
  {
   "cell_type": "markdown",
   "metadata": {
    "slideshow": {
     "slide_type": "slide"
    }
   },
   "source": [
    "Add a column"
   ]
  },
  {
   "cell_type": "code",
   "execution_count": 17,
   "metadata": {
    "collapsed": false,
    "slideshow": {
     "slide_type": "fragment"
    }
   },
   "outputs": [
    {
     "data": {
      "text/html": [
       "<div>\n",
       "<table border=\"1\" class=\"dataframe\">\n",
       "  <thead>\n",
       "    <tr style=\"text-align: right;\">\n",
       "      <th></th>\n",
       "      <th>WTFA_HH</th>\n",
       "      <th>Responses</th>\n",
       "    </tr>\n",
       "    <tr>\n",
       "      <th>REGION</th>\n",
       "      <th></th>\n",
       "      <th></th>\n",
       "    </tr>\n",
       "  </thead>\n",
       "  <tbody>\n",
       "    <tr>\n",
       "      <th>1</th>\n",
       "      <td>17435297</td>\n",
       "      <td>10937</td>\n",
       "    </tr>\n",
       "    <tr>\n",
       "      <th>2</th>\n",
       "      <td>22331153</td>\n",
       "      <td>11913</td>\n",
       "    </tr>\n",
       "    <tr>\n",
       "      <th>3</th>\n",
       "      <td>36557976</td>\n",
       "      <td>20447</td>\n",
       "    </tr>\n",
       "    <tr>\n",
       "      <th>4</th>\n",
       "      <td>22025663</td>\n",
       "      <td>15873</td>\n",
       "    </tr>\n",
       "  </tbody>\n",
       "</table>\n",
       "</div>"
      ],
      "text/plain": [
       "         WTFA_HH  Responses\n",
       "REGION                     \n",
       "1       17435297      10937\n",
       "2       22331153      11913\n",
       "3       36557976      20447\n",
       "4       22025663      15873"
      ]
     },
     "execution_count": 17,
     "metadata": {},
     "output_type": "execute_result"
    }
   ],
   "source": [
    "responses=househld[['REGION','WTFA_HH']].groupby('REGION').count()\n",
    "responses.name = \"Responses\"\n",
    "\n",
    "by_region['Responses']=responses\n",
    "by_region"
   ]
  },
  {
   "cell_type": "markdown",
   "metadata": {
    "slideshow": {
     "slide_type": "subslide"
    }
   },
   "source": [
    "And we will change the index to a more complex one, based on the [documentation of the household file](ftp://ftp.cdc.gov/pub/Health_Statistics/NCHS/Dataset_Documentation/NHIS/2015/househld_layout.pdf)."
   ]
  },
  {
   "cell_type": "code",
   "execution_count": 18,
   "metadata": {
    "collapsed": false,
    "slideshow": {
     "slide_type": "fragment"
    }
   },
   "outputs": [
    {
     "data": {
      "text/html": [
       "<div>\n",
       "<table border=\"1\" class=\"dataframe\">\n",
       "  <thead>\n",
       "    <tr style=\"text-align: right;\">\n",
       "      <th></th>\n",
       "      <th>WTFA_HH</th>\n",
       "      <th>Responses</th>\n",
       "    </tr>\n",
       "  </thead>\n",
       "  <tbody>\n",
       "    <tr>\n",
       "      <th>Northeast</th>\n",
       "      <td>17435297</td>\n",
       "      <td>10937</td>\n",
       "    </tr>\n",
       "    <tr>\n",
       "      <th>Midwest</th>\n",
       "      <td>22331153</td>\n",
       "      <td>11913</td>\n",
       "    </tr>\n",
       "    <tr>\n",
       "      <th>South</th>\n",
       "      <td>36557976</td>\n",
       "      <td>20447</td>\n",
       "    </tr>\n",
       "    <tr>\n",
       "      <th>West</th>\n",
       "      <td>22025663</td>\n",
       "      <td>15873</td>\n",
       "    </tr>\n",
       "  </tbody>\n",
       "</table>\n",
       "</div>"
      ],
      "text/plain": [
       "            WTFA_HH  Responses\n",
       "Northeast  17435297      10937\n",
       "Midwest    22331153      11913\n",
       "South      36557976      20447\n",
       "West       22025663      15873"
      ]
     },
     "execution_count": 18,
     "metadata": {},
     "output_type": "execute_result"
    }
   ],
   "source": [
    "by_region.index=['Northeast','Midwest','South','West']\n",
    "by_region"
   ]
  },
  {
   "cell_type": "markdown",
   "metadata": {
    "slideshow": {
     "slide_type": "slide"
    }
   },
   "source": [
    "### Saving this result\n",
    "We can use any of the to_xyz() functions to save this data to a file.\n",
    "\n",
    "Here we don't supply a path to save the data, which in turn just returns the result in the requested format."
   ]
  },
  {
   "cell_type": "code",
   "execution_count": 19,
   "metadata": {
    "collapsed": false,
    "slideshow": {
     "slide_type": "fragment"
    }
   },
   "outputs": [
    {
     "name": "stdout",
     "output_type": "stream",
     "text": [
      "{\"WTFA_HH\":{\"Northeast\":17435297,\"Midwest\":22331153,\"South\":36557976,\"West\":22025663},\"Responses\":{\"Northeast\":10937,\"Midwest\":11913,\"South\":20447,\"West\":15873}}\n"
     ]
    }
   ],
   "source": [
    "print(by_region.to_json())"
   ]
  },
  {
   "cell_type": "markdown",
   "metadata": {
    "slideshow": {
     "slide_type": "slide"
    }
   },
   "source": [
    "### Dealing with missing values\n",
    "It appears that the household file also holds information about why people did not respond. This field is empty if people responded.\n",
    "\n",
    "We are going to use that to filter the data, with a boolean index.\n",
    "\n",
    "We will use the NON_INTV response code to create the boolean index"
   ]
  },
  {
   "cell_type": "code",
   "execution_count": 20,
   "metadata": {
    "collapsed": false,
    "slideshow": {
     "slide_type": "fragment"
    }
   },
   "outputs": [],
   "source": [
    "non_response_code=househld['NON_INTV']"
   ]
  },
  {
   "cell_type": "code",
   "execution_count": 21,
   "metadata": {
    "collapsed": false,
    "slideshow": {
     "slide_type": "fragment"
    }
   },
   "outputs": [
    {
     "name": "stdout",
     "output_type": "stream",
     "text": [
      "Total size: (59170, 17)\n",
      "Responses: (41493, 17)\n",
      "Non responses: (17677, 17)\n"
     ]
    }
   ],
   "source": [
    "import math\n",
    "\n",
    "# If the value Is Not A Number math.isnan() will return True.\n",
    "\n",
    "responded=[math.isnan(x) for x in non_response_code]\n",
    "notresponded=[not math.isnan(x) for x in non_response_code]\n",
    "\n",
    "resp=househld[responded]\n",
    "nonresp=househld[notresponded]\n",
    "\n",
    "print(\"Total size: {}\".format(househld.shape))\n",
    "print(\"Responses: {}\".format(resp.shape))\n",
    "print(\"Non responses: {}\".format(nonresp.shape))"
   ]
  },
  {
   "cell_type": "markdown",
   "metadata": {
    "slideshow": {
     "slide_type": "slide"
    }
   },
   "source": [
    "Now we create a group by the reason code, why people did not respond"
   ]
  },
  {
   "cell_type": "code",
   "execution_count": 22,
   "metadata": {
    "collapsed": false,
    "slideshow": {
     "slide_type": "fragment"
    }
   },
   "outputs": [],
   "source": [
    "non_intv_group=nonresp.groupby('NON_INTV')"
   ]
  },
  {
   "cell_type": "code",
   "execution_count": 23,
   "metadata": {
    "collapsed": false,
    "slideshow": {
     "slide_type": "fragment"
    }
   },
   "outputs": [
    {
     "data": {
      "text/plain": [
       "NON_INTV\n",
       "1.0    12061\n",
       "2.0     3309\n",
       "3.0      323\n",
       "4.0      142\n",
       "5.0     1842\n",
       "dtype: int64"
      ]
     },
     "execution_count": 23,
     "metadata": {},
     "output_type": "execute_result"
    }
   ],
   "source": [
    "non_intv_group.size()"
   ]
  },
  {
   "cell_type": "markdown",
   "metadata": {
    "slideshow": {
     "slide_type": "slide"
    }
   },
   "source": [
    "### Filling missing data\n",
    "If we just plot the data from the original DataFrame, we only get the data with a value.\n",
    "\n",
    "We can use the fillna() function to solve that and see all data."
   ]
  },
  {
   "cell_type": "code",
   "execution_count": 24,
   "metadata": {
    "collapsed": false,
    "slideshow": {
     "slide_type": "fragment"
    }
   },
   "outputs": [
    {
     "data": {
      "text/plain": [
       "array([[<matplotlib.axes._subplots.AxesSubplot object at 0x7ff172c4bac8>,\n",
       "        <matplotlib.axes._subplots.AxesSubplot object at 0x7ff172e736a0>],\n",
       "       [<matplotlib.axes._subplots.AxesSubplot object at 0x7ff172446da0>,\n",
       "        <matplotlib.axes._subplots.AxesSubplot object at 0x7ff172427ef0>],\n",
       "       [<matplotlib.axes._subplots.AxesSubplot object at 0x7ff171ae2160>,\n",
       "        <matplotlib.axes._subplots.AxesSubplot object at 0x7ff171ae2198>]], dtype=object)"
      ]
     },
     "execution_count": 24,
     "metadata": {},
     "output_type": "execute_result"
    },
    {
     "data": {
      "image/png": "[encoded data removed]",
      "text/plain": [
       "<matplotlib.figure.Figure at 0x7ff172bfb080>"
      ]
     },
     "metadata": {},
     "output_type": "display_data"
    }
   ],
   "source": [
    "househld['INTV_MON'].hist(by=househld['NON_INTV'].fillna(0))"
   ]
  },
  {
   "cell_type": "markdown",
   "metadata": {
    "collapsed": true,
    "slideshow": {
     "slide_type": "subslide"
    }
   },
   "source": [
    "[Back to Agenda](http://localhost:8000/notebooks/Lunch_And_Learn_Session_2_Index.slides.html)"
   ]
  }
 ],
 "metadata": {
  "celltoolbar": "Slideshow",
  "kernelspec": {
   "display_name": "Python 3",
   "language": "python",
   "name": "python3"
  },
  "language_info": {
   "codemirror_mode": {
    "name": "ipython",
    "version": 3
   },
   "file_extension": ".py",
   "mimetype": "text/x-python",
   "name": "python",
   "nbconvert_exporter": "python",
   "pygments_lexer": "ipython3",
   "version": "3.6.0"
  }
 },
 "nbformat": 4,
 "nbformat_minor": 2
}
