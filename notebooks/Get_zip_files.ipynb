{
 "cells": [
  {
   "cell_type": "markdown",
   "metadata": {
    "slideshow": {
     "slide_type": "slide"
    }
   },
   "source": [
    "## Using environment variables saved in a .env file\n",
    "<code>dotenv</code> is a package that finds and reads a .env file and then creates environment variables from the contents."
   ]
  },
  {
   "cell_type": "code",
   "execution_count": 1,
   "metadata": {
    "collapsed": false,
    "slideshow": {
     "slide_type": "fragment"
    }
   },
   "outputs": [
    {
     "data": {
      "text/plain": [
       "True"
      ]
     },
     "execution_count": 1,
     "metadata": {},
     "output_type": "execute_result"
    }
   ],
   "source": [
    "import os\n",
    "from dotenv import load_dotenv, find_dotenv\n",
    "\n",
    "# find .env automagically by walking up directories until it's found\n",
    "dotenv_path = find_dotenv()\n",
    "\n",
    "# load up the entries as environment variables\n",
    "load_dotenv(dotenv_path)"
   ]
  },
  {
   "cell_type": "markdown",
   "metadata": {
    "slideshow": {
     "slide_type": "slide"
    }
   },
   "source": [
    "Once the .env file has been loaded you can use the environment variables and the <code>dotenv_path</code>"
   ]
  },
  {
   "cell_type": "code",
   "execution_count": 2,
   "metadata": {
    "collapsed": false,
    "slideshow": {
     "slide_type": "fragment"
    }
   },
   "outputs": [
    {
     "name": "stdout",
     "output_type": "stream",
     "text": [
      "Project directory is  : /home/gsentveld/lunch_and_learn\n",
      "External directory is : /home/gsentveld/lunch_and_learn/data/external\n",
      "Source data URL is    : https://ftp.cdc.gov/pub/Health_Statistics/NCHS/Datasets/NHIS/2015/\n",
      "Base names of files   : fmlydisb funcdisb familyxx househld injpoiep personsx samadult samchild paradata cancerxx\n"
     ]
    }
   ],
   "source": [
    "# Get the project folders that we are interested in\n",
    "PROJECT_DIR = os.path.dirname(dotenv_path)\n",
    "EXTERNAL_DATA_DIR = PROJECT_DIR + os.environ.get(\"EXTERNAL_DATA_DIR\")\n",
    "\n",
    "# Get the base URL of the data\n",
    "BASE_URL = os.environ.get(\"BASE_URL\")\n",
    "\n",
    "# Get the list of filenames\n",
    "files=os.environ.get(\"FILES\").split()\n",
    "\n",
    "print(\"Project directory is  : {0}\".format(PROJECT_DIR))\n",
    "print(\"External directory is : {0}\".format(EXTERNAL_DATA_DIR))\n",
    "print(\"Source data URL is    : {0}\".format(BASE_URL))\n",
    "print(\"Base names of files   : {0}\".format(\" \".join(files)))"
   ]
  },
  {
   "cell_type": "markdown",
   "metadata": {
    "slideshow": {
     "slide_type": "slide"
    }
   },
   "source": [
    "Getting the files is done with <code>urllib.request</code>"
   ]
  },
  {
   "cell_type": "code",
   "execution_count": 4,
   "metadata": {
    "collapsed": false,
    "slideshow": {
     "slide_type": "fragment"
    }
   },
   "outputs": [
    {
     "name": "stdout",
     "output_type": "stream",
     "text": [
      "Get https://ftp.cdc.gov/pub/Health_Statistics/NCHS/Datasets/NHIS/2015/fmlydisb.zip\n",
      "Get https://ftp.cdc.gov/pub/Health_Statistics/NCHS/Datasets/NHIS/2015/funcdisb.zip\n",
      "Get https://ftp.cdc.gov/pub/Health_Statistics/NCHS/Datasets/NHIS/2015/familyxx.zip\n",
      "Get https://ftp.cdc.gov/pub/Health_Statistics/NCHS/Datasets/NHIS/2015/househld.zip\n",
      "Get https://ftp.cdc.gov/pub/Health_Statistics/NCHS/Datasets/NHIS/2015/injpoiep.zip\n",
      "Get https://ftp.cdc.gov/pub/Health_Statistics/NCHS/Datasets/NHIS/2015/personsx.zip\n",
      "Get https://ftp.cdc.gov/pub/Health_Statistics/NCHS/Datasets/NHIS/2015/samadult.zip\n",
      "Get https://ftp.cdc.gov/pub/Health_Statistics/NCHS/Datasets/NHIS/2015/samchild.zip\n",
      "Get https://ftp.cdc.gov/pub/Health_Statistics/NCHS/Datasets/NHIS/2015/paradata.zip\n",
      "Get https://ftp.cdc.gov/pub/Health_Statistics/NCHS/Datasets/NHIS/2015/cancerxx.zip\n",
      "Done.\n"
     ]
    }
   ],
   "source": [
    "import urllib.request\n",
    "\n",
    "for file in files:\n",
    "    \n",
    "    # transform the base filename into a URL and a target filename\n",
    "    url=BASE_URL + file + '.zip'\n",
    "    targetfile=EXTERNAL_DATA_DIR + '/' + file + '.zip'\n",
    "\n",
    "    # By specifying the end=\" ... \" parameter to the print function, you surpress the newline.\n",
    "    # You can also specify end=\"\" to have subsequent print statements connect\n",
    "    print('Get {0}'.format(url))\n",
    "    \n",
    "    urllib.request.urlretrieve(url, targetfile)\n",
    "\n",
    "print('Done.')"
   ]
  },
  {
   "cell_type": "markdown",
   "metadata": {
    "slideshow": {
     "slide_type": "subslide"
    }
   },
   "source": [
    "[Back to Agenda](http://localhost:8000/notebooks/Lunch_And_Learn_Session_2_Index.slides.html)"
   ]
  }
 ],
 "metadata": {
  "celltoolbar": "Slideshow",
  "kernelspec": {
   "display_name": "Python 3",
   "language": "python",
   "name": "python3"
  },
  "language_info": {
   "codemirror_mode": {
    "name": "ipython",
    "version": 3
   },
   "file_extension": ".py",
   "mimetype": "text/x-python",
   "name": "python",
   "nbconvert_exporter": "python",
   "pygments_lexer": "ipython3",
   "version": "3.6.0"
  }
 },
 "nbformat": 4,
 "nbformat_minor": 2
}
