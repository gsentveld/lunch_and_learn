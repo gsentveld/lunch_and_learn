{
 "cells": [
  {
   "cell_type": "code",
   "execution_count": 1,
   "metadata": {
    "collapsed": false
   },
   "outputs": [],
   "source": [
    "import os\n",
    "from dotenv import load_dotenv, find_dotenv\n",
    "\n",
    "# find .env automagically by walking up directories until it's found\n",
    "dotenv_path = find_dotenv()\n",
    "\n",
    "# load up the entries as environment variables\n",
    "load_dotenv(dotenv_path)\n",
    "\n",
    "PROJECT_DIR = os.path.dirname(dotenv_path)\n",
    "BASE_URL = os.environ.get(\"BASE_URL\")\n",
    "EXTERNAL_DATA_DIR = PROJECT_DIR + os.environ.get(\"EXTERNAL_DATA_DIR\")\n",
    "RAW_DATA_DIR = PROJECT_DIR + os.environ.get(\"RAW_DATA_DIR\")\n",
    "INTERIM_DATA_DIR = PROJECT_DIR + os.environ.get(\"INTERIM_DATA_DIR\")\n",
    "PROCESSED_DATA_DIR = PROJECT_DIR + os.environ.get(\"PROCESSED_DATA_DIR\")\n",
    "files=os.environ.get(\"FILES\").split()"
   ]
  },
  {
   "cell_type": "code",
   "execution_count": 2,
   "metadata": {
    "collapsed": false
   },
   "outputs": [
    {
     "name": "stdout",
     "output_type": "stream",
     "text": [
      "/home/gsentveld/datascience101/lunch_and_learn/data/external\n"
     ]
    }
   ],
   "source": [
    "print(EXTERNAL_DATA_DIR)"
   ]
  },
  {
   "cell_type": "code",
   "execution_count": 3,
   "metadata": {
    "collapsed": false
   },
   "outputs": [
    {
     "name": "stdout",
     "output_type": "stream",
     "text": [
      "Retrieving fmlydisb\n",
      "Done.\n",
      "Retrieving funcdisb\n",
      "Done.\n",
      "Retrieving familyxx\n",
      "Done.\n",
      "Retrieving househld\n",
      "Done.\n",
      "Retrieving injpoiep\n",
      "Done.\n",
      "Retrieving personsx\n",
      "Done.\n",
      "Retrieving samadult\n",
      "Done.\n",
      "Retrieving samchild\n",
      "Done.\n",
      "Retrieving paradata\n",
      "Done.\n",
      "Retrieving cancerxx\n",
      "Done.\n"
     ]
    }
   ],
   "source": [
    "import requests, re, urllib\n",
    "\n",
    "for file in files:\n",
    "    print('Retrieving {0}'.format(file))\n",
    "    urllib.request.urlretrieve(BASE_URL + file + '.zip', EXTERNAL_DATA_DIR + '/' + file + '.zip')\n",
    "    print('Done.')"
   ]
  }
 ],
 "metadata": {
  "kernelspec": {
   "display_name": "Python 3",
   "language": "python",
   "name": "python3"
  },
  "language_info": {
   "codemirror_mode": {
    "name": "ipython",
    "version": 3
   },
   "file_extension": ".py",
   "mimetype": "text/x-python",
   "name": "python",
   "nbconvert_exporter": "python",
   "pygments_lexer": "ipython3",
   "version": "3.6.0"
  }
 },
 "nbformat": 4,
 "nbformat_minor": 2
}
