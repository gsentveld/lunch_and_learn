{
 "cells": [
  {
   "cell_type": "markdown",
   "metadata": {
    "slideshow": {
     "slide_type": "slide"
    }
   },
   "source": [
    "### Exploring the files with Pandas\n",
    "Many statistical Python packages can deal with numpy Arrays.\n",
    "\n",
    "Numpy Arrays however are not always easy to use. \n",
    "\n",
    "Pandas is a package that provides a dataframe interface, similar to what R uses as the main data structure.\n",
    "Since Pandas has become so popular, many packages accept both pd.DataFrames and numpy Arrays."
   ]
  },
  {
   "cell_type": "code",
   "execution_count": 1,
   "metadata": {
    "collapsed": false,
    "slideshow": {
     "slide_type": "skip"
    }
   },
   "outputs": [
    {
     "data": {
      "text/plain": [
       "True"
      ]
     },
     "execution_count": 1,
     "metadata": {},
     "output_type": "execute_result"
    }
   ],
   "source": [
    "import os\n",
    "from dotenv import load_dotenv, find_dotenv\n",
    "\n",
    "# find .env automagically by walking up directories until it's found\n",
    "dotenv_path = find_dotenv()\n",
    "\n",
    "# load up the entries as environment variables\n",
    "load_dotenv(dotenv_path)"
   ]
  },
  {
   "cell_type": "markdown",
   "metadata": {
    "slideshow": {
     "slide_type": "slide"
    }
   },
   "source": [
    "### First some environment variables\n",
    "We now use the files that are stored in the RAW directory.\n",
    "\n",
    "If we decide to change the data format by changing names, adding features, created summary data frames etc., we will save those files in the INTERIM directory."
   ]
  },
  {
   "cell_type": "code",
   "execution_count": 2,
   "metadata": {
    "collapsed": false,
    "slideshow": {
     "slide_type": "fragment"
    }
   },
   "outputs": [
    {
     "name": "stdout",
     "output_type": "stream",
     "text": [
      "Project directory is  : /home/gsentveld/lunch_and_learn\n",
      "Raw data directory is : /home/gsentveld/lunch_and_learn/data/raw\n",
      "Interim directory is  : /home/gsentveld/lunch_and_learn/data/interim\n"
     ]
    }
   ],
   "source": [
    "PROJECT_DIR = os.path.dirname(dotenv_path)\n",
    "RAW_DATA_DIR = PROJECT_DIR + os.environ.get(\"RAW_DATA_DIR\")\n",
    "INTERIM_DATA_DIR = PROJECT_DIR + os.environ.get(\"INTERIM_DATA_DIR\")\n",
    "files=os.environ.get(\"FILES\").split()\n",
    "\n",
    "print(\"Project directory is  : {0}\".format(PROJECT_DIR))\n",
    "print(\"Raw data directory is : {0}\".format(RAW_DATA_DIR))\n",
    "print(\"Interim directory is  : {0}\".format(INTERIM_DATA_DIR))"
   ]
  },
  {
   "cell_type": "markdown",
   "metadata": {
    "slideshow": {
     "slide_type": "slide"
    }
   },
   "source": [
    "### Importing pandas and matplotlib.pyplot"
   ]
  },
  {
   "cell_type": "code",
   "execution_count": 3,
   "metadata": {
    "collapsed": false,
    "slideshow": {
     "slide_type": "fragment"
    }
   },
   "outputs": [],
   "source": [
    "# The following jupyter notebook magic makes the plots appear in the notebook. \n",
    "# If you run in batch mode, you have to save your plots as images.\n",
    "%matplotlib inline\n",
    "\n",
    "# matplotlib.pyplot is traditionally imported as plt\n",
    "import matplotlib.pyplot as plt\n",
    "\n",
    "# Pandas is traditionaly imported as pd.\n",
    "import pandas as pd\n",
    "from pylab import rcParams\n",
    "\n",
    "# some display options to size the figures. feel free to experiment\n",
    "pd.set_option('display.max_columns', 25)\n",
    "rcParams['figure.figsize'] = (17, 7)"
   ]
  },
  {
   "cell_type": "markdown",
   "metadata": {
    "slideshow": {
     "slide_type": "slide"
    }
   },
   "source": [
    "### Reading a file in Pandas\n",
    "Reading a CSV file is really easy in Pandas. There are several formats that Pandas can deal with.\n",
    "\n",
    "|Format Type|Data Description|Reader|Writer|\n",
    "|---|---|---|---|\n",
    "|text|CSV|read_csv|to_csv|\n",
    "|text|JSON|read_json|to_json|\n",
    "|text|HTML|read_html|to_html|\n",
    "|text|Local clipboard|read_clipboard|to_clipboard|\n",
    "|binary|MS Excel|read_excel|to_excel|\n",
    "|binary|HDF5 Format|read_hdf|to_hdf|\n",
    "|binary|Feather Format|read_feather|to_feather|\n",
    "|binary|Msgpack|read_msgpack|to_msgpack|\n",
    "|binary|Stata|read_stata|to_stata|\n",
    "|binary|SAS|read_sas ||\n",
    "|binary|Python Pickle Format|read_pickle|to_pickle|\n",
    "|SQL|SQL|read_sql|to_sql|\n",
    "|SQL|Google Big Query|read_gbq|to_gbq|"
   ]
  },
  {
   "cell_type": "markdown",
   "metadata": {
    "slideshow": {
     "slide_type": "slide"
    }
   },
   "source": [
    "We will use <code>pd.read_csv()</code>.\n",
    "\n",
    "As you will see, the Jupyter notebook prints out a very nice rendition of the DataFrame object that is the result"
   ]
  },
  {
   "cell_type": "code",
   "execution_count": 4,
   "metadata": {
    "collapsed": false,
    "slideshow": {
     "slide_type": "skip"
    }
   },
   "outputs": [],
   "source": [
    "\n",
    "#family=pd.read_csv(RAW_DATA_DIR+'/familyxx.csv')\n",
    "#persons=pd.read_csv(RAW_DATA_DIR+'/personsx.csv')\n",
    "samadult=pd.read_csv(RAW_DATA_DIR+'/samadult.csv')"
   ]
  },
  {
   "cell_type": "code",
   "execution_count": 5,
   "metadata": {
    "collapsed": false
   },
   "outputs": [
    {
     "data": {
      "text/plain": [
       "['FPX',\n",
       " 'FMX',\n",
       " 'HHX',\n",
       " 'INTV_QRT',\n",
       " 'WTIA_SA',\n",
       " 'WTFA_SA',\n",
       " 'SEX',\n",
       " 'HISPAN_I',\n",
       " 'R_MARITL',\n",
       " 'MRACRPI2',\n",
       " 'RACERPI2',\n",
       " 'MRACBPI2',\n",
       " 'AGE_P',\n",
       " 'RECTYPE',\n",
       " 'SRVY_YR',\n",
       " 'INTV_MON',\n",
       " 'REGION',\n",
       " 'STRAT_P',\n",
       " 'PSU_P',\n",
       " 'PAR_STAT',\n",
       " 'FDRN_FLG',\n",
       " 'PROX1',\n",
       " 'PROX2',\n",
       " 'LATEINTA',\n",
       " 'PROXYSA',\n",
       " 'DIFAGE2',\n",
       " 'HYPEV',\n",
       " 'HYPDIFV',\n",
       " 'HYPMDEV2',\n",
       " 'HYPMED2',\n",
       " 'CHLEV',\n",
       " 'CHLYR',\n",
       " 'CHLMDEV2',\n",
       " 'CHLMDNW2',\n",
       " 'CHDEV',\n",
       " 'ANGEV',\n",
       " 'MIEV',\n",
       " 'HRTEV',\n",
       " 'STREV',\n",
       " 'EPHEV',\n",
       " 'COPDEV',\n",
       " 'ASPMEDEV',\n",
       " 'ASPMEDAD',\n",
       " 'ASPMDMED',\n",
       " 'ASPONOWN',\n",
       " 'AASMEV',\n",
       " 'AASSTILL',\n",
       " 'AASMYR',\n",
       " 'AASERYR1',\n",
       " 'ULCEV',\n",
       " 'ULCYR',\n",
       " 'ULCCOLEV',\n",
       " 'CANEV',\n",
       " 'CNKIND1',\n",
       " 'CNKIND2',\n",
       " 'CNKIND3',\n",
       " 'CNKIND4',\n",
       " 'CNKIND5',\n",
       " 'CNKIND6',\n",
       " 'CNKIND7',\n",
       " 'CNKIND8',\n",
       " 'CNKIND9',\n",
       " 'CNKIND10',\n",
       " 'CNKIND11',\n",
       " 'CNKIND12',\n",
       " 'CNKIND13',\n",
       " 'CNKIND14',\n",
       " 'CNKIND15',\n",
       " 'CNKIND16',\n",
       " 'CNKIND17',\n",
       " 'CNKIND18',\n",
       " 'CNKIND19',\n",
       " 'CNKIND20',\n",
       " 'CNKIND21',\n",
       " 'CNKIND22',\n",
       " 'CNKIND23',\n",
       " 'CNKIND24',\n",
       " 'CNKIND25',\n",
       " 'CNKIND26',\n",
       " 'CNKIND27',\n",
       " 'CNKIND28',\n",
       " 'CNKIND29',\n",
       " 'CNKIND30',\n",
       " 'CNKIND31',\n",
       " 'DIBEV',\n",
       " 'DIBPRE1',\n",
       " 'INSLN',\n",
       " 'DIBPILL',\n",
       " 'EPILEP1',\n",
       " 'EPILEP2',\n",
       " 'EPILEP3',\n",
       " 'EPILEP4',\n",
       " 'EPILEP5',\n",
       " 'AHAYFYR',\n",
       " 'SINYR',\n",
       " 'CBRCHYR',\n",
       " 'KIDWKYR',\n",
       " 'LIVYR',\n",
       " 'JNTSYMP',\n",
       " 'JMTHP1',\n",
       " 'JMTHP2',\n",
       " 'JMTHP3',\n",
       " 'JMTHP4',\n",
       " 'JMTHP5',\n",
       " 'JMTHP6',\n",
       " 'JMTHP7',\n",
       " 'JMTHP8',\n",
       " 'JMTHP9',\n",
       " 'JMTHP10',\n",
       " 'JMTHP11',\n",
       " 'JMTHP12',\n",
       " 'JMTHP13',\n",
       " 'JMTHP14',\n",
       " 'JMTHP15',\n",
       " 'JMTHP16',\n",
       " 'JMTHP17',\n",
       " 'JNTCHR',\n",
       " 'JNTHP',\n",
       " 'ARTH1',\n",
       " 'ARTHLMT',\n",
       " 'CTSEVER',\n",
       " 'CTSYR',\n",
       " 'CTSWKRL2',\n",
       " 'PAINECK',\n",
       " 'PAINLB',\n",
       " 'PAINLEG',\n",
       " 'LBPFREQ',\n",
       " 'LBPSEV',\n",
       " 'LBPWKREL',\n",
       " 'LBPWKRL2',\n",
       " 'LBPWCCLM',\n",
       " 'LBPWCBEN',\n",
       " 'LBPWKDAY',\n",
       " 'LBPCHJOB',\n",
       " 'PAINFACE',\n",
       " 'AMIGR',\n",
       " 'ACOLD2W',\n",
       " 'AINTIL2W',\n",
       " 'PREGNOW',\n",
       " 'PREGFLYR',\n",
       " 'HRAIDNOW',\n",
       " 'HRAIDEV',\n",
       " 'AHEARST1',\n",
       " 'AVISION',\n",
       " 'ABLIND',\n",
       " 'LUPPRT',\n",
       " 'HYPYR1',\n",
       " 'CTSWKRL1',\n",
       " 'CANAGE1',\n",
       " 'CANAGE2',\n",
       " 'CANAGE3',\n",
       " 'CANAGE4',\n",
       " 'CANAGE5',\n",
       " 'CANAGE6',\n",
       " 'CANAGE7',\n",
       " 'CANAGE8',\n",
       " 'CANAGE9',\n",
       " 'CANAGE10',\n",
       " 'CANAGE11',\n",
       " 'CANAGE12',\n",
       " 'CANAGE13',\n",
       " 'CANAGE14',\n",
       " 'CANAGE15',\n",
       " 'CANAGE16',\n",
       " 'CANAGE17',\n",
       " 'CANAGE18',\n",
       " 'CANAGE19',\n",
       " 'CANAGE20',\n",
       " 'CANAGE21',\n",
       " 'CANAGE22',\n",
       " 'CANAGE23',\n",
       " 'CANAGE24',\n",
       " 'CANAGE25',\n",
       " 'CANAGE26',\n",
       " 'CANAGE27',\n",
       " 'CANAGE28',\n",
       " 'CANAGE29',\n",
       " 'CANAGE30',\n",
       " 'DIBAGE',\n",
       " 'AUSUALPL',\n",
       " 'APLKIND',\n",
       " 'AHCPLROU',\n",
       " 'AHCPLKND',\n",
       " 'AHCCHGYR',\n",
       " 'AHCCHGHI',\n",
       " 'APRVTRYR',\n",
       " 'APRVTRFD',\n",
       " 'ADRNANP',\n",
       " 'ADRNAI',\n",
       " 'AHCDLYR1',\n",
       " 'AHCDLYR2',\n",
       " 'AHCDLYR3',\n",
       " 'AHCDLYR4',\n",
       " 'AHCDLYR5',\n",
       " 'AHCAFYR1',\n",
       " 'AHCAFYR2',\n",
       " 'AHCAFYR3',\n",
       " 'AHCAFYR4',\n",
       " 'AHCAFYR5',\n",
       " 'AHCAFYR6',\n",
       " 'AWORPAY',\n",
       " 'AHICOMP',\n",
       " 'ARX12MO',\n",
       " 'ARX12_1',\n",
       " 'ARX12_2',\n",
       " 'ARX12_3',\n",
       " 'ARX12_4',\n",
       " 'ARX12_5',\n",
       " 'ARX12_6',\n",
       " 'ADNLONG2',\n",
       " 'AHCSYR1',\n",
       " 'AHCSYR2',\n",
       " 'AHCSYR3',\n",
       " 'AHCSYR4',\n",
       " 'AHCSYR5',\n",
       " 'AHCSYR6',\n",
       " 'AHCSYR7',\n",
       " 'AHCSYR8',\n",
       " 'AHCSYR9',\n",
       " 'AHCSYR10',\n",
       " 'AHERNOY2',\n",
       " 'AERVISND',\n",
       " 'AERHOS',\n",
       " 'AERREA1R',\n",
       " 'AERREA2R',\n",
       " 'AERREA3R',\n",
       " 'AERREA4R',\n",
       " 'AERREA5R',\n",
       " 'AERREA6R',\n",
       " 'AERREA7R',\n",
       " 'AERREA8R',\n",
       " 'AHCHYR',\n",
       " 'AHCHMOYR',\n",
       " 'AHCHNOY2',\n",
       " 'AHCNOYR2',\n",
       " 'ASRGYR',\n",
       " 'ASRGNOYR',\n",
       " 'AMDLONGR',\n",
       " 'HIT1A',\n",
       " 'HIT2A',\n",
       " 'HIT3A',\n",
       " 'HIT4A',\n",
       " 'HIT5A',\n",
       " 'SHTFLU2',\n",
       " 'ASHFLUM2',\n",
       " 'ASHFLUY2',\n",
       " 'FLUSHPG1',\n",
       " 'FLUSHPG2',\n",
       " 'SPRFLU2',\n",
       " 'ASPFLUM2',\n",
       " 'ASPFLUY2',\n",
       " 'SHTPNUYR',\n",
       " 'APOX',\n",
       " 'APOX12MO',\n",
       " 'AHEP',\n",
       " 'AHEPLIV',\n",
       " 'AHEPBTST',\n",
       " 'SHTHEPB',\n",
       " 'SHEPDOS',\n",
       " 'SHTHEPA',\n",
       " 'SHEPANUM',\n",
       " 'AHEPCTST',\n",
       " 'AHEPCRES',\n",
       " 'SHINGLES',\n",
       " 'SHTTD',\n",
       " 'SHTTD05',\n",
       " 'SHTHPV2',\n",
       " 'SHHPVDOS',\n",
       " 'AHPVAGE',\n",
       " 'LIVEV',\n",
       " 'TRAVEL',\n",
       " 'WRKDIR',\n",
       " 'APSBPCHK',\n",
       " 'APSCHCHK',\n",
       " 'APSBSCHK',\n",
       " 'APSPAP',\n",
       " 'APSMAM',\n",
       " 'APSCOL',\n",
       " 'APSDIET',\n",
       " 'APSSMKC',\n",
       " 'AINDPRCH',\n",
       " 'AINDWHO',\n",
       " 'AINDDIF1',\n",
       " 'AINDDIF2',\n",
       " 'AEXCHNG',\n",
       " 'SHTTDAP2',\n",
       " 'WRKHLTH2',\n",
       " 'AINDINS2',\n",
       " 'ASICPUSE',\n",
       " 'ASISATHC',\n",
       " 'ASITENUR',\n",
       " 'ASINHELP',\n",
       " 'ASINCNTO',\n",
       " 'ASINTRU',\n",
       " 'ASINKNT',\n",
       " 'ASISIM',\n",
       " 'ASISIF',\n",
       " 'ASIRETR',\n",
       " 'ASIMEDC',\n",
       " 'ASISTLV',\n",
       " 'ASICNHC',\n",
       " 'ASICCOLL',\n",
       " 'ASINBILL',\n",
       " 'ASIHCST',\n",
       " 'ASICCMP',\n",
       " 'ASISLEEP',\n",
       " 'ASISLPFL',\n",
       " 'ASISLPST',\n",
       " 'ASISLPMD',\n",
       " 'ASIREST',\n",
       " 'ASISAD',\n",
       " 'ASINERV',\n",
       " 'ASIRSTLS',\n",
       " 'ASIHOPLS',\n",
       " 'ASIEFFRT',\n",
       " 'ASIWTHLS',\n",
       " 'ASIMUCH',\n",
       " 'ASIHIVT',\n",
       " 'ASIHIVWN',\n",
       " 'SMKEV',\n",
       " 'SMKREG',\n",
       " 'SMKNOW',\n",
       " 'SMKQTNO',\n",
       " 'SMKQTTP',\n",
       " 'CIGSDA1',\n",
       " 'CIGDAMO',\n",
       " 'CIGSDA2',\n",
       " 'CIGQTYR',\n",
       " 'VIGNO',\n",
       " 'VIGTP',\n",
       " 'VIGLNGNO',\n",
       " 'VIGLNGTP',\n",
       " 'MODNO',\n",
       " 'MODTP',\n",
       " 'MODLNGNO',\n",
       " 'MODLNGTP',\n",
       " 'STRNGNO',\n",
       " 'STRNGTP',\n",
       " 'ALC1YR',\n",
       " 'ALCLIFE',\n",
       " 'ALC12MNO',\n",
       " 'ALC12MTP',\n",
       " 'ALCAMT',\n",
       " 'BINGE1',\n",
       " 'SMKANY',\n",
       " 'SMKNOWX',\n",
       " 'SMKNOTPX',\n",
       " 'CIGDAMOX',\n",
       " 'SMKSTAT2',\n",
       " 'SMKQTY',\n",
       " 'CIGSDAY',\n",
       " 'VIGFREQW',\n",
       " 'MODFREQW',\n",
       " 'STRFREQW',\n",
       " 'VIGMIN',\n",
       " 'MODMIN',\n",
       " 'ALC12MWK',\n",
       " 'ALC12MYR',\n",
       " 'ALCSTAT',\n",
       " 'AHEIGHT',\n",
       " 'AWEIGHTP',\n",
       " 'BMI',\n",
       " 'ALC5UPN1',\n",
       " 'ALC5UPT1',\n",
       " 'ALC5UPY1',\n",
       " 'WKDAYR',\n",
       " 'BEDDAYR',\n",
       " 'AHSTATYR',\n",
       " 'SPECEQ',\n",
       " 'FLWALK',\n",
       " 'FLCLIMB',\n",
       " 'FLSTAND',\n",
       " 'FLSIT',\n",
       " 'FLSTOOP',\n",
       " 'FLREACH',\n",
       " 'FLGRASP',\n",
       " 'FLCARRY',\n",
       " 'FLPUSH',\n",
       " 'FLSHOP',\n",
       " 'FLSOCL',\n",
       " 'FLRELAX',\n",
       " 'AFLHCA1',\n",
       " 'AFLHCA2',\n",
       " 'AFLHCA3',\n",
       " 'AFLHCA4',\n",
       " 'AFLHCA5',\n",
       " 'AFLHCA6',\n",
       " 'AFLHCA7',\n",
       " 'AFLHCA8',\n",
       " 'AFLHCA9',\n",
       " 'AFLHCA10',\n",
       " 'AFLHCA11',\n",
       " 'AFLHCA12',\n",
       " 'AFLHCA13',\n",
       " 'AFLHCA15',\n",
       " 'AFLHCA16',\n",
       " 'AFLHCA17',\n",
       " 'AFLHCA18',\n",
       " 'ALTIME1',\n",
       " 'ALUNIT1',\n",
       " 'ALTIME2',\n",
       " 'ALUNIT2',\n",
       " 'ALTIME3',\n",
       " 'ALUNIT3',\n",
       " 'ALTIME4',\n",
       " 'ALUNIT4',\n",
       " 'ALTIME5',\n",
       " 'ALUNIT5',\n",
       " 'ALTIME6',\n",
       " 'ALUNIT6',\n",
       " 'ALTIME7',\n",
       " 'ALUNIT7',\n",
       " 'ALTIME8',\n",
       " 'ALUNIT8',\n",
       " 'ALTIME9',\n",
       " 'ALUNIT9',\n",
       " 'ALTIME10',\n",
       " 'ALUNIT10',\n",
       " 'ALTIME11',\n",
       " 'ALUNIT11',\n",
       " 'ALTIME12',\n",
       " 'ALUNIT12',\n",
       " 'ALTIME13',\n",
       " 'ALUNIT13',\n",
       " 'ALTIME15',\n",
       " 'ALUNIT15',\n",
       " 'ALTIME16',\n",
       " 'ALUNIT16',\n",
       " 'ALTIME17',\n",
       " 'ALUNIT17',\n",
       " 'ALTIME18',\n",
       " 'ALUNIT18',\n",
       " 'ALTIME19',\n",
       " 'ALTIME20',\n",
       " 'ALTIME21',\n",
       " 'ALTIME22',\n",
       " 'ALTIME23',\n",
       " 'ALTIME24',\n",
       " 'ALTIME25',\n",
       " 'ALTIME26',\n",
       " 'ALTIME27',\n",
       " 'ALTIME28',\n",
       " 'ALTIME29',\n",
       " 'ALTIME30',\n",
       " 'ALTIME31',\n",
       " 'ALTIME32',\n",
       " 'ALTIME33',\n",
       " 'ALTIME34',\n",
       " 'ALUNIT19',\n",
       " 'ALUNIT20',\n",
       " 'ALUNIT21',\n",
       " 'ALUNIT22',\n",
       " 'ALUNIT23',\n",
       " 'ALUNIT24',\n",
       " 'ALUNIT25',\n",
       " 'ALUNIT26',\n",
       " 'ALUNIT27',\n",
       " 'ALUNIT28',\n",
       " 'ALUNIT29',\n",
       " 'ALUNIT30',\n",
       " 'ALUNIT31',\n",
       " 'ALUNIT32',\n",
       " 'ALUNIT33',\n",
       " 'ALUNIT34',\n",
       " 'AFLHCA90',\n",
       " 'ALTIME90',\n",
       " 'ALUNIT90',\n",
       " 'AFLHCA91',\n",
       " 'ALTIME91',\n",
       " 'ALUNIT91',\n",
       " 'ALDURA1',\n",
       " 'ALDURA2',\n",
       " 'ALDURA3',\n",
       " 'ALDURA4',\n",
       " 'ALDURA5',\n",
       " 'ALDURA6',\n",
       " 'ALDURA7',\n",
       " 'ALDURA8',\n",
       " 'ALDURA9',\n",
       " 'ALDURA10',\n",
       " 'ALDURA11',\n",
       " 'ALDURA12',\n",
       " 'ALDURA13',\n",
       " 'ALDURA15',\n",
       " 'ALDURA16',\n",
       " 'ALDURA17',\n",
       " 'ALDURA18',\n",
       " 'ALDURA19',\n",
       " 'ALDURA20',\n",
       " 'ALDURA21',\n",
       " 'ALDURA22',\n",
       " 'ALDURA23',\n",
       " 'ALDURA24',\n",
       " 'ALDURA25',\n",
       " 'ALDURA26',\n",
       " 'ALDURA27',\n",
       " 'ALDURA28',\n",
       " 'ALDURA29',\n",
       " 'ALDURA30',\n",
       " 'ALDURA31',\n",
       " 'ALDURA32',\n",
       " 'ALDURA33',\n",
       " 'ALDURA34',\n",
       " 'ALDURA90',\n",
       " 'ALDURA91',\n",
       " 'ALDURB1',\n",
       " 'ALDURB2',\n",
       " 'ALDURB3',\n",
       " 'ALDURB4',\n",
       " 'ALDURB5',\n",
       " 'ALDURB6',\n",
       " 'ALDURB7',\n",
       " 'ALDURB8',\n",
       " 'ALDURB9',\n",
       " 'ALDURB10',\n",
       " 'ALDURB11',\n",
       " 'ALDURB12',\n",
       " 'ALDURB13',\n",
       " 'ALDURB15',\n",
       " 'ALDURB16',\n",
       " 'ALDURB17',\n",
       " 'ALDURB18',\n",
       " 'ALDURB19',\n",
       " 'ALDURB20',\n",
       " 'ALDURB21',\n",
       " 'ALDURB22',\n",
       " 'ALDURB23',\n",
       " 'ALDURB24',\n",
       " 'ALDURB25',\n",
       " 'ALDURB26',\n",
       " 'ALDURB27',\n",
       " 'ALDURB28',\n",
       " 'ALDURB29',\n",
       " 'ALDURB30',\n",
       " 'ALDURB31',\n",
       " 'ALDURB32',\n",
       " 'ALDURB33',\n",
       " 'ALDURB34',\n",
       " 'ALDURB90',\n",
       " 'ALDURB91',\n",
       " 'ALCHRC1',\n",
       " 'ALCHRC2',\n",
       " 'ALCHRC3',\n",
       " 'ALCHRC4',\n",
       " 'ALCHRC5',\n",
       " 'ALCHRC6',\n",
       " 'ALCHRC7',\n",
       " 'ALCHRC8',\n",
       " 'ALCHRC9',\n",
       " 'ALCHRC10',\n",
       " 'ALCHRC11',\n",
       " 'ALCHRC12',\n",
       " 'ALCHRC13',\n",
       " 'ALCHRC15',\n",
       " 'ALCHRC16',\n",
       " 'ALCHRC17',\n",
       " 'ALCHRC18',\n",
       " 'ALCHRC19',\n",
       " 'ALCHRC20',\n",
       " 'ALCHRC21',\n",
       " 'ALCHRC22',\n",
       " 'ALCHRC23',\n",
       " 'ALCHRC24',\n",
       " 'ALCHRC25',\n",
       " 'ALCHRC26',\n",
       " 'ALCHRC27',\n",
       " 'ALCHRC28',\n",
       " 'ALCHRC29',\n",
       " 'ALCHRC30',\n",
       " 'ALCHRC31',\n",
       " 'ALCHRC32',\n",
       " 'ALCHRC33',\n",
       " 'ALCHRC34',\n",
       " 'ALCHRC90',\n",
       " 'ALCHRC91',\n",
       " 'FLA1AR',\n",
       " 'ALCNDRT',\n",
       " 'ALCHRONR',\n",
       " 'AFLHC19_',\n",
       " 'AFLHC20_',\n",
       " 'AFLHC21_',\n",
       " 'AFLHC22_',\n",
       " 'AFLHC23_',\n",
       " 'AFLHC24_',\n",
       " 'AFLHC25_',\n",
       " 'AFLHC26_',\n",
       " 'AFLHC27_',\n",
       " 'AFLHC28_',\n",
       " 'AFLHC29_',\n",
       " 'AFLHC30_',\n",
       " 'AFLHC31_',\n",
       " 'AFLHC32_',\n",
       " 'AFLHC33_',\n",
       " 'AFLHC34_',\n",
       " 'ALHCA14A',\n",
       " 'ATIME14A',\n",
       " 'AUNIT14A',\n",
       " 'ADURA14A',\n",
       " 'ADURB14A',\n",
       " 'ACHRC14A',\n",
       " 'DOINGLWA',\n",
       " 'WHYNOWKA',\n",
       " 'EVERWRK',\n",
       " 'SUPERVIS',\n",
       " 'WRKCATA',\n",
       " 'BUSINC1A',\n",
       " 'LOCALL1B',\n",
       " 'WRKLONGH',\n",
       " 'HOURPDA',\n",
       " 'PDSICKA',\n",
       " 'ONEJOB',\n",
       " 'NIGHTWK',\n",
       " 'JOBDMAND',\n",
       " 'JOBCNTRL',\n",
       " 'JOBSPPRT',\n",
       " 'SAFETY',\n",
       " 'SAFCLIMT',\n",
       " 'HARASSED',\n",
       " 'HARASFRQ',\n",
       " 'EXERTION',\n",
       " 'STAND',\n",
       " 'HLTHPROM',\n",
       " 'HPROMPAR',\n",
       " 'WRKCTLH',\n",
       " 'WRKLYR4',\n",
       " 'INDSTRN1',\n",
       " 'INDSTRN2',\n",
       " 'OCCUPN1',\n",
       " 'OCCUPN2',\n",
       " 'YRSWRKPA',\n",
       " 'INDSTLH1',\n",
       " 'INDSTLH2',\n",
       " 'OCCLH1',\n",
       " 'OCCLH2',\n",
       " 'YRSWKLH',\n",
       " 'WORKSCHD',\n",
       " 'WRK_FAM',\n",
       " 'WORLSJOB',\n",
       " 'TBSMKEXP',\n",
       " 'WRKARR_P',\n",
       " 'NIGHTFRP',\n",
       " 'AWEBUSE',\n",
       " 'AWEBOFNO',\n",
       " 'AWEBOFTP',\n",
       " 'AWEBORP',\n",
       " 'AWEBEML',\n",
       " 'AWEBMNO',\n",
       " 'AWEBMTP',\n",
       " 'SMKAGX_P',\n",
       " 'SMKNOX_P']"
      ]
     },
     "execution_count": 5,
     "metadata": {},
     "output_type": "execute_result"
    }
   ],
   "source": [
    "\n",
    "samadult.columns.values.tolist()"
   ]
  },
  {
   "cell_type": "code",
   "execution_count": 6,
   "metadata": {
    "collapsed": false
   },
   "outputs": [],
   "source": [
    "features=[x for x in samadult.columns.values.tolist() if x.startswith('ALDURA')]"
   ]
  },
  {
   "cell_type": "code",
   "execution_count": 7,
   "metadata": {
    "collapsed": false
   },
   "outputs": [
    {
     "data": {
      "text/plain": [
       "21385"
      ]
     },
     "execution_count": 7,
     "metadata": {},
     "output_type": "execute_result"
    }
   ],
   "source": [
    "import numpy as np\n",
    "\n",
    "np.sum(samadult.WKDAYR.notnull() & (samadult['WKDAYR']<900))"
   ]
  },
  {
   "cell_type": "code",
   "execution_count": 8,
   "metadata": {
    "collapsed": false
   },
   "outputs": [
    {
     "data": {
      "text/plain": [
       "825"
      ]
     },
     "execution_count": 8,
     "metadata": {},
     "output_type": "execute_result"
    }
   ],
   "source": [
    "np.sum(samadult.ALDURA17.notnull() & (samadult['ALDURA17']<90)   )"
   ]
  },
  {
   "cell_type": "code",
   "execution_count": 9,
   "metadata": {
    "collapsed": false
   },
   "outputs": [],
   "source": [
    "features=[\n",
    " 'ALDURA3',\n",
    " #'ALDURA4',\n",
    " #'ALDURA6',\n",
    " #'ALDURA7',\n",
    " #'ALDURA8',\n",
    " 'ALDURA11',\n",
    " #'ALDURA17',\n",
    " #'ALDURA20',\n",
    " #'ALDURA21',\n",
    " #'ALDURA22',\n",
    " #'ALDURA23',\n",
    " #'ALDURA24',\n",
    " #'ALDURA27',\n",
    " #'ALDURA28',\n",
    " 'ALDURA29',\n",
    " 'ALDURA33']"
   ]
  },
  {
   "cell_type": "code",
   "execution_count": 10,
   "metadata": {
    "collapsed": true
   },
   "outputs": [],
   "source": [
    "target='ALDURA17'\n",
    "ADD_INDICATORS=False\n",
    "ADD_POLYNOMIALS=True\n",
    "LOG_X=True\n",
    "LOG_Y=False"
   ]
  },
  {
   "cell_type": "code",
   "execution_count": 11,
   "metadata": {
    "collapsed": false
   },
   "outputs": [
    {
     "data": {
      "text/plain": [
       "(825, 4)"
      ]
     },
     "execution_count": 11,
     "metadata": {},
     "output_type": "execute_result"
    }
   ],
   "source": [
    "from sklearn.linear_model import LinearRegression\n",
    "from sklearn.metrics import r2_score\n",
    "\n",
    "np.random.seed(42)\n",
    "\n",
    "reg=LinearRegression()\n",
    "\n",
    "data=samadult[samadult.ALDURA17.notnull() & (samadult['ALDURA17']<90)]\n",
    "\n",
    "X=data[features]\n",
    "X.shape"
   ]
  },
  {
   "cell_type": "code",
   "execution_count": 12,
   "metadata": {
    "collapsed": false
   },
   "outputs": [],
   "source": [
    "# turn years since into the \"nth\" year of \n",
    "# then fill with 0 otherwise\n",
    "X=X+1\n",
    "X=X.fillna(0)\n",
    "\n",
    "if LOG_X:\n",
    "    X=np.log1p(X)\n",
    "\n",
    "if ADD_INDICATORS:\n",
    "    indicator_names=[x+\"_I\" for x in features]\n",
    "\n",
    "    indicators=pd.DataFrame()\n",
    "    for feature in features:\n",
    "        indicators[feature+\"_I\"]=data[feature].notnull().astype(int)\n",
    "\n",
    "    X=pd.concat([X, indicators], axis=1, join_axes=[X.index])"
   ]
  },
  {
   "cell_type": "code",
   "execution_count": 13,
   "metadata": {
    "collapsed": false
   },
   "outputs": [],
   "source": [
    "from sklearn.preprocessing import PolynomialFeatures\n",
    "\n",
    "if ADD_POLYNOMIALS:\n",
    "    poly=PolynomialFeatures(degree=2, interaction_only=True)\n",
    "    X=poly.fit_transform(X)\n"
   ]
  },
  {
   "cell_type": "code",
   "execution_count": 14,
   "metadata": {
    "collapsed": false
   },
   "outputs": [
    {
     "data": {
      "text/plain": [
       "(825, 11)"
      ]
     },
     "execution_count": 14,
     "metadata": {},
     "output_type": "execute_result"
    }
   ],
   "source": [
    "X.shape"
   ]
  },
  {
   "cell_type": "code",
   "execution_count": 15,
   "metadata": {
    "collapsed": false
   },
   "outputs": [],
   "source": [
    "y=data[target]\n",
    "y=y+1\n",
    "y=y.fillna(0)\n",
    "\n",
    "if LOG_Y:\n",
    "    y=np.log1p(y)"
   ]
  },
  {
   "cell_type": "code",
   "execution_count": 16,
   "metadata": {
    "collapsed": false
   },
   "outputs": [
    {
     "data": {
      "text/plain": [
       "14     10.0\n",
       "25     51.0\n",
       "58     31.0\n",
       "63     21.0\n",
       "116    31.0\n",
       "Name: ALDURA17, dtype: float64"
      ]
     },
     "execution_count": 16,
     "metadata": {},
     "output_type": "execute_result"
    }
   ],
   "source": [
    "y.head()"
   ]
  },
  {
   "cell_type": "code",
   "execution_count": 17,
   "metadata": {
    "collapsed": false
   },
   "outputs": [
    {
     "data": {
      "text/plain": [
       "LinearRegression(copy_X=True, fit_intercept=True, n_jobs=1, normalize=False)"
      ]
     },
     "execution_count": 17,
     "metadata": {},
     "output_type": "execute_result"
    }
   ],
   "source": [
    "reg.fit(X,y)"
   ]
  },
  {
   "cell_type": "code",
   "execution_count": 18,
   "metadata": {
    "collapsed": false
   },
   "outputs": [],
   "source": [
    "y_pred=reg.predict(X)\n",
    "\n",
    "score=r2_score(y, y_pred)"
   ]
  },
  {
   "cell_type": "code",
   "execution_count": 19,
   "metadata": {
    "collapsed": false
   },
   "outputs": [
    {
     "data": {
      "image/png": "[encoded data removed]",
      "text/plain": [
       "<matplotlib.figure.Figure at 0x7f3724d48358>"
      ]
     },
     "metadata": {},
     "output_type": "display_data"
    }
   ],
   "source": [
    "import matplotlib.pyplot as plt\n",
    "plt.plot(y,y_pred,marker='.', linestyle='None', alpha=0.5 )\n",
    "plt.xlabel('Y Train')\n",
    "plt.ylabel('Y Predict')\n",
    "plt.show()"
   ]
  },
  {
   "cell_type": "code",
   "execution_count": 20,
   "metadata": {
    "collapsed": false
   },
   "outputs": [
    {
     "data": {
      "text/plain": [
       "0.012047795016131291"
      ]
     },
     "execution_count": 20,
     "metadata": {},
     "output_type": "execute_result"
    }
   ],
   "source": [
    "score"
   ]
  },
  {
   "cell_type": "code",
   "execution_count": 21,
   "metadata": {
    "collapsed": false
   },
   "outputs": [
    {
     "data": {
      "text/plain": [
       "Ridge(alpha=0.7, copy_X=True, fit_intercept=True, max_iter=None,\n",
       "   normalize=True, random_state=None, solver='auto', tol=0.001)"
      ]
     },
     "execution_count": 21,
     "metadata": {},
     "output_type": "execute_result"
    }
   ],
   "source": [
    "from sklearn.linear_model import Ridge\n",
    "\n",
    "ridge=Ridge(alpha=0.7, normalize=True)\n",
    "ridge.fit(X,y)"
   ]
  },
  {
   "cell_type": "code",
   "execution_count": 22,
   "metadata": {
    "collapsed": true
   },
   "outputs": [],
   "source": [
    "y_pred=ridge.predict(X)"
   ]
  },
  {
   "cell_type": "code",
   "execution_count": 23,
   "metadata": {
    "collapsed": true
   },
   "outputs": [],
   "source": [
    "def display_plot(cv_scores, cv_scores_std):\n",
    "    fig = plt.figure()\n",
    "    ax = fig.add_subplot(1,1,1)\n",
    "    ax.plot(alpha_space, cv_scores)\n",
    "\n",
    "    std_error = cv_scores_std / np.sqrt(10)\n",
    "\n",
    "    ax.fill_between(alpha_space, cv_scores + std_error, cv_scores - std_error, alpha=0.2)\n",
    "    ax.set_ylabel('CV Score +/- Std Error')\n",
    "    ax.set_xlabel('Alpha')\n",
    "    ax.axhline(np.max(cv_scores), linestyle='--', color='.5')\n",
    "    ax.set_xlim([alpha_space[0], alpha_space[-1]])\n",
    "    ax.set_xscale('log')\n",
    "    plt.show()"
   ]
  },
  {
   "cell_type": "code",
   "execution_count": 24,
   "metadata": {
    "collapsed": false
   },
   "outputs": [
    {
     "data": {
      "image/png": "[encoded data removed]",
      "text/plain": [
       "<matplotlib.figure.Figure at 0x7f3721fb6710>"
      ]
     },
     "metadata": {},
     "output_type": "display_data"
    }
   ],
   "source": [
    "# Import necessary modules\n",
    "import numpy as np\n",
    "\n",
    "from sklearn.linear_model import Ridge\n",
    "from sklearn.model_selection import cross_val_score\n",
    "\n",
    "# Setup the array of alphas and lists to store scores\n",
    "alpha_space = np.logspace(-4, 0, 50)\n",
    "ridge_scores = []\n",
    "ridge_scores_std = []\n",
    "\n",
    "# Create a ridge regressor: ridge\n",
    "ridge = Ridge(normalize=True)\n",
    "\n",
    "# Compute scores over range of alphas\n",
    "for alpha in alpha_space:\n",
    "\n",
    "    # Specify the alpha value to use: ridge.alpha\n",
    "    ridge.alpha = alpha\n",
    "    \n",
    "    # Perform 10-fold CV: ridge_cv_scores\n",
    "    ridge_cv_scores = cross_val_score(ridge, X, y, cv=10)\n",
    "    \n",
    "    # Append the mean of ridge_cv_scores to ridge_scores\n",
    "    ridge_scores.append(np.mean(ridge_cv_scores))\n",
    "    \n",
    "    # Append the std of ridge_cv_scores to ridge_scores_std\n",
    "    ridge_scores_std.append(np.std(ridge_cv_scores))\n",
    "\n",
    "# Display the plot\n",
    "display_plot(ridge_scores, ridge_scores_std)\n"
   ]
  },
  {
   "cell_type": "code",
   "execution_count": 25,
   "metadata": {
    "collapsed": false
   },
   "outputs": [
    {
     "data": {
      "image/png": "[encoded data removed]",
      "text/plain": [
       "<matplotlib.figure.Figure at 0x7f3721a7df60>"
      ]
     },
     "metadata": {},
     "output_type": "display_data"
    }
   ],
   "source": [
    "from sklearn.decomposition import PCA\n",
    "from mpl_toolkits.mplot3d import Axes3D\n",
    "from sklearn.cluster import KMeans\n",
    "\n",
    "\n",
    "fig = plt.figure(4, figsize=(8, 6))\n",
    "plt.clf()\n",
    "ax = Axes3D(fig, rect=[0, 0, .95, 1], elev=40, azim=20)\n",
    "\n",
    "plt.cla()\n",
    "pca = PCA(n_components=3)\n",
    "pca.fit(X)\n",
    "X_pca = pca.transform(X)\n",
    "\n",
    "kmean=KMeans(n_clusters=4)\n",
    "kmean.fit(X_pca)\n",
    "y_lab=kmean.labels_\n",
    "\n",
    "\n",
    "# Reorder the labels to have colors matching the cluster results\n",
    "ax.scatter(X_pca[:, 0], X_pca[:, 1], X_pca[:, 2], label=y_lab,c=y_lab+1, cmap=plt.cm.spectral)\n",
    "\n",
    "ax.w_xaxis.set_ticklabels([])\n",
    "ax.w_yaxis.set_ticklabels([])\n",
    "ax.w_zaxis.set_ticklabels([])\n",
    "plt.legend(bbox_to_anchor=(0, 1), loc='upper right', ncol=7)\n",
    "\n",
    "plt.show()"
   ]
  },
  {
   "cell_type": "code",
   "execution_count": 26,
   "metadata": {
    "collapsed": false
   },
   "outputs": [
    {
     "data": {
      "text/plain": [
       "array([3, 2, 3, 2, 2, 2, 2, 2, 1, 2, 0, 2, 0, 2, 1, 2, 2, 2, 2, 2, 0, 2, 0,\n",
       "       0, 0, 0, 2, 2, 2, 0, 0, 1, 0, 2, 2, 2, 0, 0, 2, 2, 2, 1, 0, 2, 2, 2,\n",
       "       0, 2, 2, 2, 2, 2, 2, 1, 0, 2, 0, 2, 0, 2, 2, 2, 2, 0, 0, 0, 2, 3, 0,\n",
       "       2, 2, 0, 2, 0, 2, 2, 2, 2, 0, 2, 2, 2, 2, 0, 2, 2, 2, 0, 0, 2, 2, 0,\n",
       "       2, 1, 0, 3, 2, 2, 2, 0, 2, 0, 2, 2, 2, 0, 3, 0, 2, 2, 2, 0, 2, 2, 2,\n",
       "       2, 0, 2, 2, 0, 2, 0, 0, 2, 2, 0, 0, 0, 0, 0, 0, 0, 0, 2, 1, 2, 2, 2,\n",
       "       0, 2, 2, 0, 0, 0, 2, 0, 1, 0, 0, 3, 0, 0, 0, 2, 2, 0, 0, 3, 2, 2, 2,\n",
       "       0, 2, 0, 2, 2, 2, 2, 2, 2, 3, 2, 0, 0, 2, 2, 2, 0, 3, 2, 1, 0, 0, 2,\n",
       "       2, 0, 2, 0, 0, 0, 2, 2, 0, 2, 0, 0, 2, 2, 2, 2, 2, 2, 0, 2, 0, 3, 2,\n",
       "       0, 2, 2, 2, 0, 0, 0, 2, 2, 0, 3, 2, 2, 2, 0, 0, 2, 2, 2, 0, 2, 2, 2,\n",
       "       2, 2, 0, 2, 2, 2, 0, 2, 3, 2, 0, 2, 0, 2, 0, 2, 2, 1, 1, 3, 0, 2, 2,\n",
       "       2, 3, 0, 2, 2, 2, 0, 2, 2, 2, 2, 0, 2, 2, 2, 2, 2, 0, 0, 0, 0, 2, 2,\n",
       "       2, 2, 2, 2, 0, 0, 2, 2, 2, 2, 2, 2, 2, 3, 2, 2, 0, 1, 0, 0, 0, 2, 0,\n",
       "       0, 2, 2, 0, 0, 2, 0, 2, 2, 2, 2, 2, 2, 2, 2, 2, 2, 2, 2, 2, 2, 2, 0,\n",
       "       0, 2, 3, 2, 0, 2, 0, 0, 2, 2, 0, 2, 2, 3, 2, 0, 2, 2, 2, 2, 2, 2, 0,\n",
       "       2, 2, 0, 3, 3, 2, 2, 2, 2, 3, 0, 2, 0, 2, 1, 2, 2, 1, 2, 1, 2, 0, 2,\n",
       "       2, 2, 2, 0, 3, 2, 2, 2, 0, 2, 0, 2, 0, 2, 2, 0, 0, 3, 2, 2, 0, 0, 2,\n",
       "       2, 0, 2, 2, 2, 2, 2, 2, 0, 2, 2, 2, 2, 2, 2, 2, 2, 2, 2, 2, 0, 2, 0,\n",
       "       2, 2, 0, 2, 2, 2, 2, 2, 0, 2, 0, 0, 0, 2, 2, 2, 0, 3, 2, 2, 2, 0, 0,\n",
       "       2, 0, 2, 2, 2, 2, 2, 0, 2, 2, 2, 2, 1, 2, 2, 2, 0, 0, 0, 2, 2, 0, 2,\n",
       "       2, 2, 0, 2, 0, 2, 2, 2, 2, 0, 2, 2, 2, 0, 1, 2, 0, 2, 0, 2, 2, 2, 0,\n",
       "       2, 0, 0, 2, 0, 2, 0, 0, 2, 2, 0, 0, 2, 2, 0, 0, 0, 0, 2, 2, 3, 0, 2,\n",
       "       2, 0, 2, 3, 1, 2, 0, 2, 2, 2, 2, 2, 2, 2, 2, 2, 1, 0, 2, 2, 2, 2, 2,\n",
       "       2, 3, 2, 2, 2, 0, 2, 2, 0, 0, 0, 2, 2, 2, 0, 0, 2, 2, 0, 2, 1, 2, 2,\n",
       "       0, 2, 2, 0, 2, 2, 2, 0, 2, 2, 2, 2, 0, 2, 0, 0, 2, 1, 2, 2, 3, 2, 0,\n",
       "       2, 2, 2, 2, 2, 2, 2, 0, 2, 2, 2, 0, 2, 2, 2, 2, 0, 2, 2, 0, 2, 2, 2,\n",
       "       0, 2, 2, 2, 3, 0, 2, 2, 2, 0, 2, 2, 1, 2, 2, 2, 2, 0, 0, 1, 2, 0, 0,\n",
       "       2, 2, 2, 2, 2, 0, 0, 2, 2, 2, 2, 2, 2, 2, 0, 2, 2, 0, 2, 2, 2, 3, 0,\n",
       "       2, 2, 2, 2, 0, 2, 2, 2, 2, 0, 2, 0, 2, 2, 2, 2, 2, 2, 2, 2, 2, 0, 2,\n",
       "       0, 0, 2, 2, 2, 2, 0, 0, 0, 3, 0, 0, 2, 2, 0, 0, 2, 1, 2, 1, 0, 2, 2,\n",
       "       2, 2, 0, 0, 0, 0, 0, 2, 2, 2, 2, 2, 2, 3, 2, 2, 1, 2, 2, 0, 2, 3, 3,\n",
       "       3, 3, 2, 2, 0, 2, 2, 2, 0, 2, 2, 0, 2, 0, 2, 2, 3, 2, 0, 2, 0, 2, 2,\n",
       "       2, 2, 2, 2, 2, 0, 0, 0, 0, 2, 1, 2, 2, 1, 0, 2, 0, 2, 0, 2, 0, 2, 0,\n",
       "       2, 2, 2, 2, 2, 0, 0, 2, 2, 0, 0, 0, 2, 2, 2, 2, 2, 0, 2, 0, 0, 2, 2,\n",
       "       2, 2, 2, 2, 0, 0, 2, 2, 0, 2, 2, 2, 2, 2, 2, 2, 2, 0, 2, 2, 2, 2, 2,\n",
       "       2, 2, 2, 2, 2, 2, 1, 2, 2, 0, 2, 0, 0, 0, 2, 2, 2, 2, 0, 2], dtype=int32)"
      ]
     },
     "execution_count": 26,
     "metadata": {},
     "output_type": "execute_result"
    }
   ],
   "source": [
    "y_lab"
   ]
  },
  {
   "cell_type": "code",
   "execution_count": 27,
   "metadata": {
    "collapsed": true
   },
   "outputs": [],
   "source": [
    "pca = PCA(n_components=2)\n",
    "pca.fit(X)\n",
    "X_pca2 = pca.transform(X)\n",
    "\n",
    "\n",
    "kmean=KMeans(n_clusters=4)\n",
    "kmean.fit(X_pca2)\n",
    "y_lab2=kmean.labels_"
   ]
  },
  {
   "cell_type": "code",
   "execution_count": 28,
   "metadata": {
    "collapsed": false
   },
   "outputs": [
    {
     "data": {
      "image/png": "[encoded data removed]",
      "text/plain": [
       "<matplotlib.figure.Figure at 0x7f3721f344a8>"
      ]
     },
     "metadata": {},
     "output_type": "display_data"
    }
   ],
   "source": [
    "#plt.cla()\n",
    "#plt.figure()\n",
    "\n",
    "markers=[',',]\n",
    "\n",
    "case=1\n",
    "\n",
    "x_special=X_pca2[y_lab2==case]\n",
    "c_special=y_lab2[y_lab2==case]\n",
    "x_other=X_pca2[y_lab2!=case]\n",
    "c_other=y_lab2[y_lab2!=case]\n",
    "\n",
    "plt.scatter(x_special[:,0],x_special[:,1], c=c_special, marker='+')\n",
    "plt.scatter(x_other[:,0],x_other[:,1], c=c_other, marker='.')\n",
    "plt.show()"
   ]
  },
  {
   "cell_type": "code",
   "execution_count": 29,
   "metadata": {
    "collapsed": false
   },
   "outputs": [
    {
     "data": {
      "text/plain": [
       "array([0, 3, 0, 3, 3], dtype=int32)"
      ]
     },
     "execution_count": 29,
     "metadata": {},
     "output_type": "execute_result"
    }
   ],
   "source": [
    "y_lab2[:5]"
   ]
  },
  {
   "cell_type": "code",
   "execution_count": 30,
   "metadata": {
    "collapsed": false
   },
   "outputs": [
    {
     "name": "stdout",
     "output_type": "stream",
     "text": [
      "For case 0, the mean is 20.43243243243243 and the std = 18.205346022885752 and the 95% confidence interval = [  1.9  57.4]\n",
      "For case 1, the mean is 20.97983870967742 and the std = 16.63106537350679 and the 95% confidence interval = [  1.175  61.   ]\n",
      "For case 2, the mean is 24.357142857142858 and the std = 12.361270986761973 and the 95% confidence interval = [  7.675  51.325]\n",
      "For case 3, the mean is 19.341796875 and the std = 16.382702479177244 and the 95% confidence interval = [  1.  61.]\n"
     ]
    }
   ],
   "source": [
    "for i in range(0,4):\n",
    "    y_case=y[y_lab2==i]\n",
    "    lab_mean=np.mean(y_case)\n",
    "    lab_std=np.std(y_case)\n",
    "    lab_perc=np.percentile(y_case, [2.5, 97.5])\n",
    "    print(\"For case {}, the mean is {} and the std = {} and the 95% confidence interval = {}\".format(i,lab_mean, lab_std, lab_perc))"
   ]
  },
  {
   "cell_type": "markdown",
   "metadata": {
    "collapsed": true,
    "slideshow": {
     "slide_type": "subslide"
    }
   },
   "source": [
    "[Back to Agenda](http://localhost:8000/notebooks/Lunch_And_Learn_Session_2_Index.slides.html)"
   ]
  },
  {
   "cell_type": "code",
   "execution_count": null,
   "metadata": {
    "collapsed": true
   },
   "outputs": [],
   "source": []
  },
  {
   "cell_type": "code",
   "execution_count": null,
   "metadata": {
    "collapsed": true
   },
   "outputs": [],
   "source": []
  },
  {
   "cell_type": "code",
   "execution_count": null,
   "metadata": {
    "collapsed": true
   },
   "outputs": [],
   "source": []
  },
  {
   "cell_type": "code",
   "execution_count": null,
   "metadata": {
    "collapsed": true
   },
   "outputs": [],
   "source": []
  }
 ],
 "metadata": {
  "celltoolbar": "Slideshow",
  "kernelspec": {
   "display_name": "Python 3",
   "language": "python",
   "name": "python3"
  },
  "language_info": {
   "codemirror_mode": {
    "name": "ipython",
    "version": 3
   },
   "file_extension": ".py",
   "mimetype": "text/x-python",
   "name": "python",
   "nbconvert_exporter": "python",
   "pygments_lexer": "ipython3",
   "version": "3.6.0"
  }
 },
 "nbformat": 4,
 "nbformat_minor": 2
}
