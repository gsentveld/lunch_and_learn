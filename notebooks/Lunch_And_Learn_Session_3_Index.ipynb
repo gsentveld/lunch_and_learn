{
 "cells": [
  {
   "cell_type": "markdown",
   "metadata": {
    "slideshow": {
     "slide_type": "slide"
    }
   },
   "source": [
    "# Lunch and Learn Session 3\n",
    "### Agenda\n",
    "\n",
    "1. [Data Creation from Sample Adult and Family](http://localhost:8000/notebooks/Data_Creation_from_Sample_Adult_and_Family.slides.html)\n",
    "2. [Probabilistic Graphical Model](http://localhost:8000/notebooks/Probabilistic_Graphical_Model.slides.html)\n"
   ]
  }
 ],
 "metadata": {
  "celltoolbar": "Slideshow",
  "kernelspec": {
   "display_name": "Python 3",
   "language": "python",
   "name": "python3"
  },
  "language_info": {
   "codemirror_mode": {
    "name": "ipython",
    "version": 3
   },
   "file_extension": ".py",
   "mimetype": "text/x-python",
   "name": "python",
   "nbconvert_exporter": "python",
   "pygments_lexer": "ipython3",
   "version": "3.6.0"
  }
 },
 "nbformat": 4,
 "nbformat_minor": 2
}
