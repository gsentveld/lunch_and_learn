{
 "cells": [
  {
   "cell_type": "markdown",
   "metadata": {
    "slideshow": {
     "slide_type": "slide"
    }
   },
   "source": [
    "## Other things you can do with content from the Internet"
   ]
  },
  {
   "cell_type": "code",
   "execution_count": 4,
   "metadata": {
    "collapsed": false,
    "slideshow": {
     "slide_type": "subslide"
    }
   },
   "outputs": [
    {
     "name": "stdout",
     "output_type": "stream",
     "text": [
      "Source data URL is    : https://ftp.cdc.gov/pub/Health_Statistics/NCHS/Datasets/NHIS/2015/\n"
     ]
    }
   ],
   "source": [
    "import os\n",
    "from dotenv import load_dotenv, find_dotenv\n",
    "\n",
    "# find .env automagically by walking up directories until it's found\n",
    "dotenv_path = find_dotenv()\n",
    "\n",
    "# load up the entries as environment variables\n",
    "load_dotenv(dotenv_path)\n",
    "\n",
    "# Get the base URL of the data\n",
    "BASE_URL = os.environ.get(\"BASE_URL\")\n",
    "\n",
    "print(\"Source data URL is    : {0}\".format(BASE_URL))"
   ]
  },
  {
   "cell_type": "markdown",
   "metadata": {
    "slideshow": {
     "slide_type": "slide"
    }
   },
   "source": [
    "## requests and BeautifulSoup package\n",
    "The requests package has different ways to connect to URLs on the internet and get content back.\n",
    "<br/>\n",
    "BeautifulSoup is what you then use to clean it up and find content."
   ]
  },
  {
   "cell_type": "code",
   "execution_count": 5,
   "metadata": {
    "collapsed": false,
    "slideshow": {
     "slide_type": "subslide"
    }
   },
   "outputs": [
    {
     "name": "stdout",
     "output_type": "stream",
     "text": [
      "================================================\n",
      "This is what the raw results looks like:\n",
      "================================================\n",
      "<html><head><title>ftp.cdc.gov - /pub/Health_Statistics/NCHS/Datasets/NHIS/2015/</title></head><body><H1>ftp.cdc.gov - /pub/Health_Statistics/NCHS/Datasets/NHIS/2015/</H1><hr>\r\n",
      "\r\n",
      "<pre><A HREF=\"/pub/Health_Statistics/NCHS/Datasets/NHIS/\">[To Parent Directory]</A><br><br>    Tuesday, December 6, 2016  1:29 PM      6098348 <A HREF=\"/pub/Health_Statistics/NCHS/Datasets/NHIS/2015/cancerxx.zip\">cancerxx.zip</A><br>     Wednesday, June 22, 2016 10:55 AM      2430305 <A HREF=\"/pub/Health_Statistics/NCHS/Datasets/NHIS/2015/familyxx.zip\">familyxx.zip</A><br>     Wednesday, June 22, 2016 10:55 AM       787954 <A HREF=\"/pub/Health_Statistics/NCHS/Datasets/NHIS/2015/fmlydisb.zip\">fmlydisb.zip</A><br>     Wednesday, June 22, 2016 10:55 AM       498083 <A HREF=\"/pub/Health_Statistics/NCHS/Datasets/NHIS/2015/funcdisb.zip\">funcdisb.zip</A><br>     Wednesday, June 22, 2016 10:55 AM      1081686 <A HREF=\"/pub/Health_Statistics/NCHS/Datasets/NHIS/2015/househld.zip\">househld.zip</A><br>     Wednesday, June 22, 2016 10:55 AM       129497 <A HREF=\"/pub/Health_Statistics/NCHS/Datasets/NHIS/2015/injpoiep.zip\">injpoiep.zip</A><br>     Wednesday, June 22, 2016 10:55 AM      2903983 <A HREF=\"/pub/Health_Statistics/NCHS/Datasets/NHIS/2015/paradata.zip\">paradata.zip</A><br>     Wednesday, June 22, 2016 10:55 AM     10107724 <A HREF=\"/pub/Health_Statistics/NCHS/Datasets/NHIS/2015/personsx.zip\">personsx.zip</A><br>     Wednesday, June 22, 2016 10:55 AM      8052515 <A HREF=\"/pub/Health_Statistics/NCHS/Datasets/NHIS/2015/samadult.zip\">samadult.zip</A><br>     Wednesday, June 22, 2016 10:55 AM       906007 <A HREF=\"/pub/Health_Statistics/NCHS/Datasets/NHIS/2015/samchild.zip\">samchild.zip</A><br></pre><hr></body></html>\n",
      "================================================\n",
      "This is what the prettified contents looks like:\n",
      "================================================\n",
      "<html>\n",
      " <head>\n",
      "  <title>\n",
      "   ftp.cdc.gov - /pub/Health_Statistics/NCHS/Datasets/NHIS/2015/\n",
      "  </title>\n",
      " </head>\n",
      " <body>\n",
      "  <h1>\n",
      "   ftp.cdc.gov - /pub/Health_Statistics/NCHS/Datasets/NHIS/2015/\n",
      "  </h1>\n",
      "  <hr/>\n",
      "  <pre><a href=\"/pub/Health_Statistics/NCHS/Datasets/NHIS/\">[To Parent Directory]</a><br/><br/>    Tuesday, December 6, 2016  1:29 PM      6098348 <a href=\"/pub/Health_Statistics/NCHS/Datasets/NHIS/2015/cancerxx.zip\">cancerxx.zip</a><br/>     Wednesday, June 22, 2016 10:55 AM      2430305 <a href=\"/pub/Health_Statistics/NCHS/Datasets/NHIS/2015/familyxx.zip\">familyxx.zip</a><br/>     Wednesday, June 22, 2016 10:55 AM       787954 <a href=\"/pub/Health_Statistics/NCHS/Datasets/NHIS/2015/fmlydisb.zip\">fmlydisb.zip</a><br/>     Wednesday, June 22, 2016 10:55 AM       498083 <a href=\"/pub/Health_Statistics/NCHS/Datasets/NHIS/2015/funcdisb.zip\">funcdisb.zip</a><br/>     Wednesday, June 22, 2016 10:55 AM      1081686 <a href=\"/pub/Health_Statistics/NCHS/Datasets/NHIS/2015/househld.zip\">househld.zip</a><br/>     Wednesday, June 22, 2016 10:55 AM       129497 <a href=\"/pub/Health_Statistics/NCHS/Datasets/NHIS/2015/injpoiep.zip\">injpoiep.zip</a><br/>     Wednesday, June 22, 2016 10:55 AM      2903983 <a href=\"/pub/Health_Statistics/NCHS/Datasets/NHIS/2015/paradata.zip\">paradata.zip</a><br/>     Wednesday, June 22, 2016 10:55 AM     10107724 <a href=\"/pub/Health_Statistics/NCHS/Datasets/NHIS/2015/personsx.zip\">personsx.zip</a><br/>     Wednesday, June 22, 2016 10:55 AM      8052515 <a href=\"/pub/Health_Statistics/NCHS/Datasets/NHIS/2015/samadult.zip\">samadult.zip</a><br/>     Wednesday, June 22, 2016 10:55 AM       906007 <a href=\"/pub/Health_Statistics/NCHS/Datasets/NHIS/2015/samchild.zip\">samchild.zip</a><br/></pre>\n",
      "  <hr/>\n",
      " </body>\n",
      "</html>\n",
      "================================================\n"
     ]
    }
   ],
   "source": [
    "# Import packages\n",
    "import requests\n",
    "from bs4 import BeautifulSoup\n",
    "\n",
    "# Package the request, send the request and catch the response: r\n",
    "r=requests.get(BASE_URL)\n",
    "\n",
    "# Extracts the response as html: html_doc\n",
    "html_doc=r.text\n",
    "print (\"================================================\")\n",
    "print (\"This is what the raw results looks like:\")\n",
    "print (\"================================================\")\n",
    "print (html_doc)\n",
    "print (\"================================================\")\n",
    "\n",
    "# Create a BeautifulSoup object from the HTML: soup\n",
    "soup=BeautifulSoup(html_doc,'lxml')\n",
    "\n",
    "# Prettify the BeautifulSoup object: pretty_soup\n",
    "pretty_soup=soup.prettify()\n",
    "print (\"This is what the prettified contents looks like:\")\n",
    "print (\"================================================\")\n",
    "print (pretty_soup)\n",
    "print (\"================================================\")\n"
   ]
  },
  {
   "cell_type": "markdown",
   "metadata": {
    "slideshow": {
     "slide_type": "slide"
    }
   },
   "source": [
    "## Replacing content\n",
    "For instance, in this case, the <code>&lt;pre&gt;</code> tag is preventing the content to be nicely formatted.\n",
    "So why not just remove it and replace it with it's child elements"
   ]
  },
  {
   "cell_type": "code",
   "execution_count": 6,
   "metadata": {
    "collapsed": false,
    "slideshow": {
     "slide_type": "subslide"
    }
   },
   "outputs": [
    {
     "name": "stdout",
     "output_type": "stream",
     "text": [
      "<html>\n",
      " <head>\n",
      "  <title>\n",
      "   ftp.cdc.gov - /pub/Health_Statistics/NCHS/Datasets/NHIS/2015/\n",
      "  </title>\n",
      " </head>\n",
      " <body>\n",
      "  <h1>\n",
      "   ftp.cdc.gov - /pub/Health_Statistics/NCHS/Datasets/NHIS/2015/\n",
      "  </h1>\n",
      "  <hr/>\n",
      "  <a href=\"/pub/Health_Statistics/NCHS/Datasets/NHIS/\">\n",
      "   [To Parent Directory]\n",
      "  </a>\n",
      "  <br/>\n",
      "  <br/>\n",
      "  Tuesday, December 6, 2016  1:29 PM      6098348\n",
      "  <a href=\"/pub/Health_Statistics/NCHS/Datasets/NHIS/2015/cancerxx.zip\">\n",
      "   cancerxx.zip\n",
      "  </a>\n",
      "  <br/>\n",
      "  Wednesday, June 22, 2016 10:55 AM      2430305\n",
      "  <a href=\"/pub/Health_Statistics/NCHS/Datasets/NHIS/2015/familyxx.zip\">\n",
      "   familyxx.zip\n",
      "  </a>\n",
      "  <br/>\n",
      "  Wednesday, June 22, 2016 10:55 AM       787954\n",
      "  <a href=\"/pub/Health_Statistics/NCHS/Datasets/NHIS/2015/fmlydisb.zip\">\n",
      "   fmlydisb.zip\n",
      "  </a>\n",
      "  <br/>\n",
      "  Wednesday, June 22, 2016 10:55 AM       498083\n",
      "  <a href=\"/pub/Health_Statistics/NCHS/Datasets/NHIS/2015/funcdisb.zip\">\n",
      "   funcdisb.zip\n",
      "  </a>\n",
      "  <br/>\n",
      "  Wednesday, June 22, 2016 10:55 AM      1081686\n",
      "  <a href=\"/pub/Health_Statistics/NCHS/Datasets/NHIS/2015/househld.zip\">\n",
      "   househld.zip\n",
      "  </a>\n",
      "  <br/>\n",
      "  Wednesday, June 22, 2016 10:55 AM       129497\n",
      "  <a href=\"/pub/Health_Statistics/NCHS/Datasets/NHIS/2015/injpoiep.zip\">\n",
      "   injpoiep.zip\n",
      "  </a>\n",
      "  <br/>\n",
      "  Wednesday, June 22, 2016 10:55 AM      2903983\n",
      "  <a href=\"/pub/Health_Statistics/NCHS/Datasets/NHIS/2015/paradata.zip\">\n",
      "   paradata.zip\n",
      "  </a>\n",
      "  <br/>\n",
      "  Wednesday, June 22, 2016 10:55 AM     10107724\n",
      "  <a href=\"/pub/Health_Statistics/NCHS/Datasets/NHIS/2015/personsx.zip\">\n",
      "   personsx.zip\n",
      "  </a>\n",
      "  <br/>\n",
      "  Wednesday, June 22, 2016 10:55 AM      8052515\n",
      "  <a href=\"/pub/Health_Statistics/NCHS/Datasets/NHIS/2015/samadult.zip\">\n",
      "   samadult.zip\n",
      "  </a>\n",
      "  <br/>\n",
      "  Wednesday, June 22, 2016 10:55 AM       906007\n",
      "  <a href=\"/pub/Health_Statistics/NCHS/Datasets/NHIS/2015/samchild.zip\">\n",
      "   samchild.zip\n",
      "  </a>\n",
      "  <br/>\n",
      "  <hr/>\n",
      " </body>\n",
      "</html>\n"
     ]
    }
   ],
   "source": [
    "soup=BeautifulSoup(html_doc,'lxml')\n",
    "soup.pre.replace_with_children()\n",
    "print(soup.prettify())"
   ]
  },
  {
   "cell_type": "markdown",
   "metadata": {
    "slideshow": {
     "slide_type": "slide"
    }
   },
   "source": [
    "## Finding special tags\n",
    "Another neat feature of BeautifulSoup is the ability to locate tags by name."
   ]
  },
  {
   "cell_type": "code",
   "execution_count": 7,
   "metadata": {
    "collapsed": false,
    "slideshow": {
     "slide_type": "subslide"
    }
   },
   "outputs": [
    {
     "name": "stdout",
     "output_type": "stream",
     "text": [
      "Clicking string: \"[To Parent Directory]\", retrieves contents of URL: /pub/Health_Statistics/NCHS/Datasets/NHIS/.\n",
      "Clicking string: \"cancerxx.zip\", retrieves contents of URL: /pub/Health_Statistics/NCHS/Datasets/NHIS/2015/cancerxx.zip.\n",
      "Clicking string: \"familyxx.zip\", retrieves contents of URL: /pub/Health_Statistics/NCHS/Datasets/NHIS/2015/familyxx.zip.\n",
      "Clicking string: \"fmlydisb.zip\", retrieves contents of URL: /pub/Health_Statistics/NCHS/Datasets/NHIS/2015/fmlydisb.zip.\n",
      "Clicking string: \"funcdisb.zip\", retrieves contents of URL: /pub/Health_Statistics/NCHS/Datasets/NHIS/2015/funcdisb.zip.\n",
      "Clicking string: \"househld.zip\", retrieves contents of URL: /pub/Health_Statistics/NCHS/Datasets/NHIS/2015/househld.zip.\n",
      "Clicking string: \"injpoiep.zip\", retrieves contents of URL: /pub/Health_Statistics/NCHS/Datasets/NHIS/2015/injpoiep.zip.\n",
      "Clicking string: \"paradata.zip\", retrieves contents of URL: /pub/Health_Statistics/NCHS/Datasets/NHIS/2015/paradata.zip.\n",
      "Clicking string: \"personsx.zip\", retrieves contents of URL: /pub/Health_Statistics/NCHS/Datasets/NHIS/2015/personsx.zip.\n",
      "Clicking string: \"samadult.zip\", retrieves contents of URL: /pub/Health_Statistics/NCHS/Datasets/NHIS/2015/samadult.zip.\n",
      "Clicking string: \"samchild.zip\", retrieves contents of URL: /pub/Health_Statistics/NCHS/Datasets/NHIS/2015/samchild.zip.\n"
     ]
    }
   ],
   "source": [
    "# Find the links\n",
    "links=soup.find_all('a')\n",
    "\n",
    "# use link.get('href') to retrieve the contents of the href attribute of the HTML element\n",
    "for link in links:\n",
    "    print ('Clicking string: \"' + link.string + '\", retrieves contents of URL: '+link.get('href') +'.')"
   ]
  }
 ],
 "metadata": {
  "celltoolbar": "Slideshow",
  "kernelspec": {
   "display_name": "Python 3",
   "language": "python",
   "name": "python3"
  },
  "language_info": {
   "codemirror_mode": {
    "name": "ipython",
    "version": 3
   },
   "file_extension": ".py",
   "mimetype": "text/x-python",
   "name": "python",
   "nbconvert_exporter": "python",
   "pygments_lexer": "ipython3",
   "version": "3.6.0"
  }
 },
 "nbformat": 4,
 "nbformat_minor": 2
}
